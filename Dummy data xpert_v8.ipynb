{
 "cells": [
  {
   "cell_type": "code",
   "execution_count": 1,
   "metadata": {},
   "outputs": [],
   "source": [
    "import pandas as pd\n",
    "import numpy as np\n",
    "from faker import Faker"
   ]
  },
  {
   "cell_type": "markdown",
   "metadata": {},
   "source": [
    "### Training, Section and Question"
   ]
  },
  {
   "cell_type": "code",
   "execution_count": 10,
   "metadata": {},
   "outputs": [],
   "source": [
    "question_address = []\n",
    "for t in [1,2]:\n",
    "    for s in [1,2,3,4]:\n",
    "        for sub in [1,2,3,4,5]:\n",
    "            for q in [1,2,3,4,5,6]:\n",
    "                for a in [1,2,3]:\n",
    "                    question_address.append(\"Tra{}_Sec{}_Sub{}_Qus{}_Att{}\".format(t,s,sub,q,a))\n",
    "\n",
    "question_address.insert(0,\"user_name\") "
   ]
  },
  {
   "cell_type": "code",
   "execution_count": 11,
   "metadata": {},
   "outputs": [],
   "source": [
    "df_first_time = pd.DataFrame(columns=question_address)"
   ]
  },
  {
   "cell_type": "code",
   "execution_count": 12,
   "metadata": {},
   "outputs": [
    {
     "data": {
      "text/html": [
       "<div>\n",
       "<style scoped>\n",
       "    .dataframe tbody tr th:only-of-type {\n",
       "        vertical-align: middle;\n",
       "    }\n",
       "\n",
       "    .dataframe tbody tr th {\n",
       "        vertical-align: top;\n",
       "    }\n",
       "\n",
       "    .dataframe thead th {\n",
       "        text-align: right;\n",
       "    }\n",
       "</style>\n",
       "<table border=\"1\" class=\"dataframe\">\n",
       "  <thead>\n",
       "    <tr style=\"text-align: right;\">\n",
       "      <th></th>\n",
       "      <th>user_name</th>\n",
       "      <th>Tra1_Sec1_Sub1_Qus1_Att1</th>\n",
       "      <th>Tra1_Sec1_Sub1_Qus1_Att2</th>\n",
       "      <th>Tra1_Sec1_Sub1_Qus1_Att3</th>\n",
       "      <th>Tra1_Sec1_Sub1_Qus2_Att1</th>\n",
       "      <th>Tra1_Sec1_Sub1_Qus2_Att2</th>\n",
       "      <th>Tra1_Sec1_Sub1_Qus2_Att3</th>\n",
       "      <th>Tra1_Sec1_Sub1_Qus3_Att1</th>\n",
       "      <th>Tra1_Sec1_Sub1_Qus3_Att2</th>\n",
       "      <th>Tra1_Sec1_Sub1_Qus3_Att3</th>\n",
       "      <th>...</th>\n",
       "      <th>Tra2_Sec4_Sub5_Qus3_Att3</th>\n",
       "      <th>Tra2_Sec4_Sub5_Qus4_Att1</th>\n",
       "      <th>Tra2_Sec4_Sub5_Qus4_Att2</th>\n",
       "      <th>Tra2_Sec4_Sub5_Qus4_Att3</th>\n",
       "      <th>Tra2_Sec4_Sub5_Qus5_Att1</th>\n",
       "      <th>Tra2_Sec4_Sub5_Qus5_Att2</th>\n",
       "      <th>Tra2_Sec4_Sub5_Qus5_Att3</th>\n",
       "      <th>Tra2_Sec4_Sub5_Qus6_Att1</th>\n",
       "      <th>Tra2_Sec4_Sub5_Qus6_Att2</th>\n",
       "      <th>Tra2_Sec4_Sub5_Qus6_Att3</th>\n",
       "    </tr>\n",
       "  </thead>\n",
       "  <tbody>\n",
       "  </tbody>\n",
       "</table>\n",
       "<p>0 rows × 721 columns</p>\n",
       "</div>"
      ],
      "text/plain": [
       "Empty DataFrame\n",
       "Columns: [user_name, Tra1_Sec1_Sub1_Qus1_Att1, Tra1_Sec1_Sub1_Qus1_Att2, Tra1_Sec1_Sub1_Qus1_Att3, Tra1_Sec1_Sub1_Qus2_Att1, Tra1_Sec1_Sub1_Qus2_Att2, Tra1_Sec1_Sub1_Qus2_Att3, Tra1_Sec1_Sub1_Qus3_Att1, Tra1_Sec1_Sub1_Qus3_Att2, Tra1_Sec1_Sub1_Qus3_Att3, Tra1_Sec1_Sub1_Qus4_Att1, Tra1_Sec1_Sub1_Qus4_Att2, Tra1_Sec1_Sub1_Qus4_Att3, Tra1_Sec1_Sub1_Qus5_Att1, Tra1_Sec1_Sub1_Qus5_Att2, Tra1_Sec1_Sub1_Qus5_Att3, Tra1_Sec1_Sub1_Qus6_Att1, Tra1_Sec1_Sub1_Qus6_Att2, Tra1_Sec1_Sub1_Qus6_Att3, Tra1_Sec1_Sub2_Qus1_Att1, Tra1_Sec1_Sub2_Qus1_Att2, Tra1_Sec1_Sub2_Qus1_Att3, Tra1_Sec1_Sub2_Qus2_Att1, Tra1_Sec1_Sub2_Qus2_Att2, Tra1_Sec1_Sub2_Qus2_Att3, Tra1_Sec1_Sub2_Qus3_Att1, Tra1_Sec1_Sub2_Qus3_Att2, Tra1_Sec1_Sub2_Qus3_Att3, Tra1_Sec1_Sub2_Qus4_Att1, Tra1_Sec1_Sub2_Qus4_Att2, Tra1_Sec1_Sub2_Qus4_Att3, Tra1_Sec1_Sub2_Qus5_Att1, Tra1_Sec1_Sub2_Qus5_Att2, Tra1_Sec1_Sub2_Qus5_Att3, Tra1_Sec1_Sub2_Qus6_Att1, Tra1_Sec1_Sub2_Qus6_Att2, Tra1_Sec1_Sub2_Qus6_Att3, Tra1_Sec1_Sub3_Qus1_Att1, Tra1_Sec1_Sub3_Qus1_Att2, Tra1_Sec1_Sub3_Qus1_Att3, Tra1_Sec1_Sub3_Qus2_Att1, Tra1_Sec1_Sub3_Qus2_Att2, Tra1_Sec1_Sub3_Qus2_Att3, Tra1_Sec1_Sub3_Qus3_Att1, Tra1_Sec1_Sub3_Qus3_Att2, Tra1_Sec1_Sub3_Qus3_Att3, Tra1_Sec1_Sub3_Qus4_Att1, Tra1_Sec1_Sub3_Qus4_Att2, Tra1_Sec1_Sub3_Qus4_Att3, Tra1_Sec1_Sub3_Qus5_Att1, Tra1_Sec1_Sub3_Qus5_Att2, Tra1_Sec1_Sub3_Qus5_Att3, Tra1_Sec1_Sub3_Qus6_Att1, Tra1_Sec1_Sub3_Qus6_Att2, Tra1_Sec1_Sub3_Qus6_Att3, Tra1_Sec1_Sub4_Qus1_Att1, Tra1_Sec1_Sub4_Qus1_Att2, Tra1_Sec1_Sub4_Qus1_Att3, Tra1_Sec1_Sub4_Qus2_Att1, Tra1_Sec1_Sub4_Qus2_Att2, Tra1_Sec1_Sub4_Qus2_Att3, Tra1_Sec1_Sub4_Qus3_Att1, Tra1_Sec1_Sub4_Qus3_Att2, Tra1_Sec1_Sub4_Qus3_Att3, Tra1_Sec1_Sub4_Qus4_Att1, Tra1_Sec1_Sub4_Qus4_Att2, Tra1_Sec1_Sub4_Qus4_Att3, Tra1_Sec1_Sub4_Qus5_Att1, Tra1_Sec1_Sub4_Qus5_Att2, Tra1_Sec1_Sub4_Qus5_Att3, Tra1_Sec1_Sub4_Qus6_Att1, Tra1_Sec1_Sub4_Qus6_Att2, Tra1_Sec1_Sub4_Qus6_Att3, Tra1_Sec1_Sub5_Qus1_Att1, Tra1_Sec1_Sub5_Qus1_Att2, Tra1_Sec1_Sub5_Qus1_Att3, Tra1_Sec1_Sub5_Qus2_Att1, Tra1_Sec1_Sub5_Qus2_Att2, Tra1_Sec1_Sub5_Qus2_Att3, Tra1_Sec1_Sub5_Qus3_Att1, Tra1_Sec1_Sub5_Qus3_Att2, Tra1_Sec1_Sub5_Qus3_Att3, Tra1_Sec1_Sub5_Qus4_Att1, Tra1_Sec1_Sub5_Qus4_Att2, Tra1_Sec1_Sub5_Qus4_Att3, Tra1_Sec1_Sub5_Qus5_Att1, Tra1_Sec1_Sub5_Qus5_Att2, Tra1_Sec1_Sub5_Qus5_Att3, Tra1_Sec1_Sub5_Qus6_Att1, Tra1_Sec1_Sub5_Qus6_Att2, Tra1_Sec1_Sub5_Qus6_Att3, Tra1_Sec2_Sub1_Qus1_Att1, Tra1_Sec2_Sub1_Qus1_Att2, Tra1_Sec2_Sub1_Qus1_Att3, Tra1_Sec2_Sub1_Qus2_Att1, Tra1_Sec2_Sub1_Qus2_Att2, Tra1_Sec2_Sub1_Qus2_Att3, Tra1_Sec2_Sub1_Qus3_Att1, Tra1_Sec2_Sub1_Qus3_Att2, Tra1_Sec2_Sub1_Qus3_Att3, ...]\n",
       "Index: []\n",
       "\n",
       "[0 rows x 721 columns]"
      ]
     },
     "execution_count": 12,
     "metadata": {},
     "output_type": "execute_result"
    }
   ],
   "source": [
    "df_first_time.head(1)"
   ]
  },
  {
   "cell_type": "markdown",
   "metadata": {},
   "source": [
    "### User names"
   ]
  },
  {
   "cell_type": "code",
   "execution_count": 13,
   "metadata": {},
   "outputs": [],
   "source": [
    "fake = Faker('en_IN')\n"
   ]
  },
  {
   "cell_type": "code",
   "execution_count": 14,
   "metadata": {},
   "outputs": [],
   "source": [
    "names = []\n",
    "for _ in range(1008):\n",
    "    names.append(fake.name())\n",
    "\n",
    "\n",
    "names = list(set(names))"
   ]
  },
  {
   "cell_type": "code",
   "execution_count": 30,
   "metadata": {},
   "outputs": [],
   "source": [
    "df_first_time['user_name'] = names"
   ]
  },
  {
   "cell_type": "code",
   "execution_count": 51,
   "metadata": {},
   "outputs": [
    {
     "data": {
      "text/html": [
       "<div>\n",
       "<style scoped>\n",
       "    .dataframe tbody tr th:only-of-type {\n",
       "        vertical-align: middle;\n",
       "    }\n",
       "\n",
       "    .dataframe tbody tr th {\n",
       "        vertical-align: top;\n",
       "    }\n",
       "\n",
       "    .dataframe thead th {\n",
       "        text-align: right;\n",
       "    }\n",
       "</style>\n",
       "<table border=\"1\" class=\"dataframe\">\n",
       "  <thead>\n",
       "    <tr style=\"text-align: right;\">\n",
       "      <th></th>\n",
       "      <th>user_name</th>\n",
       "      <th>Tra1_Sec1_Sub1_Qus1_Att1</th>\n",
       "      <th>Tra1_Sec1_Sub1_Qus1_Att2</th>\n",
       "      <th>Tra1_Sec1_Sub1_Qus1_Att3</th>\n",
       "      <th>Tra1_Sec1_Sub1_Qus2_Att1</th>\n",
       "      <th>Tra1_Sec1_Sub1_Qus2_Att2</th>\n",
       "      <th>Tra1_Sec1_Sub1_Qus2_Att3</th>\n",
       "      <th>Tra1_Sec1_Sub1_Qus3_Att1</th>\n",
       "      <th>Tra1_Sec1_Sub1_Qus3_Att2</th>\n",
       "      <th>Tra1_Sec1_Sub1_Qus3_Att3</th>\n",
       "      <th>...</th>\n",
       "      <th>Tra2_Sec4_Sub5_Qus3_Att3</th>\n",
       "      <th>Tra2_Sec4_Sub5_Qus4_Att1</th>\n",
       "      <th>Tra2_Sec4_Sub5_Qus4_Att2</th>\n",
       "      <th>Tra2_Sec4_Sub5_Qus4_Att3</th>\n",
       "      <th>Tra2_Sec4_Sub5_Qus5_Att1</th>\n",
       "      <th>Tra2_Sec4_Sub5_Qus5_Att2</th>\n",
       "      <th>Tra2_Sec4_Sub5_Qus5_Att3</th>\n",
       "      <th>Tra2_Sec4_Sub5_Qus6_Att1</th>\n",
       "      <th>Tra2_Sec4_Sub5_Qus6_Att2</th>\n",
       "      <th>Tra2_Sec4_Sub5_Qus6_Att3</th>\n",
       "    </tr>\n",
       "  </thead>\n",
       "  <tbody>\n",
       "    <tr>\n",
       "      <th>0</th>\n",
       "      <td>Emir Kumar</td>\n",
       "      <td>0</td>\n",
       "      <td>0</td>\n",
       "      <td>0</td>\n",
       "      <td>1</td>\n",
       "      <td>1</td>\n",
       "      <td>0</td>\n",
       "      <td>0</td>\n",
       "      <td>0</td>\n",
       "      <td>0</td>\n",
       "      <td>...</td>\n",
       "      <td>0</td>\n",
       "      <td>0</td>\n",
       "      <td>1</td>\n",
       "      <td>0</td>\n",
       "      <td>0</td>\n",
       "      <td>0</td>\n",
       "      <td>0</td>\n",
       "      <td>0</td>\n",
       "      <td>0</td>\n",
       "      <td>0</td>\n",
       "    </tr>\n",
       "  </tbody>\n",
       "</table>\n",
       "<p>1 rows × 721 columns</p>\n",
       "</div>"
      ],
      "text/plain": [
       "    user_name Tra1_Sec1_Sub1_Qus1_Att1 Tra1_Sec1_Sub1_Qus1_Att2  \\\n",
       "0  Emir Kumar                        0                        0   \n",
       "\n",
       "  Tra1_Sec1_Sub1_Qus1_Att3 Tra1_Sec1_Sub1_Qus2_Att1 Tra1_Sec1_Sub1_Qus2_Att2  \\\n",
       "0                        0                        1                        1   \n",
       "\n",
       "  Tra1_Sec1_Sub1_Qus2_Att3 Tra1_Sec1_Sub1_Qus3_Att1 Tra1_Sec1_Sub1_Qus3_Att2  \\\n",
       "0                        0                        0                        0   \n",
       "\n",
       "  Tra1_Sec1_Sub1_Qus3_Att3  ... Tra2_Sec4_Sub5_Qus3_Att3  \\\n",
       "0                        0  ...                        0   \n",
       "\n",
       "  Tra2_Sec4_Sub5_Qus4_Att1 Tra2_Sec4_Sub5_Qus4_Att2 Tra2_Sec4_Sub5_Qus4_Att3  \\\n",
       "0                        0                        1                        0   \n",
       "\n",
       "  Tra2_Sec4_Sub5_Qus5_Att1 Tra2_Sec4_Sub5_Qus5_Att2 Tra2_Sec4_Sub5_Qus5_Att3  \\\n",
       "0                        0                        0                        0   \n",
       "\n",
       "  Tra2_Sec4_Sub5_Qus6_Att1 Tra2_Sec4_Sub5_Qus6_Att2 Tra2_Sec4_Sub5_Qus6_Att3  \n",
       "0                        0                        0                        0  \n",
       "\n",
       "[1 rows x 721 columns]"
      ]
     },
     "execution_count": 51,
     "metadata": {},
     "output_type": "execute_result"
    }
   ],
   "source": [
    "df_first_time.head(1)"
   ]
  },
  {
   "cell_type": "markdown",
   "metadata": {},
   "source": [
    "### First time score"
   ]
  },
  {
   "cell_type": "code",
   "execution_count": 53,
   "metadata": {
    "scrolled": true
   },
   "outputs": [
    {
     "name": "stdout",
     "output_type": "stream",
     "text": [
      "0\n",
      "1\n",
      "2\n",
      "3\n",
      "4\n",
      "5\n",
      "6\n",
      "7\n",
      "8\n",
      "9\n",
      "10\n",
      "11\n",
      "12\n",
      "13\n",
      "14\n",
      "15\n",
      "16\n",
      "17\n",
      "18\n",
      "19\n",
      "20\n",
      "21\n",
      "22\n",
      "23\n",
      "24\n",
      "25\n",
      "26\n",
      "27\n",
      "28\n",
      "29\n",
      "30\n",
      "31\n",
      "32\n",
      "33\n",
      "34\n",
      "35\n",
      "36\n",
      "37\n",
      "38\n",
      "39\n",
      "40\n",
      "41\n",
      "42\n",
      "43\n",
      "44\n",
      "45\n",
      "46\n",
      "47\n",
      "48\n",
      "49\n",
      "50\n",
      "51\n",
      "52\n",
      "53\n",
      "54\n",
      "55\n",
      "56\n",
      "57\n",
      "58\n",
      "59\n",
      "60\n",
      "61\n",
      "62\n",
      "63\n",
      "64\n",
      "65\n",
      "66\n",
      "67\n",
      "68\n",
      "69\n",
      "70\n",
      "71\n",
      "72\n",
      "73\n",
      "74\n",
      "75\n",
      "76\n",
      "77\n",
      "78\n",
      "79\n",
      "80\n",
      "81\n",
      "82\n",
      "83\n",
      "84\n",
      "85\n",
      "86\n",
      "87\n",
      "88\n",
      "89\n",
      "90\n",
      "91\n",
      "92\n",
      "93\n",
      "94\n",
      "95\n",
      "96\n",
      "97\n",
      "98\n",
      "99\n",
      "100\n",
      "101\n",
      "102\n",
      "103\n",
      "104\n",
      "105\n",
      "106\n",
      "107\n",
      "108\n",
      "109\n",
      "110\n",
      "111\n",
      "112\n",
      "113\n",
      "114\n",
      "115\n",
      "116\n",
      "117\n",
      "118\n",
      "119\n",
      "120\n",
      "121\n",
      "122\n",
      "123\n",
      "124\n",
      "125\n",
      "126\n",
      "127\n",
      "128\n",
      "129\n",
      "130\n",
      "131\n",
      "132\n",
      "133\n",
      "134\n",
      "135\n",
      "136\n",
      "137\n",
      "138\n",
      "139\n",
      "140\n",
      "141\n",
      "142\n",
      "143\n",
      "144\n",
      "145\n",
      "146\n",
      "147\n",
      "148\n",
      "149\n",
      "150\n",
      "151\n",
      "152\n",
      "153\n",
      "154\n",
      "155\n",
      "156\n",
      "157\n",
      "158\n",
      "159\n",
      "160\n",
      "161\n",
      "162\n",
      "163\n",
      "164\n",
      "165\n",
      "166\n",
      "167\n",
      "168\n",
      "169\n",
      "170\n",
      "171\n",
      "172\n",
      "173\n",
      "174\n",
      "175\n",
      "176\n",
      "177\n",
      "178\n",
      "179\n",
      "180\n",
      "181\n",
      "182\n",
      "183\n",
      "184\n",
      "185\n",
      "186\n",
      "187\n",
      "188\n",
      "189\n",
      "190\n",
      "191\n",
      "192\n",
      "193\n",
      "194\n",
      "195\n",
      "196\n",
      "197\n",
      "198\n",
      "199\n",
      "200\n",
      "201\n",
      "202\n",
      "203\n",
      "204\n",
      "205\n",
      "206\n",
      "207\n",
      "208\n",
      "209\n",
      "210\n",
      "211\n",
      "212\n",
      "213\n",
      "214\n",
      "215\n",
      "216\n",
      "217\n",
      "218\n",
      "219\n",
      "220\n",
      "221\n",
      "222\n",
      "223\n",
      "224\n",
      "225\n",
      "226\n",
      "227\n",
      "228\n",
      "229\n",
      "230\n",
      "231\n",
      "232\n",
      "233\n",
      "234\n",
      "235\n",
      "236\n",
      "237\n",
      "238\n",
      "239\n",
      "240\n",
      "241\n",
      "242\n",
      "243\n",
      "244\n",
      "245\n",
      "246\n",
      "247\n",
      "248\n",
      "249\n",
      "250\n",
      "251\n",
      "252\n",
      "253\n",
      "254\n",
      "255\n",
      "256\n",
      "257\n",
      "258\n",
      "259\n",
      "260\n",
      "261\n",
      "262\n",
      "263\n",
      "264\n",
      "265\n",
      "266\n",
      "267\n",
      "268\n",
      "269\n",
      "270\n",
      "271\n",
      "272\n",
      "273\n",
      "274\n",
      "275\n",
      "276\n",
      "277\n",
      "278\n",
      "279\n",
      "280\n",
      "281\n",
      "282\n",
      "283\n",
      "284\n",
      "285\n",
      "286\n",
      "287\n",
      "288\n",
      "289\n",
      "290\n",
      "291\n",
      "292\n",
      "293\n",
      "294\n",
      "295\n",
      "296\n",
      "297\n",
      "298\n",
      "299\n",
      "300\n",
      "301\n",
      "302\n",
      "303\n",
      "304\n",
      "305\n",
      "306\n",
      "307\n",
      "308\n",
      "309\n",
      "310\n",
      "311\n",
      "312\n",
      "313\n",
      "314\n",
      "315\n",
      "316\n",
      "317\n",
      "318\n",
      "319\n",
      "320\n",
      "321\n",
      "322\n",
      "323\n",
      "324\n",
      "325\n",
      "326\n",
      "327\n",
      "328\n",
      "329\n",
      "330\n",
      "331\n",
      "332\n",
      "333\n",
      "334\n",
      "335\n",
      "336\n",
      "337\n",
      "338\n",
      "339\n",
      "340\n",
      "341\n",
      "342\n",
      "343\n",
      "344\n",
      "345\n",
      "346\n",
      "347\n",
      "348\n",
      "349\n",
      "350\n",
      "351\n",
      "352\n",
      "353\n",
      "354\n",
      "355\n",
      "356\n",
      "357\n",
      "358\n",
      "359\n",
      "360\n",
      "361\n",
      "362\n",
      "363\n",
      "364\n",
      "365\n",
      "366\n",
      "367\n",
      "368\n",
      "369\n",
      "370\n",
      "371\n",
      "372\n",
      "373\n",
      "374\n",
      "375\n",
      "376\n",
      "377\n",
      "378\n",
      "379\n",
      "380\n",
      "381\n",
      "382\n",
      "383\n",
      "384\n",
      "385\n",
      "386\n",
      "387\n",
      "388\n",
      "389\n",
      "390\n",
      "391\n",
      "392\n",
      "393\n",
      "394\n",
      "395\n",
      "396\n",
      "397\n",
      "398\n",
      "399\n",
      "400\n",
      "401\n",
      "402\n",
      "403\n",
      "404\n",
      "405\n",
      "406\n",
      "407\n",
      "408\n",
      "409\n",
      "410\n",
      "411\n",
      "412\n",
      "413\n",
      "414\n",
      "415\n",
      "416\n",
      "417\n",
      "418\n",
      "419\n",
      "420\n",
      "421\n",
      "422\n",
      "423\n",
      "424\n",
      "425\n",
      "426\n",
      "427\n",
      "428\n",
      "429\n",
      "430\n",
      "431\n",
      "432\n",
      "433\n",
      "434\n",
      "435\n",
      "436\n",
      "437\n",
      "438\n",
      "439\n",
      "440\n",
      "441\n",
      "442\n",
      "443\n",
      "444\n",
      "445\n",
      "446\n",
      "447\n",
      "448\n",
      "449\n",
      "450\n",
      "451\n",
      "452\n",
      "453\n",
      "454\n",
      "455\n",
      "456\n",
      "457\n",
      "458\n",
      "459\n",
      "460\n",
      "461\n",
      "462\n",
      "463\n",
      "464\n",
      "465\n",
      "466\n",
      "467\n",
      "468\n",
      "469\n",
      "470\n",
      "471\n",
      "472\n",
      "473\n",
      "474\n",
      "475\n",
      "476\n",
      "477\n",
      "478\n",
      "479\n",
      "480\n",
      "481\n",
      "482\n",
      "483\n",
      "484\n",
      "485\n",
      "486\n",
      "487\n",
      "488\n",
      "489\n",
      "490\n",
      "491\n",
      "492\n",
      "493\n",
      "494\n",
      "495\n",
      "496\n",
      "497\n",
      "498\n",
      "499\n",
      "500\n",
      "501\n",
      "502\n",
      "503\n",
      "504\n",
      "505\n",
      "506\n",
      "507\n",
      "508\n",
      "509\n",
      "510\n",
      "511\n",
      "512\n",
      "513\n",
      "514\n",
      "515\n",
      "516\n",
      "517\n",
      "518\n",
      "519\n",
      "520\n",
      "521\n",
      "522\n",
      "523\n",
      "524\n",
      "525\n",
      "526\n",
      "527\n",
      "528\n",
      "529\n",
      "530\n",
      "531\n",
      "532\n",
      "533\n",
      "534\n",
      "535\n",
      "536\n",
      "537\n",
      "538\n",
      "539\n",
      "540\n",
      "541\n",
      "542\n",
      "543\n",
      "544\n",
      "545\n",
      "546\n",
      "547\n",
      "548\n",
      "549\n",
      "550\n",
      "551\n",
      "552\n",
      "553\n",
      "554\n",
      "555\n",
      "556\n",
      "557\n",
      "558\n",
      "559\n",
      "560\n",
      "561\n",
      "562\n",
      "563\n",
      "564\n",
      "565\n",
      "566\n",
      "567\n",
      "568\n",
      "569\n",
      "570\n",
      "571\n",
      "572\n",
      "573\n",
      "574\n",
      "575\n",
      "576\n",
      "577\n",
      "578\n",
      "579\n",
      "580\n",
      "581\n",
      "582\n",
      "583\n",
      "584\n",
      "585\n",
      "586\n",
      "587\n",
      "588\n",
      "589\n",
      "590\n",
      "591\n",
      "592\n",
      "593\n",
      "594\n",
      "595\n",
      "596\n",
      "597\n",
      "598\n",
      "599\n",
      "600\n",
      "601\n",
      "602\n",
      "603\n",
      "604\n",
      "605\n",
      "606\n",
      "607\n",
      "608\n",
      "609\n",
      "610\n",
      "611\n",
      "612\n",
      "613\n",
      "614\n",
      "615\n",
      "616\n",
      "617\n",
      "618\n",
      "619\n",
      "620\n",
      "621\n",
      "622\n",
      "623\n",
      "624\n",
      "625\n",
      "626\n",
      "627\n",
      "628\n",
      "629\n",
      "630\n",
      "631\n",
      "632\n",
      "633\n",
      "634\n",
      "635\n",
      "636\n",
      "637\n",
      "638\n",
      "639\n",
      "640\n",
      "641\n",
      "642\n",
      "643\n",
      "644\n",
      "645\n",
      "646\n",
      "647\n",
      "648\n",
      "649\n",
      "650\n",
      "651\n",
      "652\n",
      "653\n",
      "654\n",
      "655\n",
      "656\n",
      "657\n",
      "658\n",
      "659\n",
      "660\n",
      "661\n",
      "662\n",
      "663\n",
      "664\n",
      "665\n",
      "666\n",
      "667\n",
      "668\n",
      "669\n",
      "670\n",
      "671\n",
      "672\n",
      "673\n",
      "674\n",
      "675\n",
      "676\n",
      "677\n",
      "678\n",
      "679\n",
      "680\n",
      "681\n",
      "682\n",
      "683\n",
      "684\n",
      "685\n",
      "686\n",
      "687\n",
      "688\n",
      "689\n",
      "690\n",
      "691\n",
      "692\n",
      "693\n",
      "694\n",
      "695\n",
      "696\n",
      "697\n",
      "698\n",
      "699\n",
      "700\n",
      "701\n",
      "702\n",
      "703\n",
      "704\n",
      "705\n",
      "706\n",
      "707\n",
      "708\n",
      "709\n",
      "710\n",
      "711\n",
      "712\n",
      "713\n",
      "714\n",
      "715\n",
      "716\n",
      "717\n",
      "718\n",
      "719\n",
      "720\n",
      "721\n",
      "722\n",
      "723\n",
      "724\n",
      "725\n",
      "726\n",
      "727\n",
      "728\n",
      "729\n",
      "730\n",
      "731\n",
      "732\n",
      "733\n",
      "734\n",
      "735\n",
      "736\n",
      "737\n",
      "738\n",
      "739\n",
      "740\n",
      "741\n",
      "742\n",
      "743\n",
      "744\n",
      "745\n",
      "746\n",
      "747\n",
      "748\n",
      "749\n",
      "750\n",
      "751\n",
      "752\n",
      "753\n",
      "754\n",
      "755\n",
      "756\n",
      "757\n",
      "758\n",
      "759\n",
      "760\n",
      "761\n",
      "762\n",
      "763\n",
      "764\n",
      "765\n",
      "766\n",
      "767\n",
      "768\n",
      "769\n",
      "770\n",
      "771\n",
      "772\n",
      "773\n",
      "774\n",
      "775\n",
      "776\n",
      "777\n",
      "778\n",
      "779\n",
      "780\n",
      "781\n",
      "782\n",
      "783\n",
      "784\n",
      "785\n",
      "786\n",
      "787\n",
      "788\n",
      "789\n",
      "790\n",
      "791\n",
      "792\n",
      "793\n",
      "794\n",
      "795\n",
      "796\n",
      "797\n",
      "798\n",
      "799\n",
      "800\n",
      "801\n",
      "802\n",
      "803\n",
      "804\n",
      "805\n",
      "806\n",
      "807\n",
      "808\n",
      "809\n",
      "810\n",
      "811\n",
      "812\n",
      "813\n",
      "814\n",
      "815\n",
      "816\n",
      "817\n",
      "818\n",
      "819\n",
      "820\n",
      "821\n",
      "822\n",
      "823\n",
      "824\n",
      "825\n",
      "826\n",
      "827\n",
      "828\n",
      "829\n",
      "830\n",
      "831\n",
      "832\n",
      "833\n",
      "834\n",
      "835\n",
      "836\n",
      "837\n",
      "838\n",
      "839\n",
      "840\n",
      "841\n",
      "842\n",
      "843\n",
      "844\n",
      "845\n",
      "846\n",
      "847\n",
      "848\n",
      "849\n",
      "850\n",
      "851\n",
      "852\n",
      "853\n",
      "854\n",
      "855\n",
      "856\n",
      "857\n",
      "858\n",
      "859\n",
      "860\n",
      "861\n",
      "862\n",
      "863\n",
      "864\n",
      "865\n",
      "866\n",
      "867\n",
      "868\n",
      "869\n",
      "870\n",
      "871\n",
      "872\n",
      "873\n",
      "874\n",
      "875\n",
      "876\n",
      "877\n",
      "878\n",
      "879\n",
      "880\n",
      "881\n",
      "882\n",
      "883\n",
      "884\n",
      "885\n",
      "886\n",
      "887\n",
      "888\n",
      "889\n",
      "890\n",
      "891\n",
      "892\n",
      "893\n",
      "894\n",
      "895\n",
      "896\n",
      "897\n",
      "898\n",
      "899\n",
      "900\n",
      "901\n",
      "902\n",
      "903\n",
      "904\n",
      "905\n",
      "906\n",
      "907\n",
      "908\n",
      "909\n",
      "910\n",
      "911\n",
      "912\n",
      "913\n",
      "914\n",
      "915\n",
      "916\n",
      "917\n",
      "918\n",
      "919\n",
      "920\n",
      "921\n",
      "922\n",
      "923\n",
      "924\n",
      "925\n",
      "926\n",
      "927\n",
      "928\n",
      "929\n",
      "930\n",
      "931\n",
      "932\n",
      "933\n",
      "934\n",
      "935\n",
      "936\n",
      "937\n",
      "938\n",
      "939\n",
      "940\n",
      "941\n",
      "942\n",
      "943\n",
      "944\n",
      "945\n",
      "946\n",
      "947\n",
      "948\n",
      "949\n",
      "950\n",
      "951\n",
      "952\n",
      "953\n",
      "954\n",
      "955\n",
      "956\n",
      "957\n",
      "958\n",
      "959\n",
      "960\n",
      "961\n",
      "962\n",
      "963\n",
      "964\n",
      "965\n",
      "966\n",
      "967\n",
      "968\n",
      "969\n",
      "970\n",
      "971\n",
      "972\n",
      "973\n",
      "974\n",
      "975\n",
      "976\n",
      "977\n",
      "978\n",
      "979\n",
      "980\n",
      "981\n",
      "982\n",
      "983\n",
      "984\n",
      "985\n",
      "986\n",
      "987\n",
      "988\n",
      "989\n",
      "990\n",
      "991\n",
      "992\n",
      "993\n",
      "994\n",
      "995\n",
      "996\n",
      "997\n",
      "998\n",
      "999\n",
      "1000\n",
      "1001\n",
      "1002\n",
      "1003\n",
      "1004\n",
      "CPU times: user 1min 38s, sys: 1.33 s, total: 1min 39s\n",
      "Wall time: 1min 41s\n"
     ]
    }
   ],
   "source": [
    "%%time\n",
    "# ToDo (Shivam): Make this fast\n",
    "\n",
    "for i in np.arange(0,df_first_time.shape[0]):\n",
    "    print(i)  # ToDo(Shivam): Replace this print statement with a percentage compeltion number updating on it's own\n",
    "    for col in df_first_time.columns[1:]:\n",
    "        if i <= round(df_first_time.shape[0]/4):\n",
    "            if np.random.normal(0.4,0.2)>0.5:\n",
    "                df_first_time.loc[i,col] = 1\n",
    "            else:\n",
    "                df_first_time.loc[i,col] = 0\n",
    "        elif i <= round(df_first_time.shape[0]/2):\n",
    "            if np.random.normal(0.8,0.2)>0.5:\n",
    "                df_first_time.loc[i,col] = 1\n",
    "            else:\n",
    "                df_first_time.loc[i,col] = 0\n",
    "        elif i <= (df_first_time.shape[0]-round(df_first_time.shape[0]/4)):\n",
    "            if np.random.normal(df_first_time.columns[1:].get_loc(col)/df_first_time.shape[1],0.2)>0.5:\n",
    "                df_first_time.loc[i,col] = 1\n",
    "            else:\n",
    "                df_first_time.loc[i,col] = 0\n",
    "        else:\n",
    "            if np.random.normal(1-df_first_time.columns[1:].get_loc(col)/df_first_time.shape[1],0.2)>0.5:\n",
    "                df_first_time.loc[i,col] = 1\n",
    "            else:\n",
    "                df_first_time.loc[i,col] = 0\n",
    "            \n"
   ]
  },
  {
   "cell_type": "code",
   "execution_count": 55,
   "metadata": {},
   "outputs": [
    {
     "data": {
      "text/html": [
       "<div>\n",
       "<style scoped>\n",
       "    .dataframe tbody tr th:only-of-type {\n",
       "        vertical-align: middle;\n",
       "    }\n",
       "\n",
       "    .dataframe tbody tr th {\n",
       "        vertical-align: top;\n",
       "    }\n",
       "\n",
       "    .dataframe thead th {\n",
       "        text-align: right;\n",
       "    }\n",
       "</style>\n",
       "<table border=\"1\" class=\"dataframe\">\n",
       "  <thead>\n",
       "    <tr style=\"text-align: right;\">\n",
       "      <th></th>\n",
       "      <th>user_name</th>\n",
       "      <th>Tra1_Sec1_Sub1_Qus1_Att1</th>\n",
       "      <th>Tra1_Sec1_Sub1_Qus1_Att2</th>\n",
       "      <th>Tra1_Sec1_Sub1_Qus1_Att3</th>\n",
       "      <th>Tra1_Sec1_Sub1_Qus2_Att1</th>\n",
       "      <th>Tra1_Sec1_Sub1_Qus2_Att2</th>\n",
       "      <th>Tra1_Sec1_Sub1_Qus2_Att3</th>\n",
       "      <th>Tra1_Sec1_Sub1_Qus3_Att1</th>\n",
       "      <th>Tra1_Sec1_Sub1_Qus3_Att2</th>\n",
       "      <th>Tra1_Sec1_Sub1_Qus3_Att3</th>\n",
       "      <th>...</th>\n",
       "      <th>Tra2_Sec4_Sub5_Qus3_Att3</th>\n",
       "      <th>Tra2_Sec4_Sub5_Qus4_Att1</th>\n",
       "      <th>Tra2_Sec4_Sub5_Qus4_Att2</th>\n",
       "      <th>Tra2_Sec4_Sub5_Qus4_Att3</th>\n",
       "      <th>Tra2_Sec4_Sub5_Qus5_Att1</th>\n",
       "      <th>Tra2_Sec4_Sub5_Qus5_Att2</th>\n",
       "      <th>Tra2_Sec4_Sub5_Qus5_Att3</th>\n",
       "      <th>Tra2_Sec4_Sub5_Qus6_Att1</th>\n",
       "      <th>Tra2_Sec4_Sub5_Qus6_Att2</th>\n",
       "      <th>Tra2_Sec4_Sub5_Qus6_Att3</th>\n",
       "    </tr>\n",
       "  </thead>\n",
       "  <tbody>\n",
       "    <tr>\n",
       "      <th>1000</th>\n",
       "      <td>Rhea Lad</td>\n",
       "      <td>1</td>\n",
       "      <td>1</td>\n",
       "      <td>1</td>\n",
       "      <td>1</td>\n",
       "      <td>1</td>\n",
       "      <td>1</td>\n",
       "      <td>1</td>\n",
       "      <td>1</td>\n",
       "      <td>1</td>\n",
       "      <td>...</td>\n",
       "      <td>0</td>\n",
       "      <td>0</td>\n",
       "      <td>0</td>\n",
       "      <td>0</td>\n",
       "      <td>0</td>\n",
       "      <td>0</td>\n",
       "      <td>0</td>\n",
       "      <td>0</td>\n",
       "      <td>0</td>\n",
       "      <td>0</td>\n",
       "    </tr>\n",
       "    <tr>\n",
       "      <th>1001</th>\n",
       "      <td>Yakshit Brar</td>\n",
       "      <td>1</td>\n",
       "      <td>1</td>\n",
       "      <td>1</td>\n",
       "      <td>1</td>\n",
       "      <td>1</td>\n",
       "      <td>1</td>\n",
       "      <td>1</td>\n",
       "      <td>1</td>\n",
       "      <td>1</td>\n",
       "      <td>...</td>\n",
       "      <td>0</td>\n",
       "      <td>0</td>\n",
       "      <td>0</td>\n",
       "      <td>0</td>\n",
       "      <td>0</td>\n",
       "      <td>0</td>\n",
       "      <td>0</td>\n",
       "      <td>0</td>\n",
       "      <td>0</td>\n",
       "      <td>0</td>\n",
       "    </tr>\n",
       "    <tr>\n",
       "      <th>1002</th>\n",
       "      <td>Rohan Chhabra</td>\n",
       "      <td>1</td>\n",
       "      <td>1</td>\n",
       "      <td>1</td>\n",
       "      <td>1</td>\n",
       "      <td>1</td>\n",
       "      <td>1</td>\n",
       "      <td>1</td>\n",
       "      <td>1</td>\n",
       "      <td>1</td>\n",
       "      <td>...</td>\n",
       "      <td>0</td>\n",
       "      <td>0</td>\n",
       "      <td>0</td>\n",
       "      <td>0</td>\n",
       "      <td>0</td>\n",
       "      <td>0</td>\n",
       "      <td>0</td>\n",
       "      <td>0</td>\n",
       "      <td>0</td>\n",
       "      <td>0</td>\n",
       "    </tr>\n",
       "    <tr>\n",
       "      <th>1003</th>\n",
       "      <td>Vaibhav Borra</td>\n",
       "      <td>1</td>\n",
       "      <td>1</td>\n",
       "      <td>1</td>\n",
       "      <td>1</td>\n",
       "      <td>1</td>\n",
       "      <td>1</td>\n",
       "      <td>1</td>\n",
       "      <td>1</td>\n",
       "      <td>1</td>\n",
       "      <td>...</td>\n",
       "      <td>0</td>\n",
       "      <td>0</td>\n",
       "      <td>0</td>\n",
       "      <td>0</td>\n",
       "      <td>0</td>\n",
       "      <td>0</td>\n",
       "      <td>0</td>\n",
       "      <td>0</td>\n",
       "      <td>0</td>\n",
       "      <td>0</td>\n",
       "    </tr>\n",
       "    <tr>\n",
       "      <th>1004</th>\n",
       "      <td>Nayantara Yogi</td>\n",
       "      <td>1</td>\n",
       "      <td>1</td>\n",
       "      <td>1</td>\n",
       "      <td>1</td>\n",
       "      <td>1</td>\n",
       "      <td>1</td>\n",
       "      <td>1</td>\n",
       "      <td>1</td>\n",
       "      <td>1</td>\n",
       "      <td>...</td>\n",
       "      <td>0</td>\n",
       "      <td>0</td>\n",
       "      <td>0</td>\n",
       "      <td>0</td>\n",
       "      <td>0</td>\n",
       "      <td>0</td>\n",
       "      <td>0</td>\n",
       "      <td>0</td>\n",
       "      <td>0</td>\n",
       "      <td>0</td>\n",
       "    </tr>\n",
       "  </tbody>\n",
       "</table>\n",
       "<p>5 rows × 721 columns</p>\n",
       "</div>"
      ],
      "text/plain": [
       "           user_name Tra1_Sec1_Sub1_Qus1_Att1 Tra1_Sec1_Sub1_Qus1_Att2  \\\n",
       "1000        Rhea Lad                        1                        1   \n",
       "1001    Yakshit Brar                        1                        1   \n",
       "1002   Rohan Chhabra                        1                        1   \n",
       "1003   Vaibhav Borra                        1                        1   \n",
       "1004  Nayantara Yogi                        1                        1   \n",
       "\n",
       "     Tra1_Sec1_Sub1_Qus1_Att3 Tra1_Sec1_Sub1_Qus2_Att1  \\\n",
       "1000                        1                        1   \n",
       "1001                        1                        1   \n",
       "1002                        1                        1   \n",
       "1003                        1                        1   \n",
       "1004                        1                        1   \n",
       "\n",
       "     Tra1_Sec1_Sub1_Qus2_Att2 Tra1_Sec1_Sub1_Qus2_Att3  \\\n",
       "1000                        1                        1   \n",
       "1001                        1                        1   \n",
       "1002                        1                        1   \n",
       "1003                        1                        1   \n",
       "1004                        1                        1   \n",
       "\n",
       "     Tra1_Sec1_Sub1_Qus3_Att1 Tra1_Sec1_Sub1_Qus3_Att2  \\\n",
       "1000                        1                        1   \n",
       "1001                        1                        1   \n",
       "1002                        1                        1   \n",
       "1003                        1                        1   \n",
       "1004                        1                        1   \n",
       "\n",
       "     Tra1_Sec1_Sub1_Qus3_Att3  ... Tra2_Sec4_Sub5_Qus3_Att3  \\\n",
       "1000                        1  ...                        0   \n",
       "1001                        1  ...                        0   \n",
       "1002                        1  ...                        0   \n",
       "1003                        1  ...                        0   \n",
       "1004                        1  ...                        0   \n",
       "\n",
       "     Tra2_Sec4_Sub5_Qus4_Att1 Tra2_Sec4_Sub5_Qus4_Att2  \\\n",
       "1000                        0                        0   \n",
       "1001                        0                        0   \n",
       "1002                        0                        0   \n",
       "1003                        0                        0   \n",
       "1004                        0                        0   \n",
       "\n",
       "     Tra2_Sec4_Sub5_Qus4_Att3 Tra2_Sec4_Sub5_Qus5_Att1  \\\n",
       "1000                        0                        0   \n",
       "1001                        0                        0   \n",
       "1002                        0                        0   \n",
       "1003                        0                        0   \n",
       "1004                        0                        0   \n",
       "\n",
       "     Tra2_Sec4_Sub5_Qus5_Att2 Tra2_Sec4_Sub5_Qus5_Att3  \\\n",
       "1000                        0                        0   \n",
       "1001                        0                        0   \n",
       "1002                        0                        0   \n",
       "1003                        0                        0   \n",
       "1004                        0                        0   \n",
       "\n",
       "     Tra2_Sec4_Sub5_Qus6_Att1 Tra2_Sec4_Sub5_Qus6_Att2  \\\n",
       "1000                        0                        0   \n",
       "1001                        0                        0   \n",
       "1002                        0                        0   \n",
       "1003                        0                        0   \n",
       "1004                        0                        0   \n",
       "\n",
       "     Tra2_Sec4_Sub5_Qus6_Att3  \n",
       "1000                        0  \n",
       "1001                        0  \n",
       "1002                        0  \n",
       "1003                        0  \n",
       "1004                        0  \n",
       "\n",
       "[5 rows x 721 columns]"
      ]
     },
     "execution_count": 55,
     "metadata": {},
     "output_type": "execute_result"
    }
   ],
   "source": [
    "df_first_time.tail()"
   ]
  },
  {
   "cell_type": "markdown",
   "metadata": {},
   "source": [
    "### Writing data to Excel"
   ]
  },
  {
   "cell_type": "code",
   "execution_count": 1,
   "metadata": {},
   "outputs": [],
   "source": [
    "# ToDo (Shivam): Make the version control dynamic by using latest datetime = DONE\n",
    "writer = pd.ExcelWriter('df_first_time_v3_{}.xlsx'.format(pd.datetime.today().strftime('%d%m%y- %H %M %S'))) \n",
    "df_first_time.to_excel(writer,'Sheet1')\n",
    "writer.save()"
   ]
  },
  {
   "cell_type": "markdown",
   "metadata": {},
   "source": [
    "### Creating dataset 1) Training wise 2)Section wise 3)Sub-section wise"
   ]
  },
  {
   "cell_type": "code",
   "execution_count": 2,
   "metadata": {},
   "outputs": [],
   "source": [
    "# ToDo(Shivam): Reading the above excel file to continue working (cant be done)\n",
    "df_first_time = pd.read_excel('first_time_data_v3.xlsx')"
   ]
  },
  {
   "cell_type": "code",
   "execution_count": 3,
   "metadata": {},
   "outputs": [
    {
     "output_type": "execute_result",
     "data": {
      "text/plain": [
       "           user_name  Tra1_Sec1_Sub1_Qus1_Att1  Tra1_Sec1_Sub1_Qus1_Att2  \\\n",
       "0         Emir Kumar                         0                         0   \n",
       "1        Krish Bains                         0                         0   \n",
       "2      Akarsh Suresh                         0                         0   \n",
       "3    Priyansh Bhalla                         0                         0   \n",
       "4  Darshit Sabharwal                         0                         0   \n",
       "\n",
       "   Tra1_Sec1_Sub1_Qus1_Att3  Tra1_Sec1_Sub1_Qus2_Att1  \\\n",
       "0                         0                         0   \n",
       "1                         0                         1   \n",
       "2                         1                         0   \n",
       "3                         0                         1   \n",
       "4                         1                         0   \n",
       "\n",
       "   Tra1_Sec1_Sub1_Qus2_Att2  Tra1_Sec1_Sub1_Qus2_Att3  \\\n",
       "0                         0                         1   \n",
       "1                         1                         1   \n",
       "2                         1                         1   \n",
       "3                         0                         0   \n",
       "4                         0                         0   \n",
       "\n",
       "   Tra1_Sec1_Sub1_Qus3_Att1  Tra1_Sec1_Sub1_Qus3_Att2  \\\n",
       "0                         0                         0   \n",
       "1                         1                         0   \n",
       "2                         0                         0   \n",
       "3                         0                         0   \n",
       "4                         1                         0   \n",
       "\n",
       "   Tra1_Sec1_Sub1_Qus3_Att3  ...  Tra2_Sec4_Sub5_Qus3_Att3  \\\n",
       "0                         0  ...                         0   \n",
       "1                         1  ...                         1   \n",
       "2                         0  ...                         0   \n",
       "3                         0  ...                         1   \n",
       "4                         0  ...                         0   \n",
       "\n",
       "   Tra2_Sec4_Sub5_Qus4_Att1  Tra2_Sec4_Sub5_Qus4_Att2  \\\n",
       "0                         0                         1   \n",
       "1                         1                         0   \n",
       "2                         0                         0   \n",
       "3                         1                         0   \n",
       "4                         1                         1   \n",
       "\n",
       "   Tra2_Sec4_Sub5_Qus4_Att3  Tra2_Sec4_Sub5_Qus5_Att1  \\\n",
       "0                         0                         0   \n",
       "1                         0                         1   \n",
       "2                         0                         1   \n",
       "3                         0                         0   \n",
       "4                         0                         0   \n",
       "\n",
       "   Tra2_Sec4_Sub5_Qus5_Att2  Tra2_Sec4_Sub5_Qus5_Att3  \\\n",
       "0                         0                         0   \n",
       "1                         0                         1   \n",
       "2                         1                         0   \n",
       "3                         0                         0   \n",
       "4                         0                         0   \n",
       "\n",
       "   Tra2_Sec4_Sub5_Qus6_Att1  Tra2_Sec4_Sub5_Qus6_Att2  \\\n",
       "0                         0                         1   \n",
       "1                         0                         1   \n",
       "2                         1                         0   \n",
       "3                         0                         1   \n",
       "4                         0                         0   \n",
       "\n",
       "   Tra2_Sec4_Sub5_Qus6_Att3  \n",
       "0                         1  \n",
       "1                         0  \n",
       "2                         0  \n",
       "3                         0  \n",
       "4                         0  \n",
       "\n",
       "[5 rows x 721 columns]"
      ],
      "text/html": "<div>\n<style scoped>\n    .dataframe tbody tr th:only-of-type {\n        vertical-align: middle;\n    }\n\n    .dataframe tbody tr th {\n        vertical-align: top;\n    }\n\n    .dataframe thead th {\n        text-align: right;\n    }\n</style>\n<table border=\"1\" class=\"dataframe\">\n  <thead>\n    <tr style=\"text-align: right;\">\n      <th></th>\n      <th>user_name</th>\n      <th>Tra1_Sec1_Sub1_Qus1_Att1</th>\n      <th>Tra1_Sec1_Sub1_Qus1_Att2</th>\n      <th>Tra1_Sec1_Sub1_Qus1_Att3</th>\n      <th>Tra1_Sec1_Sub1_Qus2_Att1</th>\n      <th>Tra1_Sec1_Sub1_Qus2_Att2</th>\n      <th>Tra1_Sec1_Sub1_Qus2_Att3</th>\n      <th>Tra1_Sec1_Sub1_Qus3_Att1</th>\n      <th>Tra1_Sec1_Sub1_Qus3_Att2</th>\n      <th>Tra1_Sec1_Sub1_Qus3_Att3</th>\n      <th>...</th>\n      <th>Tra2_Sec4_Sub5_Qus3_Att3</th>\n      <th>Tra2_Sec4_Sub5_Qus4_Att1</th>\n      <th>Tra2_Sec4_Sub5_Qus4_Att2</th>\n      <th>Tra2_Sec4_Sub5_Qus4_Att3</th>\n      <th>Tra2_Sec4_Sub5_Qus5_Att1</th>\n      <th>Tra2_Sec4_Sub5_Qus5_Att2</th>\n      <th>Tra2_Sec4_Sub5_Qus5_Att3</th>\n      <th>Tra2_Sec4_Sub5_Qus6_Att1</th>\n      <th>Tra2_Sec4_Sub5_Qus6_Att2</th>\n      <th>Tra2_Sec4_Sub5_Qus6_Att3</th>\n    </tr>\n  </thead>\n  <tbody>\n    <tr>\n      <th>0</th>\n      <td>Emir Kumar</td>\n      <td>0</td>\n      <td>0</td>\n      <td>0</td>\n      <td>0</td>\n      <td>0</td>\n      <td>1</td>\n      <td>0</td>\n      <td>0</td>\n      <td>0</td>\n      <td>...</td>\n      <td>0</td>\n      <td>0</td>\n      <td>1</td>\n      <td>0</td>\n      <td>0</td>\n      <td>0</td>\n      <td>0</td>\n      <td>0</td>\n      <td>1</td>\n      <td>1</td>\n    </tr>\n    <tr>\n      <th>1</th>\n      <td>Krish Bains</td>\n      <td>0</td>\n      <td>0</td>\n      <td>0</td>\n      <td>1</td>\n      <td>1</td>\n      <td>1</td>\n      <td>1</td>\n      <td>0</td>\n      <td>1</td>\n      <td>...</td>\n      <td>1</td>\n      <td>1</td>\n      <td>0</td>\n      <td>0</td>\n      <td>1</td>\n      <td>0</td>\n      <td>1</td>\n      <td>0</td>\n      <td>1</td>\n      <td>0</td>\n    </tr>\n    <tr>\n      <th>2</th>\n      <td>Akarsh Suresh</td>\n      <td>0</td>\n      <td>0</td>\n      <td>1</td>\n      <td>0</td>\n      <td>1</td>\n      <td>1</td>\n      <td>0</td>\n      <td>0</td>\n      <td>0</td>\n      <td>...</td>\n      <td>0</td>\n      <td>0</td>\n      <td>0</td>\n      <td>0</td>\n      <td>1</td>\n      <td>1</td>\n      <td>0</td>\n      <td>1</td>\n      <td>0</td>\n      <td>0</td>\n    </tr>\n    <tr>\n      <th>3</th>\n      <td>Priyansh Bhalla</td>\n      <td>0</td>\n      <td>0</td>\n      <td>0</td>\n      <td>1</td>\n      <td>0</td>\n      <td>0</td>\n      <td>0</td>\n      <td>0</td>\n      <td>0</td>\n      <td>...</td>\n      <td>1</td>\n      <td>1</td>\n      <td>0</td>\n      <td>0</td>\n      <td>0</td>\n      <td>0</td>\n      <td>0</td>\n      <td>0</td>\n      <td>1</td>\n      <td>0</td>\n    </tr>\n    <tr>\n      <th>4</th>\n      <td>Darshit Sabharwal</td>\n      <td>0</td>\n      <td>0</td>\n      <td>1</td>\n      <td>0</td>\n      <td>0</td>\n      <td>0</td>\n      <td>1</td>\n      <td>0</td>\n      <td>0</td>\n      <td>...</td>\n      <td>0</td>\n      <td>1</td>\n      <td>1</td>\n      <td>0</td>\n      <td>0</td>\n      <td>0</td>\n      <td>0</td>\n      <td>0</td>\n      <td>0</td>\n      <td>0</td>\n    </tr>\n  </tbody>\n</table>\n<p>5 rows × 721 columns</p>\n</div>"
     },
     "metadata": {},
     "execution_count": 3
    }
   ],
   "source": [
    "df_first_time.head()"
   ]
  },
  {
   "cell_type": "markdown",
   "metadata": {},
   "source": [
    "### 1) Training wise"
   ]
  },
  {
   "cell_type": "code",
   "execution_count": 4,
   "metadata": {},
   "outputs": [
    {
     "output_type": "execute_result",
     "data": {
      "text/plain": [
       "['Tra1', 'Tra2']"
      ]
     },
     "metadata": {},
     "execution_count": 4
    }
   ],
   "source": [
    "# Getting names or numbers of trainings\n",
    "training_numbers = []\n",
    "for col in df_first_time.columns:\n",
    "    if 'Tra' in col:\n",
    "        training_numbers.append(col[0:4])\n",
    "        \n",
    "training_names = sorted(list(set(training_numbers)))\n",
    "training_names"
   ]
  },
  {
   "cell_type": "code",
   "execution_count": 5,
   "metadata": {},
   "outputs": [
    {
     "output_type": "execute_result",
     "data": {
      "text/plain": [
       "                   Tra1_score  Tra2_score  Total_score\n",
       "user_name                                             \n",
       "Emir Kumar                106         101          207\n",
       "Krish Bains               105         107          212\n",
       "Akarsh Suresh             112         126          238\n",
       "Priyansh Bhalla           119          99          218\n",
       "Darshit Sabharwal         111         107          218"
      ],
      "text/html": "<div>\n<style scoped>\n    .dataframe tbody tr th:only-of-type {\n        vertical-align: middle;\n    }\n\n    .dataframe tbody tr th {\n        vertical-align: top;\n    }\n\n    .dataframe thead th {\n        text-align: right;\n    }\n</style>\n<table border=\"1\" class=\"dataframe\">\n  <thead>\n    <tr style=\"text-align: right;\">\n      <th></th>\n      <th>Tra1_score</th>\n      <th>Tra2_score</th>\n      <th>Total_score</th>\n    </tr>\n    <tr>\n      <th>user_name</th>\n      <th></th>\n      <th></th>\n      <th></th>\n    </tr>\n  </thead>\n  <tbody>\n    <tr>\n      <th>Emir Kumar</th>\n      <td>106</td>\n      <td>101</td>\n      <td>207</td>\n    </tr>\n    <tr>\n      <th>Krish Bains</th>\n      <td>105</td>\n      <td>107</td>\n      <td>212</td>\n    </tr>\n    <tr>\n      <th>Akarsh Suresh</th>\n      <td>112</td>\n      <td>126</td>\n      <td>238</td>\n    </tr>\n    <tr>\n      <th>Priyansh Bhalla</th>\n      <td>119</td>\n      <td>99</td>\n      <td>218</td>\n    </tr>\n    <tr>\n      <th>Darshit Sabharwal</th>\n      <td>111</td>\n      <td>107</td>\n      <td>218</td>\n    </tr>\n  </tbody>\n</table>\n</div>"
     },
     "metadata": {},
     "execution_count": 5
    }
   ],
   "source": [
    "# Getting score for users in each training and overall score\n",
    "# Granularity - user_name\n",
    "\n",
    "training_wise_score = pd.DataFrame(columns=['user_name'])\n",
    "training_wise_score.user_name = df_first_time.user_name\n",
    "\n",
    "for training in training_names:\n",
    "    use_col=[]\n",
    "    for col in df_first_time.columns:\n",
    "        if training in col:\n",
    "            use_col.append(col)\n",
    "    training_wise_score[training+'_score'] = df_first_time.loc[:, use_col].sum(axis=1)\n",
    "training_wise_score['Total_score'] = training_wise_score.iloc[:,1:].sum(axis=1)   \n",
    "training_wise_score.set_index('user_name',inplace= True)\n",
    "training_wise_score.head()\n",
    "    \n"
   ]
  },
  {
   "cell_type": "markdown",
   "metadata": {},
   "source": [
    "### 2) Section wise"
   ]
  },
  {
   "source": [
    "# Getting names of Sections in each training\n",
    "section_wise=[]\n",
    "for col in df_first_time.columns:\n",
    "    if 'Tra1_Sec' in col or 'Tra2_Sec' in col :\n",
    "        section_wise.append(col[0:9])\n",
    "section_wise = sorted(list(set(section_wise)))\n",
    "section_wise"
   ],
   "cell_type": "code",
   "metadata": {},
   "execution_count": 6,
   "outputs": [
    {
     "output_type": "execute_result",
     "data": {
      "text/plain": [
       "['Tra1_Sec1',\n",
       " 'Tra1_Sec2',\n",
       " 'Tra1_Sec3',\n",
       " 'Tra1_Sec4',\n",
       " 'Tra2_Sec1',\n",
       " 'Tra2_Sec2',\n",
       " 'Tra2_Sec3',\n",
       " 'Tra2_Sec4']"
      ]
     },
     "metadata": {},
     "execution_count": 6
    }
   ]
  },
  {
   "cell_type": "code",
   "execution_count": 27,
   "metadata": {},
   "outputs": [
    {
     "output_type": "execute_result",
     "data": {
      "text/plain": [
       "                Tra1_Sec1_score  Tra1_Sec2_score  Tra1_Sec3_score  \\\n",
       "user_name                                                           \n",
       "Rhea Lad                     90               83               68   \n",
       "Yakshit Brar                 90               86               74   \n",
       "Rohan Chhabra                89               84               75   \n",
       "Vaibhav Borra                90               83               69   \n",
       "Nayantara Yogi               90               88               72   \n",
       "\n",
       "                Tra1_Sec4_score  Tra2_Sec1_score  Tra2_Sec2_score  \\\n",
       "user_name                                                           \n",
       "Rhea Lad                     52               32               14   \n",
       "Yakshit Brar                 51               40               14   \n",
       "Rohan Chhabra                57               37               13   \n",
       "Vaibhav Borra                53               43               17   \n",
       "Nayantara Yogi               55               25               17   \n",
       "\n",
       "                Tra2_Sec3_score  Tra2_Sec4_score  total  \n",
       "user_name                                                \n",
       "Rhea Lad                      9                0    348  \n",
       "Yakshit Brar                  3                0    358  \n",
       "Rohan Chhabra                 7                0    362  \n",
       "Vaibhav Borra                 7                1    363  \n",
       "Nayantara Yogi                3                2    352  "
      ],
      "text/html": "<div>\n<style scoped>\n    .dataframe tbody tr th:only-of-type {\n        vertical-align: middle;\n    }\n\n    .dataframe tbody tr th {\n        vertical-align: top;\n    }\n\n    .dataframe thead th {\n        text-align: right;\n    }\n</style>\n<table border=\"1\" class=\"dataframe\">\n  <thead>\n    <tr style=\"text-align: right;\">\n      <th></th>\n      <th>Tra1_Sec1_score</th>\n      <th>Tra1_Sec2_score</th>\n      <th>Tra1_Sec3_score</th>\n      <th>Tra1_Sec4_score</th>\n      <th>Tra2_Sec1_score</th>\n      <th>Tra2_Sec2_score</th>\n      <th>Tra2_Sec3_score</th>\n      <th>Tra2_Sec4_score</th>\n      <th>total</th>\n    </tr>\n    <tr>\n      <th>user_name</th>\n      <th></th>\n      <th></th>\n      <th></th>\n      <th></th>\n      <th></th>\n      <th></th>\n      <th></th>\n      <th></th>\n      <th></th>\n    </tr>\n  </thead>\n  <tbody>\n    <tr>\n      <th>Rhea Lad</th>\n      <td>90</td>\n      <td>83</td>\n      <td>68</td>\n      <td>52</td>\n      <td>32</td>\n      <td>14</td>\n      <td>9</td>\n      <td>0</td>\n      <td>348</td>\n    </tr>\n    <tr>\n      <th>Yakshit Brar</th>\n      <td>90</td>\n      <td>86</td>\n      <td>74</td>\n      <td>51</td>\n      <td>40</td>\n      <td>14</td>\n      <td>3</td>\n      <td>0</td>\n      <td>358</td>\n    </tr>\n    <tr>\n      <th>Rohan Chhabra</th>\n      <td>89</td>\n      <td>84</td>\n      <td>75</td>\n      <td>57</td>\n      <td>37</td>\n      <td>13</td>\n      <td>7</td>\n      <td>0</td>\n      <td>362</td>\n    </tr>\n    <tr>\n      <th>Vaibhav Borra</th>\n      <td>90</td>\n      <td>83</td>\n      <td>69</td>\n      <td>53</td>\n      <td>43</td>\n      <td>17</td>\n      <td>7</td>\n      <td>1</td>\n      <td>363</td>\n    </tr>\n    <tr>\n      <th>Nayantara Yogi</th>\n      <td>90</td>\n      <td>88</td>\n      <td>72</td>\n      <td>55</td>\n      <td>25</td>\n      <td>17</td>\n      <td>3</td>\n      <td>2</td>\n      <td>352</td>\n    </tr>\n  </tbody>\n</table>\n</div>"
     },
     "metadata": {},
     "execution_count": 27
    }
   ],
   "source": [
    "# Getting score for users in each training: Sections wise and overall score\n",
    "# Granularity : users name\n",
    "\n",
    "section_wise_score = pd.DataFrame(columns=['user_name'])\n",
    "section_wise_score.user_name = df_first_time.user_name\n",
    "\n",
    "for section in section_wise:\n",
    "    sec_col =[]\n",
    "    for col in df_first_time.columns:\n",
    "        if section in col:\n",
    "            sec_col.append(col)\n",
    "    section_wise_score[section+ '_score'] = df_first_time.loc[:,sec_col].sum(axis=1)\n",
    "\n",
    "total = section_wise_score.iloc[0:,1:].sum(axis=1)\n",
    "section_wise_score['total'] = total\n",
    "section_wise_score.set_index('user_name',inplace= True)\n",
    "section_wise_score.tail()\n"
   ]
  },
  {
   "source": [
    "### 3) Sub-Section wise"
   ],
   "cell_type": "markdown",
   "metadata": {}
  },
  {
   "cell_type": "code",
   "execution_count": 8,
   "metadata": {},
   "outputs": [
    {
     "output_type": "execute_result",
     "data": {
      "text/plain": [
       "['Tra1_Sec1_Sub1',\n",
       " 'Tra1_Sec1_Sub2',\n",
       " 'Tra1_Sec1_Sub3',\n",
       " 'Tra1_Sec1_Sub4',\n",
       " 'Tra1_Sec1_Sub5',\n",
       " 'Tra2_Sec2_Sub1',\n",
       " 'Tra2_Sec2_Sub2',\n",
       " 'Tra2_Sec2_Sub3',\n",
       " 'Tra2_Sec2_Sub4',\n",
       " 'Tra2_Sec2_Sub5']"
      ]
     },
     "metadata": {},
     "execution_count": 8
    }
   ],
   "source": [
    "# Getting the names of all Sub-sections: Training wise\n",
    "sub_section = []\n",
    "for col in df_first_time.columns:\n",
    "    if 'Tra1_Sec1_Sub' in col or 'Tra2_Sec2_Sub' in col:\n",
    "        sub_section.append(col[0:14])\n",
    "sub_section = sorted(list(set(sub_section)))\n",
    "sub_section"
   ]
  },
  {
   "cell_type": "code",
   "execution_count": 9,
   "metadata": {},
   "outputs": [
    {
     "output_type": "execute_result",
     "data": {
      "text/plain": [
       "                   Tra1_Sec1_Sub1  Tra1_Sec1_Sub2  Tra1_Sec1_Sub3  \\\n",
       "user_name                                                           \n",
       "Emir Kumar                      4               8               6   \n",
       "Krish Bains                     6               4               5   \n",
       "Akarsh Suresh                   7               5               7   \n",
       "Priyansh Bhalla                 5               7               9   \n",
       "Darshit Sabharwal               5               2               3   \n",
       "\n",
       "                   Tra1_Sec1_Sub4  Tra1_Sec1_Sub5  Tra2_Sec2_Sub1  \\\n",
       "user_name                                                           \n",
       "Emir Kumar                      1               3               3   \n",
       "Krish Bains                     4               9               5   \n",
       "Akarsh Suresh                   2               6               7   \n",
       "Priyansh Bhalla                 8               5               5   \n",
       "Darshit Sabharwal               4               4               5   \n",
       "\n",
       "                   Tra2_Sec2_Sub2  Tra2_Sec2_Sub3  Tra2_Sec2_Sub4  \\\n",
       "user_name                                                           \n",
       "Emir Kumar                      5               4               5   \n",
       "Krish Bains                     6               7               6   \n",
       "Akarsh Suresh                   3               7               6   \n",
       "Priyansh Bhalla                 3               6               3   \n",
       "Darshit Sabharwal               3               4               7   \n",
       "\n",
       "                   Tra2_Sec2_Sub5  total  \n",
       "user_name                                 \n",
       "Emir Kumar                      4     43  \n",
       "Krish Bains                     4     56  \n",
       "Akarsh Suresh                   6     56  \n",
       "Priyansh Bhalla                 5     56  \n",
       "Darshit Sabharwal               5     42  "
      ],
      "text/html": "<div>\n<style scoped>\n    .dataframe tbody tr th:only-of-type {\n        vertical-align: middle;\n    }\n\n    .dataframe tbody tr th {\n        vertical-align: top;\n    }\n\n    .dataframe thead th {\n        text-align: right;\n    }\n</style>\n<table border=\"1\" class=\"dataframe\">\n  <thead>\n    <tr style=\"text-align: right;\">\n      <th></th>\n      <th>Tra1_Sec1_Sub1</th>\n      <th>Tra1_Sec1_Sub2</th>\n      <th>Tra1_Sec1_Sub3</th>\n      <th>Tra1_Sec1_Sub4</th>\n      <th>Tra1_Sec1_Sub5</th>\n      <th>Tra2_Sec2_Sub1</th>\n      <th>Tra2_Sec2_Sub2</th>\n      <th>Tra2_Sec2_Sub3</th>\n      <th>Tra2_Sec2_Sub4</th>\n      <th>Tra2_Sec2_Sub5</th>\n      <th>total</th>\n    </tr>\n    <tr>\n      <th>user_name</th>\n      <th></th>\n      <th></th>\n      <th></th>\n      <th></th>\n      <th></th>\n      <th></th>\n      <th></th>\n      <th></th>\n      <th></th>\n      <th></th>\n      <th></th>\n    </tr>\n  </thead>\n  <tbody>\n    <tr>\n      <th>Emir Kumar</th>\n      <td>4</td>\n      <td>8</td>\n      <td>6</td>\n      <td>1</td>\n      <td>3</td>\n      <td>3</td>\n      <td>5</td>\n      <td>4</td>\n      <td>5</td>\n      <td>4</td>\n      <td>43</td>\n    </tr>\n    <tr>\n      <th>Krish Bains</th>\n      <td>6</td>\n      <td>4</td>\n      <td>5</td>\n      <td>4</td>\n      <td>9</td>\n      <td>5</td>\n      <td>6</td>\n      <td>7</td>\n      <td>6</td>\n      <td>4</td>\n      <td>56</td>\n    </tr>\n    <tr>\n      <th>Akarsh Suresh</th>\n      <td>7</td>\n      <td>5</td>\n      <td>7</td>\n      <td>2</td>\n      <td>6</td>\n      <td>7</td>\n      <td>3</td>\n      <td>7</td>\n      <td>6</td>\n      <td>6</td>\n      <td>56</td>\n    </tr>\n    <tr>\n      <th>Priyansh Bhalla</th>\n      <td>5</td>\n      <td>7</td>\n      <td>9</td>\n      <td>8</td>\n      <td>5</td>\n      <td>5</td>\n      <td>3</td>\n      <td>6</td>\n      <td>3</td>\n      <td>5</td>\n      <td>56</td>\n    </tr>\n    <tr>\n      <th>Darshit Sabharwal</th>\n      <td>5</td>\n      <td>2</td>\n      <td>3</td>\n      <td>4</td>\n      <td>4</td>\n      <td>5</td>\n      <td>3</td>\n      <td>4</td>\n      <td>7</td>\n      <td>5</td>\n      <td>42</td>\n    </tr>\n  </tbody>\n</table>\n</div>"
     },
     "metadata": {},
     "execution_count": 9
    }
   ],
   "source": [
    "# Getting score for users in each Training: Sub-Sections wise and overall score\n",
    "# Granularity : users name\n",
    "sub_section_wise = pd.DataFrame(columns=['user_name'])\n",
    "sub_section_wise.user_name = df_first_time.user_name\n",
    "\n",
    "for subsec in sub_section:\n",
    "    sub_sec =[]\n",
    "    for col in df_first_time.columns:\n",
    "        if subsec in col:\n",
    "            sub_sec.append(col)\n",
    "            sub_section_wise[subsec] = df_first_time.loc[:,sub_sec].sum(axis=1)\n",
    "total = sub_section_wise.iloc[0:,1:].sum(axis=1)\n",
    "sub_section_wise['total'] = total\n",
    "sub_section_wise.set_index('user_name',inplace= True)\n",
    "sub_section_wise.head()\n"
   ]
  },
  {
   "cell_type": "markdown",
   "metadata": {},
   "source": [
    "## Exporting the Scores data file to Excel having datetime stamp"
   ]
  },
  {
   "cell_type": "code",
   "execution_count": 77,
   "metadata": {},
   "outputs": [
    {
     "output_type": "stream",
     "name": "stderr",
     "text": [
      "<ipython-input-77-a3c4c8ada4f5>:3: FutureWarning: The pandas.datetime class is deprecated and will be removed from pandas in a future version. Import from datetime module instead.\n",
      "  writer = pd.ExcelWriter('users_score_'+key+'_{}.xlsx'.format(pd.datetime.today().strftime('%d%m%y- %H %M %S')))\n",
      "All files executated Succesfully\n",
      "All files executated Succesfully\n",
      "All files executated Succesfully\n"
     ]
    }
   ],
   "source": [
    "# Exporting Scores: Training,section,sub-section wise\n",
    "\n",
    "score = {'Training':training_wise_score,'Section':section_wise_score,'Sub-section':sub_section_wise}\n",
    "for key, i in score.items():\n",
    "    writer = pd.ExcelWriter('users_score_'+key+'_{}.xlsx'.format(pd.datetime.today().strftime('%d%m%y- %H %M %S')))\n",
    "    i.to_excel(writer,'Sheet1')\n",
    "    writer.save()\n",
    "    print(\"All files executated Succesfully\")"
   ]
  },
  {
   "cell_type": "markdown",
   "metadata": {},
   "source": [
    "# Visualizing the data"
   ]
  },
  {
   "cell_type": "code",
   "execution_count": 10,
   "metadata": {},
   "outputs": [],
   "source": [
    "import plotly.express as px\n",
    "import plotly.graph_objs as go\n",
    "import plotly.offline as pyo\n",
    "import matplotlib.pyplot as plt \n"
   ]
  },
  {
   "cell_type": "markdown",
   "metadata": {},
   "source": [
    "#### 1. Line chart for all 4 types of players (best, worst, improving, deteriorating) over time"
   ]
  },
  {
   "cell_type": "code",
   "execution_count": 66,
   "metadata": {},
   "outputs": [
    {
     "output_type": "execute_result",
     "data": {
      "text/plain": [
       "user_name        Emir Kumar  Krish Bains  Akarsh Suresh  Priyansh Bhalla  \\\n",
       "Tra1_Sec1_score          22           28             27               34   \n",
       "Tra1_Sec2_score          25           28             30               21   \n",
       "Tra1_Sec3_score          31           28             27               38   \n",
       "Tra1_Sec4_score          28           21             28               26   \n",
       "Tra2_Sec1_score          25           19             35               18   \n",
       "\n",
       "user_name        Darshit Sabharwal  Krish Keer  Rasha Rana  Gatik Mallick  \\\n",
       "Tra1_Sec1_score                 18          27          27             19   \n",
       "Tra1_Sec2_score                 34          29          25             33   \n",
       "Tra1_Sec3_score                 31          31          22             29   \n",
       "Tra1_Sec4_score                 28          31          25             29   \n",
       "Tra2_Sec1_score                 26          35          32             30   \n",
       "\n",
       "user_name        Alisha Kanda  Madhup Dasgupta  ...  Zeeshan Balasubramanian  \\\n",
       "Tra1_Sec1_score            26               26  ...                       89   \n",
       "Tra1_Sec2_score            30               21  ...                       84   \n",
       "Tra1_Sec3_score            29               30  ...                       69   \n",
       "Tra1_Sec4_score            19               29  ...                       52   \n",
       "Tra2_Sec1_score            25               27  ...                       43   \n",
       "\n",
       "user_name        Kiaan Chauhan  Ira Seth  Umang Choudhary  Miraya Aurora  \\\n",
       "Tra1_Sec1_score             88        89               90             86   \n",
       "Tra1_Sec2_score             84        86               80             86   \n",
       "Tra1_Sec3_score             78        74               75             71   \n",
       "Tra1_Sec4_score             55        64               53             48   \n",
       "Tra2_Sec1_score             23        30               37             33   \n",
       "\n",
       "user_name        Rhea Lad  Yakshit Brar  Rohan Chhabra  Vaibhav Borra  \\\n",
       "Tra1_Sec1_score        90            90             89             90   \n",
       "Tra1_Sec2_score        83            86             84             83   \n",
       "Tra1_Sec3_score        68            74             75             69   \n",
       "Tra1_Sec4_score        52            51             57             53   \n",
       "Tra2_Sec1_score        32            40             37             43   \n",
       "\n",
       "user_name        Nayantara Yogi  \n",
       "Tra1_Sec1_score              90  \n",
       "Tra1_Sec2_score              88  \n",
       "Tra1_Sec3_score              72  \n",
       "Tra1_Sec4_score              55  \n",
       "Tra2_Sec1_score              25  \n",
       "\n",
       "[5 rows x 1005 columns]"
      ],
      "text/html": "<div>\n<style scoped>\n    .dataframe tbody tr th:only-of-type {\n        vertical-align: middle;\n    }\n\n    .dataframe tbody tr th {\n        vertical-align: top;\n    }\n\n    .dataframe thead th {\n        text-align: right;\n    }\n</style>\n<table border=\"1\" class=\"dataframe\">\n  <thead>\n    <tr style=\"text-align: right;\">\n      <th>user_name</th>\n      <th>Emir Kumar</th>\n      <th>Krish Bains</th>\n      <th>Akarsh Suresh</th>\n      <th>Priyansh Bhalla</th>\n      <th>Darshit Sabharwal</th>\n      <th>Krish Keer</th>\n      <th>Rasha Rana</th>\n      <th>Gatik Mallick</th>\n      <th>Alisha Kanda</th>\n      <th>Madhup Dasgupta</th>\n      <th>...</th>\n      <th>Zeeshan Balasubramanian</th>\n      <th>Kiaan Chauhan</th>\n      <th>Ira Seth</th>\n      <th>Umang Choudhary</th>\n      <th>Miraya Aurora</th>\n      <th>Rhea Lad</th>\n      <th>Yakshit Brar</th>\n      <th>Rohan Chhabra</th>\n      <th>Vaibhav Borra</th>\n      <th>Nayantara Yogi</th>\n    </tr>\n  </thead>\n  <tbody>\n    <tr>\n      <th>Tra1_Sec1_score</th>\n      <td>22</td>\n      <td>28</td>\n      <td>27</td>\n      <td>34</td>\n      <td>18</td>\n      <td>27</td>\n      <td>27</td>\n      <td>19</td>\n      <td>26</td>\n      <td>26</td>\n      <td>...</td>\n      <td>89</td>\n      <td>88</td>\n      <td>89</td>\n      <td>90</td>\n      <td>86</td>\n      <td>90</td>\n      <td>90</td>\n      <td>89</td>\n      <td>90</td>\n      <td>90</td>\n    </tr>\n    <tr>\n      <th>Tra1_Sec2_score</th>\n      <td>25</td>\n      <td>28</td>\n      <td>30</td>\n      <td>21</td>\n      <td>34</td>\n      <td>29</td>\n      <td>25</td>\n      <td>33</td>\n      <td>30</td>\n      <td>21</td>\n      <td>...</td>\n      <td>84</td>\n      <td>84</td>\n      <td>86</td>\n      <td>80</td>\n      <td>86</td>\n      <td>83</td>\n      <td>86</td>\n      <td>84</td>\n      <td>83</td>\n      <td>88</td>\n    </tr>\n    <tr>\n      <th>Tra1_Sec3_score</th>\n      <td>31</td>\n      <td>28</td>\n      <td>27</td>\n      <td>38</td>\n      <td>31</td>\n      <td>31</td>\n      <td>22</td>\n      <td>29</td>\n      <td>29</td>\n      <td>30</td>\n      <td>...</td>\n      <td>69</td>\n      <td>78</td>\n      <td>74</td>\n      <td>75</td>\n      <td>71</td>\n      <td>68</td>\n      <td>74</td>\n      <td>75</td>\n      <td>69</td>\n      <td>72</td>\n    </tr>\n    <tr>\n      <th>Tra1_Sec4_score</th>\n      <td>28</td>\n      <td>21</td>\n      <td>28</td>\n      <td>26</td>\n      <td>28</td>\n      <td>31</td>\n      <td>25</td>\n      <td>29</td>\n      <td>19</td>\n      <td>29</td>\n      <td>...</td>\n      <td>52</td>\n      <td>55</td>\n      <td>64</td>\n      <td>53</td>\n      <td>48</td>\n      <td>52</td>\n      <td>51</td>\n      <td>57</td>\n      <td>53</td>\n      <td>55</td>\n    </tr>\n    <tr>\n      <th>Tra2_Sec1_score</th>\n      <td>25</td>\n      <td>19</td>\n      <td>35</td>\n      <td>18</td>\n      <td>26</td>\n      <td>35</td>\n      <td>32</td>\n      <td>30</td>\n      <td>25</td>\n      <td>27</td>\n      <td>...</td>\n      <td>43</td>\n      <td>23</td>\n      <td>30</td>\n      <td>37</td>\n      <td>33</td>\n      <td>32</td>\n      <td>40</td>\n      <td>37</td>\n      <td>43</td>\n      <td>25</td>\n    </tr>\n  </tbody>\n</table>\n<p>5 rows × 1005 columns</p>\n</div>"
     },
     "metadata": {},
     "execution_count": 66
    }
   ],
   "source": [
    "section_wise_score_trans = section_wise_score.T\n",
    "section_wise_score_trans.head()"
   ]
  },
  {
   "cell_type": "code",
   "execution_count": 122,
   "metadata": {},
   "outputs": [
    {
     "output_type": "display_data",
     "data": {
      "application/vnd.plotly.v1+json": {
       "config": {
        "plotlyServerURL": "https://plot.ly"
       },
       "data": [
        {
         "mode": "lines+markers",
         "name": "Top performer",
         "type": "scatter",
         "x": [
          "Tra1_Sec1_score",
          "Tra1_Sec2_score",
          "Tra1_Sec3_score",
          "Tra1_Sec4_score",
          "Tra2_Sec1_score",
          "Tra2_Sec2_score",
          "Tra2_Sec3_score",
          "Tra2_Sec4_score"
         ],
         "y": [
          86,
          86,
          86,
          83,
          84,
          86,
          88,
          87,
          686
         ]
        },
        {
         "mode": "lines+markers",
         "name": "worst performer",
         "type": "scatter",
         "x": [
          "Tra1_Sec1_score",
          "Tra1_Sec2_score",
          "Tra1_Sec3_score",
          "Tra1_Sec4_score",
          "Tra2_Sec1_score",
          "Tra2_Sec2_score",
          "Tra2_Sec3_score",
          "Tra2_Sec4_score"
         ],
         "y": [
          23,
          27,
          31,
          27,
          22,
          26,
          12,
          21,
          189
         ]
        },
        {
         "mode": "lines+markers",
         "name": "Improving performer",
         "type": "scatter",
         "x": [
          "Tra1_Sec1_score",
          "Tra1_Sec2_score",
          "Tra1_Sec3_score",
          "Tra1_Sec4_score",
          "Tra2_Sec1_score",
          "Tra2_Sec2_score",
          "Tra2_Sec3_score",
          "Tra2_Sec4_score"
         ],
         "y": [
          2,
          6,
          11,
          40,
          57,
          68,
          87,
          90,
          361
         ]
        },
        {
         "mode": "lines+markers",
         "name": "Detoriating performer",
         "type": "scatter",
         "x": [
          "Tra1_Sec1_score",
          "Tra1_Sec2_score",
          "Tra1_Sec3_score",
          "Tra1_Sec4_score",
          "Tra2_Sec1_score",
          "Tra2_Sec2_score",
          "Tra2_Sec3_score",
          "Tra2_Sec4_score"
         ],
         "y": [
          90,
          84,
          71,
          52,
          39,
          20,
          5,
          0,
          361
         ]
        }
       ],
       "layout": {
        "height": 720,
        "template": {
         "data": {
          "bar": [
           {
            "error_x": {
             "color": "#2a3f5f"
            },
            "error_y": {
             "color": "#2a3f5f"
            },
            "marker": {
             "line": {
              "color": "#E5ECF6",
              "width": 0.5
             }
            },
            "type": "bar"
           }
          ],
          "barpolar": [
           {
            "marker": {
             "line": {
              "color": "#E5ECF6",
              "width": 0.5
             }
            },
            "type": "barpolar"
           }
          ],
          "carpet": [
           {
            "aaxis": {
             "endlinecolor": "#2a3f5f",
             "gridcolor": "white",
             "linecolor": "white",
             "minorgridcolor": "white",
             "startlinecolor": "#2a3f5f"
            },
            "baxis": {
             "endlinecolor": "#2a3f5f",
             "gridcolor": "white",
             "linecolor": "white",
             "minorgridcolor": "white",
             "startlinecolor": "#2a3f5f"
            },
            "type": "carpet"
           }
          ],
          "choropleth": [
           {
            "colorbar": {
             "outlinewidth": 0,
             "ticks": ""
            },
            "type": "choropleth"
           }
          ],
          "contour": [
           {
            "colorbar": {
             "outlinewidth": 0,
             "ticks": ""
            },
            "colorscale": [
             [
              0,
              "#0d0887"
             ],
             [
              0.1111111111111111,
              "#46039f"
             ],
             [
              0.2222222222222222,
              "#7201a8"
             ],
             [
              0.3333333333333333,
              "#9c179e"
             ],
             [
              0.4444444444444444,
              "#bd3786"
             ],
             [
              0.5555555555555556,
              "#d8576b"
             ],
             [
              0.6666666666666666,
              "#ed7953"
             ],
             [
              0.7777777777777778,
              "#fb9f3a"
             ],
             [
              0.8888888888888888,
              "#fdca26"
             ],
             [
              1,
              "#f0f921"
             ]
            ],
            "type": "contour"
           }
          ],
          "contourcarpet": [
           {
            "colorbar": {
             "outlinewidth": 0,
             "ticks": ""
            },
            "type": "contourcarpet"
           }
          ],
          "heatmap": [
           {
            "colorbar": {
             "outlinewidth": 0,
             "ticks": ""
            },
            "colorscale": [
             [
              0,
              "#0d0887"
             ],
             [
              0.1111111111111111,
              "#46039f"
             ],
             [
              0.2222222222222222,
              "#7201a8"
             ],
             [
              0.3333333333333333,
              "#9c179e"
             ],
             [
              0.4444444444444444,
              "#bd3786"
             ],
             [
              0.5555555555555556,
              "#d8576b"
             ],
             [
              0.6666666666666666,
              "#ed7953"
             ],
             [
              0.7777777777777778,
              "#fb9f3a"
             ],
             [
              0.8888888888888888,
              "#fdca26"
             ],
             [
              1,
              "#f0f921"
             ]
            ],
            "type": "heatmap"
           }
          ],
          "heatmapgl": [
           {
            "colorbar": {
             "outlinewidth": 0,
             "ticks": ""
            },
            "colorscale": [
             [
              0,
              "#0d0887"
             ],
             [
              0.1111111111111111,
              "#46039f"
             ],
             [
              0.2222222222222222,
              "#7201a8"
             ],
             [
              0.3333333333333333,
              "#9c179e"
             ],
             [
              0.4444444444444444,
              "#bd3786"
             ],
             [
              0.5555555555555556,
              "#d8576b"
             ],
             [
              0.6666666666666666,
              "#ed7953"
             ],
             [
              0.7777777777777778,
              "#fb9f3a"
             ],
             [
              0.8888888888888888,
              "#fdca26"
             ],
             [
              1,
              "#f0f921"
             ]
            ],
            "type": "heatmapgl"
           }
          ],
          "histogram": [
           {
            "marker": {
             "colorbar": {
              "outlinewidth": 0,
              "ticks": ""
             }
            },
            "type": "histogram"
           }
          ],
          "histogram2d": [
           {
            "colorbar": {
             "outlinewidth": 0,
             "ticks": ""
            },
            "colorscale": [
             [
              0,
              "#0d0887"
             ],
             [
              0.1111111111111111,
              "#46039f"
             ],
             [
              0.2222222222222222,
              "#7201a8"
             ],
             [
              0.3333333333333333,
              "#9c179e"
             ],
             [
              0.4444444444444444,
              "#bd3786"
             ],
             [
              0.5555555555555556,
              "#d8576b"
             ],
             [
              0.6666666666666666,
              "#ed7953"
             ],
             [
              0.7777777777777778,
              "#fb9f3a"
             ],
             [
              0.8888888888888888,
              "#fdca26"
             ],
             [
              1,
              "#f0f921"
             ]
            ],
            "type": "histogram2d"
           }
          ],
          "histogram2dcontour": [
           {
            "colorbar": {
             "outlinewidth": 0,
             "ticks": ""
            },
            "colorscale": [
             [
              0,
              "#0d0887"
             ],
             [
              0.1111111111111111,
              "#46039f"
             ],
             [
              0.2222222222222222,
              "#7201a8"
             ],
             [
              0.3333333333333333,
              "#9c179e"
             ],
             [
              0.4444444444444444,
              "#bd3786"
             ],
             [
              0.5555555555555556,
              "#d8576b"
             ],
             [
              0.6666666666666666,
              "#ed7953"
             ],
             [
              0.7777777777777778,
              "#fb9f3a"
             ],
             [
              0.8888888888888888,
              "#fdca26"
             ],
             [
              1,
              "#f0f921"
             ]
            ],
            "type": "histogram2dcontour"
           }
          ],
          "mesh3d": [
           {
            "colorbar": {
             "outlinewidth": 0,
             "ticks": ""
            },
            "type": "mesh3d"
           }
          ],
          "parcoords": [
           {
            "line": {
             "colorbar": {
              "outlinewidth": 0,
              "ticks": ""
             }
            },
            "type": "parcoords"
           }
          ],
          "pie": [
           {
            "automargin": true,
            "type": "pie"
           }
          ],
          "scatter": [
           {
            "marker": {
             "colorbar": {
              "outlinewidth": 0,
              "ticks": ""
             }
            },
            "type": "scatter"
           }
          ],
          "scatter3d": [
           {
            "line": {
             "colorbar": {
              "outlinewidth": 0,
              "ticks": ""
             }
            },
            "marker": {
             "colorbar": {
              "outlinewidth": 0,
              "ticks": ""
             }
            },
            "type": "scatter3d"
           }
          ],
          "scattercarpet": [
           {
            "marker": {
             "colorbar": {
              "outlinewidth": 0,
              "ticks": ""
             }
            },
            "type": "scattercarpet"
           }
          ],
          "scattergeo": [
           {
            "marker": {
             "colorbar": {
              "outlinewidth": 0,
              "ticks": ""
             }
            },
            "type": "scattergeo"
           }
          ],
          "scattergl": [
           {
            "marker": {
             "colorbar": {
              "outlinewidth": 0,
              "ticks": ""
             }
            },
            "type": "scattergl"
           }
          ],
          "scattermapbox": [
           {
            "marker": {
             "colorbar": {
              "outlinewidth": 0,
              "ticks": ""
             }
            },
            "type": "scattermapbox"
           }
          ],
          "scatterpolar": [
           {
            "marker": {
             "colorbar": {
              "outlinewidth": 0,
              "ticks": ""
             }
            },
            "type": "scatterpolar"
           }
          ],
          "scatterpolargl": [
           {
            "marker": {
             "colorbar": {
              "outlinewidth": 0,
              "ticks": ""
             }
            },
            "type": "scatterpolargl"
           }
          ],
          "scatterternary": [
           {
            "marker": {
             "colorbar": {
              "outlinewidth": 0,
              "ticks": ""
             }
            },
            "type": "scatterternary"
           }
          ],
          "surface": [
           {
            "colorbar": {
             "outlinewidth": 0,
             "ticks": ""
            },
            "colorscale": [
             [
              0,
              "#0d0887"
             ],
             [
              0.1111111111111111,
              "#46039f"
             ],
             [
              0.2222222222222222,
              "#7201a8"
             ],
             [
              0.3333333333333333,
              "#9c179e"
             ],
             [
              0.4444444444444444,
              "#bd3786"
             ],
             [
              0.5555555555555556,
              "#d8576b"
             ],
             [
              0.6666666666666666,
              "#ed7953"
             ],
             [
              0.7777777777777778,
              "#fb9f3a"
             ],
             [
              0.8888888888888888,
              "#fdca26"
             ],
             [
              1,
              "#f0f921"
             ]
            ],
            "type": "surface"
           }
          ],
          "table": [
           {
            "cells": {
             "fill": {
              "color": "#EBF0F8"
             },
             "line": {
              "color": "white"
             }
            },
            "header": {
             "fill": {
              "color": "#C8D4E3"
             },
             "line": {
              "color": "white"
             }
            },
            "type": "table"
           }
          ]
         },
         "layout": {
          "annotationdefaults": {
           "arrowcolor": "#2a3f5f",
           "arrowhead": 0,
           "arrowwidth": 1
          },
          "autotypenumbers": "strict",
          "coloraxis": {
           "colorbar": {
            "outlinewidth": 0,
            "ticks": ""
           }
          },
          "colorscale": {
           "diverging": [
            [
             0,
             "#8e0152"
            ],
            [
             0.1,
             "#c51b7d"
            ],
            [
             0.2,
             "#de77ae"
            ],
            [
             0.3,
             "#f1b6da"
            ],
            [
             0.4,
             "#fde0ef"
            ],
            [
             0.5,
             "#f7f7f7"
            ],
            [
             0.6,
             "#e6f5d0"
            ],
            [
             0.7,
             "#b8e186"
            ],
            [
             0.8,
             "#7fbc41"
            ],
            [
             0.9,
             "#4d9221"
            ],
            [
             1,
             "#276419"
            ]
           ],
           "sequential": [
            [
             0,
             "#0d0887"
            ],
            [
             0.1111111111111111,
             "#46039f"
            ],
            [
             0.2222222222222222,
             "#7201a8"
            ],
            [
             0.3333333333333333,
             "#9c179e"
            ],
            [
             0.4444444444444444,
             "#bd3786"
            ],
            [
             0.5555555555555556,
             "#d8576b"
            ],
            [
             0.6666666666666666,
             "#ed7953"
            ],
            [
             0.7777777777777778,
             "#fb9f3a"
            ],
            [
             0.8888888888888888,
             "#fdca26"
            ],
            [
             1,
             "#f0f921"
            ]
           ],
           "sequentialminus": [
            [
             0,
             "#0d0887"
            ],
            [
             0.1111111111111111,
             "#46039f"
            ],
            [
             0.2222222222222222,
             "#7201a8"
            ],
            [
             0.3333333333333333,
             "#9c179e"
            ],
            [
             0.4444444444444444,
             "#bd3786"
            ],
            [
             0.5555555555555556,
             "#d8576b"
            ],
            [
             0.6666666666666666,
             "#ed7953"
            ],
            [
             0.7777777777777778,
             "#fb9f3a"
            ],
            [
             0.8888888888888888,
             "#fdca26"
            ],
            [
             1,
             "#f0f921"
            ]
           ]
          },
          "colorway": [
           "#636efa",
           "#EF553B",
           "#00cc96",
           "#ab63fa",
           "#FFA15A",
           "#19d3f3",
           "#FF6692",
           "#B6E880",
           "#FF97FF",
           "#FECB52"
          ],
          "font": {
           "color": "#2a3f5f"
          },
          "geo": {
           "bgcolor": "white",
           "lakecolor": "white",
           "landcolor": "#E5ECF6",
           "showlakes": true,
           "showland": true,
           "subunitcolor": "white"
          },
          "hoverlabel": {
           "align": "left"
          },
          "hovermode": "closest",
          "mapbox": {
           "style": "light"
          },
          "paper_bgcolor": "white",
          "plot_bgcolor": "#E5ECF6",
          "polar": {
           "angularaxis": {
            "gridcolor": "white",
            "linecolor": "white",
            "ticks": ""
           },
           "bgcolor": "#E5ECF6",
           "radialaxis": {
            "gridcolor": "white",
            "linecolor": "white",
            "ticks": ""
           }
          },
          "scene": {
           "xaxis": {
            "backgroundcolor": "#E5ECF6",
            "gridcolor": "white",
            "gridwidth": 2,
            "linecolor": "white",
            "showbackground": true,
            "ticks": "",
            "zerolinecolor": "white"
           },
           "yaxis": {
            "backgroundcolor": "#E5ECF6",
            "gridcolor": "white",
            "gridwidth": 2,
            "linecolor": "white",
            "showbackground": true,
            "ticks": "",
            "zerolinecolor": "white"
           },
           "zaxis": {
            "backgroundcolor": "#E5ECF6",
            "gridcolor": "white",
            "gridwidth": 2,
            "linecolor": "white",
            "showbackground": true,
            "ticks": "",
            "zerolinecolor": "white"
           }
          },
          "shapedefaults": {
           "line": {
            "color": "#2a3f5f"
           }
          },
          "ternary": {
           "aaxis": {
            "gridcolor": "white",
            "linecolor": "white",
            "ticks": ""
           },
           "baxis": {
            "gridcolor": "white",
            "linecolor": "white",
            "ticks": ""
           },
           "bgcolor": "#E5ECF6",
           "caxis": {
            "gridcolor": "white",
            "linecolor": "white",
            "ticks": ""
           }
          },
          "title": {
           "x": 0.05
          },
          "xaxis": {
           "automargin": true,
           "gridcolor": "white",
           "linecolor": "white",
           "ticks": "",
           "title": {
            "standoff": 15
           },
           "zerolinecolor": "white",
           "zerolinewidth": 2
          },
          "yaxis": {
           "automargin": true,
           "gridcolor": "white",
           "linecolor": "white",
           "ticks": "",
           "title": {
            "standoff": 15
           },
           "zerolinecolor": "white",
           "zerolinewidth": 2
          }
         }
        },
        "title": {
         "text": "Performers"
        },
        "width": 1080,
        "xaxis": {
         "title": {
          "text": "Sections"
         }
        },
        "yaxis": {
         "title": {
          "text": "Score_section_wise"
         }
        }
       }
      }
     },
     "metadata": {}
    }
   ],
   "source": [
    "# Showing best, worst, improving, deteriorating users ( *I am not able to make it dynamic*)\n",
    "fig = go.Figure() \n",
    "fig.add_trace(go.Scatter(x=section_wise_score_trans.index[0:8],y=section_wise_score_trans['Dhanuk Subramanian'],\n",
    "                    mode='lines+markers',\n",
    "                    name='Top performer'))\n",
    "fig.add_trace(go.Scatter(x=section_wise_score_trans.index[0:8],y=section_wise_score_trans['Madhav Sagar'],\n",
    "                    mode='lines+markers',\n",
    "                    name='worst performer'))\n",
    "fig.add_trace(go.Scatter(x=section_wise_score_trans.index[0:8],y=section_wise_score_trans['Riaan Swamy'],\n",
    "                    mode='lines+markers',\n",
    "                    name='Improving performer'))\n",
    "fig.add_trace(go.Scatter(x=section_wise_score_trans.index[0:8],y=section_wise_score_trans['Shayak Saran'],\n",
    "                    mode='lines+markers',\n",
    "                    name='Detoriating performer'))\n",
    "fig.update_layout(title='Performers', xaxis_title='Sections', yaxis_title='Score_section_wise',height=720,width=1080)\n",
    "\n",
    "\n",
    "fig.show() "
   ]
  },
  {
   "cell_type": "markdown",
   "metadata": {},
   "source": [
    "#### 2. Mentor level view - Performance of all the users for training, section, sub-section"
   ]
  },
  {
   "cell_type": "code",
   "execution_count": 19,
   "metadata": {},
   "outputs": [],
   "source": [
    "# Filter the respectieve columns\n",
    "# Then create summary\n",
    "# Then plot it"
   ]
  },
  {
   "cell_type": "markdown",
   "metadata": {},
   "source": [
    "## Training wise\n",
    "\n"
   ]
  },
  {
   "cell_type": "code",
   "execution_count": 37,
   "metadata": {},
   "outputs": [
    {
     "data": {
      "text/html": [
       "<div>\n",
       "<style scoped>\n",
       "    .dataframe tbody tr th:only-of-type {\n",
       "        vertical-align: middle;\n",
       "    }\n",
       "\n",
       "    .dataframe tbody tr th {\n",
       "        vertical-align: top;\n",
       "    }\n",
       "\n",
       "    .dataframe thead th {\n",
       "        text-align: right;\n",
       "    }\n",
       "</style>\n",
       "<table border=\"1\" class=\"dataframe\">\n",
       "  <thead>\n",
       "    <tr style=\"text-align: right;\">\n",
       "      <th></th>\n",
       "      <th>user_name</th>\n",
       "      <th>Tra1_score</th>\n",
       "      <th>Tra2_score</th>\n",
       "      <th>Total_score</th>\n",
       "    </tr>\n",
       "  </thead>\n",
       "  <tbody>\n",
       "    <tr>\n",
       "      <th>0</th>\n",
       "      <td>Emir Kumar</td>\n",
       "      <td>106</td>\n",
       "      <td>101</td>\n",
       "      <td>207</td>\n",
       "    </tr>\n",
       "    <tr>\n",
       "      <th>1</th>\n",
       "      <td>Krish Bains</td>\n",
       "      <td>105</td>\n",
       "      <td>107</td>\n",
       "      <td>212</td>\n",
       "    </tr>\n",
       "    <tr>\n",
       "      <th>2</th>\n",
       "      <td>Akarsh Suresh</td>\n",
       "      <td>112</td>\n",
       "      <td>126</td>\n",
       "      <td>238</td>\n",
       "    </tr>\n",
       "    <tr>\n",
       "      <th>3</th>\n",
       "      <td>Priyansh Bhalla</td>\n",
       "      <td>119</td>\n",
       "      <td>99</td>\n",
       "      <td>218</td>\n",
       "    </tr>\n",
       "    <tr>\n",
       "      <th>4</th>\n",
       "      <td>Darshit Sabharwal</td>\n",
       "      <td>111</td>\n",
       "      <td>107</td>\n",
       "      <td>218</td>\n",
       "    </tr>\n",
       "  </tbody>\n",
       "</table>\n",
       "</div>"
      ],
      "text/plain": [
       "           user_name  Tra1_score  Tra2_score  Total_score\n",
       "0         Emir Kumar         106         101          207\n",
       "1        Krish Bains         105         107          212\n",
       "2      Akarsh Suresh         112         126          238\n",
       "3    Priyansh Bhalla         119          99          218\n",
       "4  Darshit Sabharwal         111         107          218"
      ]
     },
     "execution_count": 37,
     "metadata": {},
     "output_type": "execute_result"
    }
   ],
   "source": [
    "training_wise_score.head()"
   ]
  },
  {
   "cell_type": "code",
   "execution_count": 254,
   "metadata": {},
   "outputs": [
    {
     "output_type": "execute_result",
     "data": {
      "text/plain": [
       "    Trainings  Max_score  Average_score  Min_score\n",
       "0  Training 1        346     201.621891         41\n",
       "1  Training 2        347     201.688557         40"
      ],
      "text/html": "<div>\n<style scoped>\n    .dataframe tbody tr th:only-of-type {\n        vertical-align: middle;\n    }\n\n    .dataframe tbody tr th {\n        vertical-align: top;\n    }\n\n    .dataframe thead th {\n        text-align: right;\n    }\n</style>\n<table border=\"1\" class=\"dataframe\">\n  <thead>\n    <tr style=\"text-align: right;\">\n      <th></th>\n      <th>Trainings</th>\n      <th>Max_score</th>\n      <th>Average_score</th>\n      <th>Min_score</th>\n    </tr>\n  </thead>\n  <tbody>\n    <tr>\n      <th>0</th>\n      <td>Training 1</td>\n      <td>346</td>\n      <td>201.621891</td>\n      <td>41</td>\n    </tr>\n    <tr>\n      <th>1</th>\n      <td>Training 2</td>\n      <td>347</td>\n      <td>201.688557</td>\n      <td>40</td>\n    </tr>\n  </tbody>\n</table>\n</div>"
     },
     "metadata": {},
     "execution_count": 254
    }
   ],
   "source": [
    "# Creating Tranining wise scores Summary\n",
    "data= [[training_wise_score.Tra1_score.max(),training_wise_score.Tra1_score.mean(),training_wise_score.Tra1_score.min()],[training_wise_score.Tra2_score.max(),training_wise_score.Tra2_score.mean(),training_wise_score.Tra2_score.min()]]\n",
    "tra_summary = pd.DataFrame(data, columns = ['Max_score','Average_score','Min_score'])\n",
    "tra_summary['Training'] = ['Training 1','Training 2']\n",
    "tra_summary.insert(0, 'Trainings',tra_summary['Training'])\n",
    "tra_summary.drop(columns='Training',inplace=True)\n",
    "tra_summary"
   ]
  },
  {
   "cell_type": "code",
   "execution_count": 207,
   "metadata": {},
   "outputs": [
    {
     "output_type": "display_data",
     "data": {
      "application/vnd.plotly.v1+json": {
       "config": {
        "plotlyServerURL": "https://plot.ly"
       },
       "data": [
        {
         "name": "Training_1",
         "type": "bar",
         "x": [
          "Max_scores",
          "Average_scores",
          "Min_scores"
         ],
         "y": [
          346,
          201.6218905472637,
          41
         ]
        },
        {
         "name": "Training_2",
         "type": "bar",
         "x": [
          "Max_scores",
          "Average_scores",
          "Min_scores"
         ],
         "y": [
          347,
          201.68855721393035,
          40
         ]
        }
       ],
       "layout": {
        "barmode": "group",
        "height": 520,
        "template": {
         "data": {
          "bar": [
           {
            "error_x": {
             "color": "#2a3f5f"
            },
            "error_y": {
             "color": "#2a3f5f"
            },
            "marker": {
             "line": {
              "color": "#E5ECF6",
              "width": 0.5
             }
            },
            "type": "bar"
           }
          ],
          "barpolar": [
           {
            "marker": {
             "line": {
              "color": "#E5ECF6",
              "width": 0.5
             }
            },
            "type": "barpolar"
           }
          ],
          "carpet": [
           {
            "aaxis": {
             "endlinecolor": "#2a3f5f",
             "gridcolor": "white",
             "linecolor": "white",
             "minorgridcolor": "white",
             "startlinecolor": "#2a3f5f"
            },
            "baxis": {
             "endlinecolor": "#2a3f5f",
             "gridcolor": "white",
             "linecolor": "white",
             "minorgridcolor": "white",
             "startlinecolor": "#2a3f5f"
            },
            "type": "carpet"
           }
          ],
          "choropleth": [
           {
            "colorbar": {
             "outlinewidth": 0,
             "ticks": ""
            },
            "type": "choropleth"
           }
          ],
          "contour": [
           {
            "colorbar": {
             "outlinewidth": 0,
             "ticks": ""
            },
            "colorscale": [
             [
              0,
              "#0d0887"
             ],
             [
              0.1111111111111111,
              "#46039f"
             ],
             [
              0.2222222222222222,
              "#7201a8"
             ],
             [
              0.3333333333333333,
              "#9c179e"
             ],
             [
              0.4444444444444444,
              "#bd3786"
             ],
             [
              0.5555555555555556,
              "#d8576b"
             ],
             [
              0.6666666666666666,
              "#ed7953"
             ],
             [
              0.7777777777777778,
              "#fb9f3a"
             ],
             [
              0.8888888888888888,
              "#fdca26"
             ],
             [
              1,
              "#f0f921"
             ]
            ],
            "type": "contour"
           }
          ],
          "contourcarpet": [
           {
            "colorbar": {
             "outlinewidth": 0,
             "ticks": ""
            },
            "type": "contourcarpet"
           }
          ],
          "heatmap": [
           {
            "colorbar": {
             "outlinewidth": 0,
             "ticks": ""
            },
            "colorscale": [
             [
              0,
              "#0d0887"
             ],
             [
              0.1111111111111111,
              "#46039f"
             ],
             [
              0.2222222222222222,
              "#7201a8"
             ],
             [
              0.3333333333333333,
              "#9c179e"
             ],
             [
              0.4444444444444444,
              "#bd3786"
             ],
             [
              0.5555555555555556,
              "#d8576b"
             ],
             [
              0.6666666666666666,
              "#ed7953"
             ],
             [
              0.7777777777777778,
              "#fb9f3a"
             ],
             [
              0.8888888888888888,
              "#fdca26"
             ],
             [
              1,
              "#f0f921"
             ]
            ],
            "type": "heatmap"
           }
          ],
          "heatmapgl": [
           {
            "colorbar": {
             "outlinewidth": 0,
             "ticks": ""
            },
            "colorscale": [
             [
              0,
              "#0d0887"
             ],
             [
              0.1111111111111111,
              "#46039f"
             ],
             [
              0.2222222222222222,
              "#7201a8"
             ],
             [
              0.3333333333333333,
              "#9c179e"
             ],
             [
              0.4444444444444444,
              "#bd3786"
             ],
             [
              0.5555555555555556,
              "#d8576b"
             ],
             [
              0.6666666666666666,
              "#ed7953"
             ],
             [
              0.7777777777777778,
              "#fb9f3a"
             ],
             [
              0.8888888888888888,
              "#fdca26"
             ],
             [
              1,
              "#f0f921"
             ]
            ],
            "type": "heatmapgl"
           }
          ],
          "histogram": [
           {
            "marker": {
             "colorbar": {
              "outlinewidth": 0,
              "ticks": ""
             }
            },
            "type": "histogram"
           }
          ],
          "histogram2d": [
           {
            "colorbar": {
             "outlinewidth": 0,
             "ticks": ""
            },
            "colorscale": [
             [
              0,
              "#0d0887"
             ],
             [
              0.1111111111111111,
              "#46039f"
             ],
             [
              0.2222222222222222,
              "#7201a8"
             ],
             [
              0.3333333333333333,
              "#9c179e"
             ],
             [
              0.4444444444444444,
              "#bd3786"
             ],
             [
              0.5555555555555556,
              "#d8576b"
             ],
             [
              0.6666666666666666,
              "#ed7953"
             ],
             [
              0.7777777777777778,
              "#fb9f3a"
             ],
             [
              0.8888888888888888,
              "#fdca26"
             ],
             [
              1,
              "#f0f921"
             ]
            ],
            "type": "histogram2d"
           }
          ],
          "histogram2dcontour": [
           {
            "colorbar": {
             "outlinewidth": 0,
             "ticks": ""
            },
            "colorscale": [
             [
              0,
              "#0d0887"
             ],
             [
              0.1111111111111111,
              "#46039f"
             ],
             [
              0.2222222222222222,
              "#7201a8"
             ],
             [
              0.3333333333333333,
              "#9c179e"
             ],
             [
              0.4444444444444444,
              "#bd3786"
             ],
             [
              0.5555555555555556,
              "#d8576b"
             ],
             [
              0.6666666666666666,
              "#ed7953"
             ],
             [
              0.7777777777777778,
              "#fb9f3a"
             ],
             [
              0.8888888888888888,
              "#fdca26"
             ],
             [
              1,
              "#f0f921"
             ]
            ],
            "type": "histogram2dcontour"
           }
          ],
          "mesh3d": [
           {
            "colorbar": {
             "outlinewidth": 0,
             "ticks": ""
            },
            "type": "mesh3d"
           }
          ],
          "parcoords": [
           {
            "line": {
             "colorbar": {
              "outlinewidth": 0,
              "ticks": ""
             }
            },
            "type": "parcoords"
           }
          ],
          "pie": [
           {
            "automargin": true,
            "type": "pie"
           }
          ],
          "scatter": [
           {
            "marker": {
             "colorbar": {
              "outlinewidth": 0,
              "ticks": ""
             }
            },
            "type": "scatter"
           }
          ],
          "scatter3d": [
           {
            "line": {
             "colorbar": {
              "outlinewidth": 0,
              "ticks": ""
             }
            },
            "marker": {
             "colorbar": {
              "outlinewidth": 0,
              "ticks": ""
             }
            },
            "type": "scatter3d"
           }
          ],
          "scattercarpet": [
           {
            "marker": {
             "colorbar": {
              "outlinewidth": 0,
              "ticks": ""
             }
            },
            "type": "scattercarpet"
           }
          ],
          "scattergeo": [
           {
            "marker": {
             "colorbar": {
              "outlinewidth": 0,
              "ticks": ""
             }
            },
            "type": "scattergeo"
           }
          ],
          "scattergl": [
           {
            "marker": {
             "colorbar": {
              "outlinewidth": 0,
              "ticks": ""
             }
            },
            "type": "scattergl"
           }
          ],
          "scattermapbox": [
           {
            "marker": {
             "colorbar": {
              "outlinewidth": 0,
              "ticks": ""
             }
            },
            "type": "scattermapbox"
           }
          ],
          "scatterpolar": [
           {
            "marker": {
             "colorbar": {
              "outlinewidth": 0,
              "ticks": ""
             }
            },
            "type": "scatterpolar"
           }
          ],
          "scatterpolargl": [
           {
            "marker": {
             "colorbar": {
              "outlinewidth": 0,
              "ticks": ""
             }
            },
            "type": "scatterpolargl"
           }
          ],
          "scatterternary": [
           {
            "marker": {
             "colorbar": {
              "outlinewidth": 0,
              "ticks": ""
             }
            },
            "type": "scatterternary"
           }
          ],
          "surface": [
           {
            "colorbar": {
             "outlinewidth": 0,
             "ticks": ""
            },
            "colorscale": [
             [
              0,
              "#0d0887"
             ],
             [
              0.1111111111111111,
              "#46039f"
             ],
             [
              0.2222222222222222,
              "#7201a8"
             ],
             [
              0.3333333333333333,
              "#9c179e"
             ],
             [
              0.4444444444444444,
              "#bd3786"
             ],
             [
              0.5555555555555556,
              "#d8576b"
             ],
             [
              0.6666666666666666,
              "#ed7953"
             ],
             [
              0.7777777777777778,
              "#fb9f3a"
             ],
             [
              0.8888888888888888,
              "#fdca26"
             ],
             [
              1,
              "#f0f921"
             ]
            ],
            "type": "surface"
           }
          ],
          "table": [
           {
            "cells": {
             "fill": {
              "color": "#EBF0F8"
             },
             "line": {
              "color": "white"
             }
            },
            "header": {
             "fill": {
              "color": "#C8D4E3"
             },
             "line": {
              "color": "white"
             }
            },
            "type": "table"
           }
          ]
         },
         "layout": {
          "annotationdefaults": {
           "arrowcolor": "#2a3f5f",
           "arrowhead": 0,
           "arrowwidth": 1
          },
          "autotypenumbers": "strict",
          "coloraxis": {
           "colorbar": {
            "outlinewidth": 0,
            "ticks": ""
           }
          },
          "colorscale": {
           "diverging": [
            [
             0,
             "#8e0152"
            ],
            [
             0.1,
             "#c51b7d"
            ],
            [
             0.2,
             "#de77ae"
            ],
            [
             0.3,
             "#f1b6da"
            ],
            [
             0.4,
             "#fde0ef"
            ],
            [
             0.5,
             "#f7f7f7"
            ],
            [
             0.6,
             "#e6f5d0"
            ],
            [
             0.7,
             "#b8e186"
            ],
            [
             0.8,
             "#7fbc41"
            ],
            [
             0.9,
             "#4d9221"
            ],
            [
             1,
             "#276419"
            ]
           ],
           "sequential": [
            [
             0,
             "#0d0887"
            ],
            [
             0.1111111111111111,
             "#46039f"
            ],
            [
             0.2222222222222222,
             "#7201a8"
            ],
            [
             0.3333333333333333,
             "#9c179e"
            ],
            [
             0.4444444444444444,
             "#bd3786"
            ],
            [
             0.5555555555555556,
             "#d8576b"
            ],
            [
             0.6666666666666666,
             "#ed7953"
            ],
            [
             0.7777777777777778,
             "#fb9f3a"
            ],
            [
             0.8888888888888888,
             "#fdca26"
            ],
            [
             1,
             "#f0f921"
            ]
           ],
           "sequentialminus": [
            [
             0,
             "#0d0887"
            ],
            [
             0.1111111111111111,
             "#46039f"
            ],
            [
             0.2222222222222222,
             "#7201a8"
            ],
            [
             0.3333333333333333,
             "#9c179e"
            ],
            [
             0.4444444444444444,
             "#bd3786"
            ],
            [
             0.5555555555555556,
             "#d8576b"
            ],
            [
             0.6666666666666666,
             "#ed7953"
            ],
            [
             0.7777777777777778,
             "#fb9f3a"
            ],
            [
             0.8888888888888888,
             "#fdca26"
            ],
            [
             1,
             "#f0f921"
            ]
           ]
          },
          "colorway": [
           "#636efa",
           "#EF553B",
           "#00cc96",
           "#ab63fa",
           "#FFA15A",
           "#19d3f3",
           "#FF6692",
           "#B6E880",
           "#FF97FF",
           "#FECB52"
          ],
          "font": {
           "color": "#2a3f5f"
          },
          "geo": {
           "bgcolor": "white",
           "lakecolor": "white",
           "landcolor": "#E5ECF6",
           "showlakes": true,
           "showland": true,
           "subunitcolor": "white"
          },
          "hoverlabel": {
           "align": "left"
          },
          "hovermode": "closest",
          "mapbox": {
           "style": "light"
          },
          "paper_bgcolor": "white",
          "plot_bgcolor": "#E5ECF6",
          "polar": {
           "angularaxis": {
            "gridcolor": "white",
            "linecolor": "white",
            "ticks": ""
           },
           "bgcolor": "#E5ECF6",
           "radialaxis": {
            "gridcolor": "white",
            "linecolor": "white",
            "ticks": ""
           }
          },
          "scene": {
           "xaxis": {
            "backgroundcolor": "#E5ECF6",
            "gridcolor": "white",
            "gridwidth": 2,
            "linecolor": "white",
            "showbackground": true,
            "ticks": "",
            "zerolinecolor": "white"
           },
           "yaxis": {
            "backgroundcolor": "#E5ECF6",
            "gridcolor": "white",
            "gridwidth": 2,
            "linecolor": "white",
            "showbackground": true,
            "ticks": "",
            "zerolinecolor": "white"
           },
           "zaxis": {
            "backgroundcolor": "#E5ECF6",
            "gridcolor": "white",
            "gridwidth": 2,
            "linecolor": "white",
            "showbackground": true,
            "ticks": "",
            "zerolinecolor": "white"
           }
          },
          "shapedefaults": {
           "line": {
            "color": "#2a3f5f"
           }
          },
          "ternary": {
           "aaxis": {
            "gridcolor": "white",
            "linecolor": "white",
            "ticks": ""
           },
           "baxis": {
            "gridcolor": "white",
            "linecolor": "white",
            "ticks": ""
           },
           "bgcolor": "#E5ECF6",
           "caxis": {
            "gridcolor": "white",
            "linecolor": "white",
            "ticks": ""
           }
          },
          "title": {
           "x": 0.05
          },
          "xaxis": {
           "automargin": true,
           "gridcolor": "white",
           "linecolor": "white",
           "ticks": "",
           "title": {
            "standoff": 15
           },
           "zerolinecolor": "white",
           "zerolinewidth": 2
          },
          "yaxis": {
           "automargin": true,
           "gridcolor": "white",
           "linecolor": "white",
           "ticks": "",
           "title": {
            "standoff": 15
           },
           "zerolinecolor": "white",
           "zerolinewidth": 2
          }
         }
        },
        "title": {
         "text": "Report: Training wise"
        },
        "width": 720,
        "xaxis": {
         "title": {
          "text": "Summary"
         }
        },
        "yaxis": {
         "title": {
          "text": "Total_scores"
         }
        }
       }
      }
     },
     "metadata": {}
    }
   ],
   "source": [
    "# Report: Training wise\n",
    "name = ['Max_scores','Average_scores','Min_scores']\n",
    "y1_ =[tra_summary.Max_scores[0],tra_summary.Average_scores[0],tra_summary.Min_scores[0]]\n",
    "y2_ =[tra_summary.Max_scores[1],tra_summary.Average_scores[1],tra_summary.Min_scores[1]]\n",
    "fig = go.Figure(data=[\n",
    "    go.Bar(name='Training_1', x=name,y=y1_),\n",
    "    go.Bar(name='Training_2', x=name,y=y2_)\n",
    "  \n",
    "\n",
    "])\n",
    "# Change the bar mode\n",
    "fig.update_layout(title='Report: Training wise',xaxis={'title': 'Summary'},yaxis={'title':'Total_scores'},height=520,width=720,barmode='group')\n",
    "fig.show()\n",
    "\n"
   ]
  },
  {
   "cell_type": "markdown",
   "metadata": {},
   "source": [
    "## Section Wise\n",
    "    \n"
   ]
  },
  {
   "cell_type": "code",
   "execution_count": 255,
   "metadata": {},
   "outputs": [
    {
     "output_type": "execute_result",
     "data": {
      "text/plain": [
       "        Sections  Max_score  Average_score  Min_score\n",
       "0  Tra1_Section1         90      50.269652          0\n",
       "1  Tra1_Section2         89      50.347264          1\n",
       "2  Tra1_Section3         90      50.649751          7\n",
       "3  Tra1_Section4         89      50.355224         17\n",
       "4  Tra2_Section1         89      50.360199         14\n",
       "5  Tra2_Section2         90      50.347264          6\n",
       "6  Tra2_Section3         89      50.649751          1\n",
       "7  Tra2_Section4         90      50.538308          0"
      ],
      "text/html": "<div>\n<style scoped>\n    .dataframe tbody tr th:only-of-type {\n        vertical-align: middle;\n    }\n\n    .dataframe tbody tr th {\n        vertical-align: top;\n    }\n\n    .dataframe thead th {\n        text-align: right;\n    }\n</style>\n<table border=\"1\" class=\"dataframe\">\n  <thead>\n    <tr style=\"text-align: right;\">\n      <th></th>\n      <th>Sections</th>\n      <th>Max_score</th>\n      <th>Average_score</th>\n      <th>Min_score</th>\n    </tr>\n  </thead>\n  <tbody>\n    <tr>\n      <th>0</th>\n      <td>Tra1_Section1</td>\n      <td>90</td>\n      <td>50.269652</td>\n      <td>0</td>\n    </tr>\n    <tr>\n      <th>1</th>\n      <td>Tra1_Section2</td>\n      <td>89</td>\n      <td>50.347264</td>\n      <td>1</td>\n    </tr>\n    <tr>\n      <th>2</th>\n      <td>Tra1_Section3</td>\n      <td>90</td>\n      <td>50.649751</td>\n      <td>7</td>\n    </tr>\n    <tr>\n      <th>3</th>\n      <td>Tra1_Section4</td>\n      <td>89</td>\n      <td>50.355224</td>\n      <td>17</td>\n    </tr>\n    <tr>\n      <th>4</th>\n      <td>Tra2_Section1</td>\n      <td>89</td>\n      <td>50.360199</td>\n      <td>14</td>\n    </tr>\n    <tr>\n      <th>5</th>\n      <td>Tra2_Section2</td>\n      <td>90</td>\n      <td>50.347264</td>\n      <td>6</td>\n    </tr>\n    <tr>\n      <th>6</th>\n      <td>Tra2_Section3</td>\n      <td>89</td>\n      <td>50.649751</td>\n      <td>1</td>\n    </tr>\n    <tr>\n      <th>7</th>\n      <td>Tra2_Section4</td>\n      <td>90</td>\n      <td>50.538308</td>\n      <td>0</td>\n    </tr>\n  </tbody>\n</table>\n</div>"
     },
     "metadata": {},
     "execution_count": 255
    }
   ],
   "source": [
    "# Creating Section wise scores Summary\n",
    "data= [[section_wise_score.Tra1_Sec1_score.max(),section_wise_score.Tra1_Sec1_score.mean(),section_wise_score.Tra1_Sec1_score.min()],\n",
    "[section_wise_score.Tra1_Sec2_score.max(),section_wise_score.Tra1_Sec2_score.mean(),section_wise_score.Tra1_Sec2_score.min()],\n",
    "[section_wise_score.Tra1_Sec3_score.max(),section_wise_score.Tra1_Sec3_score.mean(),section_wise_score.Tra1_Sec3_score.min()],\n",
    "[section_wise_score.Tra1_Sec4_score.max(),section_wise_score.Tra1_Sec4_score.mean(),section_wise_score.Tra1_Sec4_score.min()],\n",
    "[section_wise_score.Tra2_Sec1_score.max(),section_wise_score.Tra2_Sec1_score.mean(),section_wise_score.Tra2_Sec1_score.min()],\n",
    "[section_wise_score.Tra2_Sec2_score.max(),section_wise_score.Tra1_Sec2_score.mean(),section_wise_score.Tra2_Sec2_score.min()],\n",
    "[section_wise_score.Tra2_Sec3_score.max(),section_wise_score.Tra1_Sec3_score.mean(),section_wise_score.Tra2_Sec3_score.min()],\n",
    "[section_wise_score.Tra2_Sec4_score.max(),section_wise_score.Tra2_Sec4_score.mean(),section_wise_score.Tra2_Sec4_score.min()]\n",
    "]\n",
    "sec_summary = pd.DataFrame(data, columns = ['Max_score','Average_score','Min_score'])\n",
    "sec_summary['Sections'] = ['Tra1_Section1', 'Tra1_Section2','Tra1_Section3','Tra1_Section4','Tra2_Section1','Tra2_Section2','Tra2_Section3','Tra2_Section4']\n",
    "sec_summary = sec_summary[['Sections','Max_score','Average_score','Min_score']]\n",
    "sec_summary"
   ]
  },
  {
   "cell_type": "code",
   "execution_count": 251,
   "metadata": {},
   "outputs": [
    {
     "output_type": "display_data",
     "data": {
      "application/vnd.plotly.v1+json": {
       "config": {
        "plotlyServerURL": "https://plot.ly"
       },
       "data": [
        {
         "name": "Tra1_sec1",
         "type": "bar",
         "x": [
          "Max_scores",
          "Average_scores",
          "Min_scores"
         ],
         "y": [
          90,
          50.26965174129353,
          0
         ]
        },
        {
         "name": "Tra1_sec2",
         "type": "bar",
         "x": [
          "Max_scores",
          "Average_scores",
          "Min_scores"
         ],
         "y": [
          89,
          50.34726368159204,
          1
         ]
        },
        {
         "name": "Tra1_sec3",
         "type": "bar",
         "x": [
          "Max_scores",
          "Average_scores",
          "Min_scores"
         ],
         "y": [
          90,
          50.6497512437811,
          7
         ]
        },
        {
         "name": "Tra1_sec4",
         "type": "bar",
         "x": [
          "Max_scores",
          "Average_scores",
          "Min_scores"
         ],
         "y": [
          89,
          50.355223880597016,
          17
         ]
        },
        {
         "name": "Tra2_sec1",
         "type": "bar",
         "x": [
          "Max_scores",
          "Average_scores",
          "Min_scores"
         ],
         "y": [
          89,
          50.36019900497512,
          14
         ]
        },
        {
         "name": "Tra2_sec2",
         "type": "bar",
         "x": [
          "Max_scores",
          "Average_scores",
          "Min_scores"
         ],
         "y": [
          90,
          50.34726368159204,
          6
         ]
        },
        {
         "name": "Tra2_sec3",
         "type": "bar",
         "x": [
          "Max_scores",
          "Average_scores",
          "Min_scores"
         ],
         "y": [
          89,
          50.6497512437811,
          1
         ]
        },
        {
         "name": "Tra2_sec4",
         "type": "bar",
         "x": [
          "Max_scores",
          "Average_scores",
          "Min_scores"
         ],
         "y": [
          90,
          50.538308457711445,
          0
         ]
        }
       ],
       "layout": {
        "barmode": "group",
        "height": 500,
        "template": {
         "data": {
          "bar": [
           {
            "error_x": {
             "color": "#2a3f5f"
            },
            "error_y": {
             "color": "#2a3f5f"
            },
            "marker": {
             "line": {
              "color": "#E5ECF6",
              "width": 0.5
             }
            },
            "type": "bar"
           }
          ],
          "barpolar": [
           {
            "marker": {
             "line": {
              "color": "#E5ECF6",
              "width": 0.5
             }
            },
            "type": "barpolar"
           }
          ],
          "carpet": [
           {
            "aaxis": {
             "endlinecolor": "#2a3f5f",
             "gridcolor": "white",
             "linecolor": "white",
             "minorgridcolor": "white",
             "startlinecolor": "#2a3f5f"
            },
            "baxis": {
             "endlinecolor": "#2a3f5f",
             "gridcolor": "white",
             "linecolor": "white",
             "minorgridcolor": "white",
             "startlinecolor": "#2a3f5f"
            },
            "type": "carpet"
           }
          ],
          "choropleth": [
           {
            "colorbar": {
             "outlinewidth": 0,
             "ticks": ""
            },
            "type": "choropleth"
           }
          ],
          "contour": [
           {
            "colorbar": {
             "outlinewidth": 0,
             "ticks": ""
            },
            "colorscale": [
             [
              0,
              "#0d0887"
             ],
             [
              0.1111111111111111,
              "#46039f"
             ],
             [
              0.2222222222222222,
              "#7201a8"
             ],
             [
              0.3333333333333333,
              "#9c179e"
             ],
             [
              0.4444444444444444,
              "#bd3786"
             ],
             [
              0.5555555555555556,
              "#d8576b"
             ],
             [
              0.6666666666666666,
              "#ed7953"
             ],
             [
              0.7777777777777778,
              "#fb9f3a"
             ],
             [
              0.8888888888888888,
              "#fdca26"
             ],
             [
              1,
              "#f0f921"
             ]
            ],
            "type": "contour"
           }
          ],
          "contourcarpet": [
           {
            "colorbar": {
             "outlinewidth": 0,
             "ticks": ""
            },
            "type": "contourcarpet"
           }
          ],
          "heatmap": [
           {
            "colorbar": {
             "outlinewidth": 0,
             "ticks": ""
            },
            "colorscale": [
             [
              0,
              "#0d0887"
             ],
             [
              0.1111111111111111,
              "#46039f"
             ],
             [
              0.2222222222222222,
              "#7201a8"
             ],
             [
              0.3333333333333333,
              "#9c179e"
             ],
             [
              0.4444444444444444,
              "#bd3786"
             ],
             [
              0.5555555555555556,
              "#d8576b"
             ],
             [
              0.6666666666666666,
              "#ed7953"
             ],
             [
              0.7777777777777778,
              "#fb9f3a"
             ],
             [
              0.8888888888888888,
              "#fdca26"
             ],
             [
              1,
              "#f0f921"
             ]
            ],
            "type": "heatmap"
           }
          ],
          "heatmapgl": [
           {
            "colorbar": {
             "outlinewidth": 0,
             "ticks": ""
            },
            "colorscale": [
             [
              0,
              "#0d0887"
             ],
             [
              0.1111111111111111,
              "#46039f"
             ],
             [
              0.2222222222222222,
              "#7201a8"
             ],
             [
              0.3333333333333333,
              "#9c179e"
             ],
             [
              0.4444444444444444,
              "#bd3786"
             ],
             [
              0.5555555555555556,
              "#d8576b"
             ],
             [
              0.6666666666666666,
              "#ed7953"
             ],
             [
              0.7777777777777778,
              "#fb9f3a"
             ],
             [
              0.8888888888888888,
              "#fdca26"
             ],
             [
              1,
              "#f0f921"
             ]
            ],
            "type": "heatmapgl"
           }
          ],
          "histogram": [
           {
            "marker": {
             "colorbar": {
              "outlinewidth": 0,
              "ticks": ""
             }
            },
            "type": "histogram"
           }
          ],
          "histogram2d": [
           {
            "colorbar": {
             "outlinewidth": 0,
             "ticks": ""
            },
            "colorscale": [
             [
              0,
              "#0d0887"
             ],
             [
              0.1111111111111111,
              "#46039f"
             ],
             [
              0.2222222222222222,
              "#7201a8"
             ],
             [
              0.3333333333333333,
              "#9c179e"
             ],
             [
              0.4444444444444444,
              "#bd3786"
             ],
             [
              0.5555555555555556,
              "#d8576b"
             ],
             [
              0.6666666666666666,
              "#ed7953"
             ],
             [
              0.7777777777777778,
              "#fb9f3a"
             ],
             [
              0.8888888888888888,
              "#fdca26"
             ],
             [
              1,
              "#f0f921"
             ]
            ],
            "type": "histogram2d"
           }
          ],
          "histogram2dcontour": [
           {
            "colorbar": {
             "outlinewidth": 0,
             "ticks": ""
            },
            "colorscale": [
             [
              0,
              "#0d0887"
             ],
             [
              0.1111111111111111,
              "#46039f"
             ],
             [
              0.2222222222222222,
              "#7201a8"
             ],
             [
              0.3333333333333333,
              "#9c179e"
             ],
             [
              0.4444444444444444,
              "#bd3786"
             ],
             [
              0.5555555555555556,
              "#d8576b"
             ],
             [
              0.6666666666666666,
              "#ed7953"
             ],
             [
              0.7777777777777778,
              "#fb9f3a"
             ],
             [
              0.8888888888888888,
              "#fdca26"
             ],
             [
              1,
              "#f0f921"
             ]
            ],
            "type": "histogram2dcontour"
           }
          ],
          "mesh3d": [
           {
            "colorbar": {
             "outlinewidth": 0,
             "ticks": ""
            },
            "type": "mesh3d"
           }
          ],
          "parcoords": [
           {
            "line": {
             "colorbar": {
              "outlinewidth": 0,
              "ticks": ""
             }
            },
            "type": "parcoords"
           }
          ],
          "pie": [
           {
            "automargin": true,
            "type": "pie"
           }
          ],
          "scatter": [
           {
            "marker": {
             "colorbar": {
              "outlinewidth": 0,
              "ticks": ""
             }
            },
            "type": "scatter"
           }
          ],
          "scatter3d": [
           {
            "line": {
             "colorbar": {
              "outlinewidth": 0,
              "ticks": ""
             }
            },
            "marker": {
             "colorbar": {
              "outlinewidth": 0,
              "ticks": ""
             }
            },
            "type": "scatter3d"
           }
          ],
          "scattercarpet": [
           {
            "marker": {
             "colorbar": {
              "outlinewidth": 0,
              "ticks": ""
             }
            },
            "type": "scattercarpet"
           }
          ],
          "scattergeo": [
           {
            "marker": {
             "colorbar": {
              "outlinewidth": 0,
              "ticks": ""
             }
            },
            "type": "scattergeo"
           }
          ],
          "scattergl": [
           {
            "marker": {
             "colorbar": {
              "outlinewidth": 0,
              "ticks": ""
             }
            },
            "type": "scattergl"
           }
          ],
          "scattermapbox": [
           {
            "marker": {
             "colorbar": {
              "outlinewidth": 0,
              "ticks": ""
             }
            },
            "type": "scattermapbox"
           }
          ],
          "scatterpolar": [
           {
            "marker": {
             "colorbar": {
              "outlinewidth": 0,
              "ticks": ""
             }
            },
            "type": "scatterpolar"
           }
          ],
          "scatterpolargl": [
           {
            "marker": {
             "colorbar": {
              "outlinewidth": 0,
              "ticks": ""
             }
            },
            "type": "scatterpolargl"
           }
          ],
          "scatterternary": [
           {
            "marker": {
             "colorbar": {
              "outlinewidth": 0,
              "ticks": ""
             }
            },
            "type": "scatterternary"
           }
          ],
          "surface": [
           {
            "colorbar": {
             "outlinewidth": 0,
             "ticks": ""
            },
            "colorscale": [
             [
              0,
              "#0d0887"
             ],
             [
              0.1111111111111111,
              "#46039f"
             ],
             [
              0.2222222222222222,
              "#7201a8"
             ],
             [
              0.3333333333333333,
              "#9c179e"
             ],
             [
              0.4444444444444444,
              "#bd3786"
             ],
             [
              0.5555555555555556,
              "#d8576b"
             ],
             [
              0.6666666666666666,
              "#ed7953"
             ],
             [
              0.7777777777777778,
              "#fb9f3a"
             ],
             [
              0.8888888888888888,
              "#fdca26"
             ],
             [
              1,
              "#f0f921"
             ]
            ],
            "type": "surface"
           }
          ],
          "table": [
           {
            "cells": {
             "fill": {
              "color": "#EBF0F8"
             },
             "line": {
              "color": "white"
             }
            },
            "header": {
             "fill": {
              "color": "#C8D4E3"
             },
             "line": {
              "color": "white"
             }
            },
            "type": "table"
           }
          ]
         },
         "layout": {
          "annotationdefaults": {
           "arrowcolor": "#2a3f5f",
           "arrowhead": 0,
           "arrowwidth": 1
          },
          "autotypenumbers": "strict",
          "coloraxis": {
           "colorbar": {
            "outlinewidth": 0,
            "ticks": ""
           }
          },
          "colorscale": {
           "diverging": [
            [
             0,
             "#8e0152"
            ],
            [
             0.1,
             "#c51b7d"
            ],
            [
             0.2,
             "#de77ae"
            ],
            [
             0.3,
             "#f1b6da"
            ],
            [
             0.4,
             "#fde0ef"
            ],
            [
             0.5,
             "#f7f7f7"
            ],
            [
             0.6,
             "#e6f5d0"
            ],
            [
             0.7,
             "#b8e186"
            ],
            [
             0.8,
             "#7fbc41"
            ],
            [
             0.9,
             "#4d9221"
            ],
            [
             1,
             "#276419"
            ]
           ],
           "sequential": [
            [
             0,
             "#0d0887"
            ],
            [
             0.1111111111111111,
             "#46039f"
            ],
            [
             0.2222222222222222,
             "#7201a8"
            ],
            [
             0.3333333333333333,
             "#9c179e"
            ],
            [
             0.4444444444444444,
             "#bd3786"
            ],
            [
             0.5555555555555556,
             "#d8576b"
            ],
            [
             0.6666666666666666,
             "#ed7953"
            ],
            [
             0.7777777777777778,
             "#fb9f3a"
            ],
            [
             0.8888888888888888,
             "#fdca26"
            ],
            [
             1,
             "#f0f921"
            ]
           ],
           "sequentialminus": [
            [
             0,
             "#0d0887"
            ],
            [
             0.1111111111111111,
             "#46039f"
            ],
            [
             0.2222222222222222,
             "#7201a8"
            ],
            [
             0.3333333333333333,
             "#9c179e"
            ],
            [
             0.4444444444444444,
             "#bd3786"
            ],
            [
             0.5555555555555556,
             "#d8576b"
            ],
            [
             0.6666666666666666,
             "#ed7953"
            ],
            [
             0.7777777777777778,
             "#fb9f3a"
            ],
            [
             0.8888888888888888,
             "#fdca26"
            ],
            [
             1,
             "#f0f921"
            ]
           ]
          },
          "colorway": [
           "#636efa",
           "#EF553B",
           "#00cc96",
           "#ab63fa",
           "#FFA15A",
           "#19d3f3",
           "#FF6692",
           "#B6E880",
           "#FF97FF",
           "#FECB52"
          ],
          "font": {
           "color": "#2a3f5f"
          },
          "geo": {
           "bgcolor": "white",
           "lakecolor": "white",
           "landcolor": "#E5ECF6",
           "showlakes": true,
           "showland": true,
           "subunitcolor": "white"
          },
          "hoverlabel": {
           "align": "left"
          },
          "hovermode": "closest",
          "mapbox": {
           "style": "light"
          },
          "paper_bgcolor": "white",
          "plot_bgcolor": "#E5ECF6",
          "polar": {
           "angularaxis": {
            "gridcolor": "white",
            "linecolor": "white",
            "ticks": ""
           },
           "bgcolor": "#E5ECF6",
           "radialaxis": {
            "gridcolor": "white",
            "linecolor": "white",
            "ticks": ""
           }
          },
          "scene": {
           "xaxis": {
            "backgroundcolor": "#E5ECF6",
            "gridcolor": "white",
            "gridwidth": 2,
            "linecolor": "white",
            "showbackground": true,
            "ticks": "",
            "zerolinecolor": "white"
           },
           "yaxis": {
            "backgroundcolor": "#E5ECF6",
            "gridcolor": "white",
            "gridwidth": 2,
            "linecolor": "white",
            "showbackground": true,
            "ticks": "",
            "zerolinecolor": "white"
           },
           "zaxis": {
            "backgroundcolor": "#E5ECF6",
            "gridcolor": "white",
            "gridwidth": 2,
            "linecolor": "white",
            "showbackground": true,
            "ticks": "",
            "zerolinecolor": "white"
           }
          },
          "shapedefaults": {
           "line": {
            "color": "#2a3f5f"
           }
          },
          "ternary": {
           "aaxis": {
            "gridcolor": "white",
            "linecolor": "white",
            "ticks": ""
           },
           "baxis": {
            "gridcolor": "white",
            "linecolor": "white",
            "ticks": ""
           },
           "bgcolor": "#E5ECF6",
           "caxis": {
            "gridcolor": "white",
            "linecolor": "white",
            "ticks": ""
           }
          },
          "title": {
           "x": 0.05
          },
          "xaxis": {
           "automargin": true,
           "gridcolor": "white",
           "linecolor": "white",
           "ticks": "",
           "title": {
            "standoff": 15
           },
           "zerolinecolor": "white",
           "zerolinewidth": 2
          },
          "yaxis": {
           "automargin": true,
           "gridcolor": "white",
           "linecolor": "white",
           "ticks": "",
           "title": {
            "standoff": 15
           },
           "zerolinecolor": "white",
           "zerolinewidth": 2
          }
         }
        },
        "title": {
         "text": "Report: Section wise"
        },
        "width": 900,
        "xaxis": {
         "title": {
          "text": "Summary"
         }
        },
        "yaxis": {
         "title": {
          "text": "Total_Scores"
         }
        }
       }
      }
     },
     "metadata": {}
    }
   ],
   "source": [
    "# Report : Section Wise\n",
    "name = ['Max_scores','Average_scores','Min_scores']\n",
    "y1_ =[section_wise_score.Tra1_Sec1_score.max(),section_wise_score.Tra1_Sec1_score.mean(),section_wise_score.Tra1_Sec1_score.min()]\n",
    "y2_ =[section_wise_score.Tra1_Sec2_score.max(),section_wise_score.Tra1_Sec2_score.mean(),section_wise_score.Tra1_Sec2_score.min()]\n",
    "y3_ =[section_wise_score.Tra1_Sec3_score.max(),section_wise_score.Tra1_Sec3_score.mean(),section_wise_score.Tra1_Sec3_score.min()]\n",
    "y4_ =[section_wise_score.Tra1_Sec4_score.max(),section_wise_score.Tra1_Sec4_score.mean(),section_wise_score.Tra1_Sec4_score.min()]\n",
    "y5_ =[section_wise_score.Tra2_Sec1_score.max(),section_wise_score.Tra2_Sec1_score.mean(),section_wise_score.Tra2_Sec1_score.min()]\n",
    "y6_ =[section_wise_score.Tra2_Sec2_score.max(),section_wise_score.Tra1_Sec2_score.mean(),section_wise_score.Tra2_Sec2_score.min()]\n",
    "y7_ =[section_wise_score.Tra2_Sec3_score.max(),section_wise_score.Tra1_Sec3_score.mean(),section_wise_score.Tra2_Sec3_score.min()]\n",
    "y8_ =[section_wise_score.Tra2_Sec4_score.max(),section_wise_score.Tra2_Sec4_score.mean(),section_wise_score.Tra2_Sec4_score.min()]\n",
    "fig = go.Figure(data=[\n",
    "    go.Bar(name='Tra1_sec1', x=name,y=y1_),\n",
    "    go.Bar(name='Tra1_sec2', x=name,y=y2_),\n",
    "    go.Bar(name='Tra1_sec3', x=name,y=y3_),\n",
    "    go.Bar(name='Tra1_sec4', x=name,y=y4_),\n",
    "    go.Bar(name='Tra2_sec1', x=name,y=y5_),\n",
    "    go.Bar(name='Tra2_sec2', x=name,y=y6_),\n",
    "    go.Bar(name='Tra2_sec3', x=name,y=y7_),\n",
    "    go.Bar(name='Tra2_sec4', x=name,y=y8_)\n",
    "  \n",
    "\n",
    "])\n",
    "# Change the bar mode\n",
    "fig.update_layout(title='Report: Section wise',xaxis={'title': 'Summary'},yaxis={'title':'Total_Scores'},barmode='group',height=500,width=900)\n",
    "fig.show()"
   ]
  },
  {
   "source": [
    "## Sub-Section Wise"
   ],
   "cell_type": "markdown",
   "metadata": {}
  },
  {
   "cell_type": "code",
   "execution_count": 213,
   "metadata": {},
   "outputs": [
    {
     "output_type": "execute_result",
     "data": {
      "text/plain": [
       "                   Tra1_Sec1_Sub1  Tra1_Sec1_Sub2  Tra1_Sec1_Sub3  \\\n",
       "user_name                                                           \n",
       "Emir Kumar                      4               8               6   \n",
       "Krish Bains                     6               4               5   \n",
       "Akarsh Suresh                   7               5               7   \n",
       "Priyansh Bhalla                 5               7               9   \n",
       "Darshit Sabharwal               5               2               3   \n",
       "\n",
       "                   Tra1_Sec1_Sub4  Tra1_Sec1_Sub5  Tra2_Sec2_Sub1  \\\n",
       "user_name                                                           \n",
       "Emir Kumar                      1               3               3   \n",
       "Krish Bains                     4               9               5   \n",
       "Akarsh Suresh                   2               6               7   \n",
       "Priyansh Bhalla                 8               5               5   \n",
       "Darshit Sabharwal               4               4               5   \n",
       "\n",
       "                   Tra2_Sec2_Sub2  Tra2_Sec2_Sub3  Tra2_Sec2_Sub4  \\\n",
       "user_name                                                           \n",
       "Emir Kumar                      5               4               5   \n",
       "Krish Bains                     6               7               6   \n",
       "Akarsh Suresh                   3               7               6   \n",
       "Priyansh Bhalla                 3               6               3   \n",
       "Darshit Sabharwal               3               4               7   \n",
       "\n",
       "                   Tra2_Sec2_Sub5  total  \n",
       "user_name                                 \n",
       "Emir Kumar                      4     43  \n",
       "Krish Bains                     4     56  \n",
       "Akarsh Suresh                   6     56  \n",
       "Priyansh Bhalla                 5     56  \n",
       "Darshit Sabharwal               5     42  "
      ],
      "text/html": "<div>\n<style scoped>\n    .dataframe tbody tr th:only-of-type {\n        vertical-align: middle;\n    }\n\n    .dataframe tbody tr th {\n        vertical-align: top;\n    }\n\n    .dataframe thead th {\n        text-align: right;\n    }\n</style>\n<table border=\"1\" class=\"dataframe\">\n  <thead>\n    <tr style=\"text-align: right;\">\n      <th></th>\n      <th>Tra1_Sec1_Sub1</th>\n      <th>Tra1_Sec1_Sub2</th>\n      <th>Tra1_Sec1_Sub3</th>\n      <th>Tra1_Sec1_Sub4</th>\n      <th>Tra1_Sec1_Sub5</th>\n      <th>Tra2_Sec2_Sub1</th>\n      <th>Tra2_Sec2_Sub2</th>\n      <th>Tra2_Sec2_Sub3</th>\n      <th>Tra2_Sec2_Sub4</th>\n      <th>Tra2_Sec2_Sub5</th>\n      <th>total</th>\n    </tr>\n    <tr>\n      <th>user_name</th>\n      <th></th>\n      <th></th>\n      <th></th>\n      <th></th>\n      <th></th>\n      <th></th>\n      <th></th>\n      <th></th>\n      <th></th>\n      <th></th>\n      <th></th>\n    </tr>\n  </thead>\n  <tbody>\n    <tr>\n      <th>Emir Kumar</th>\n      <td>4</td>\n      <td>8</td>\n      <td>6</td>\n      <td>1</td>\n      <td>3</td>\n      <td>3</td>\n      <td>5</td>\n      <td>4</td>\n      <td>5</td>\n      <td>4</td>\n      <td>43</td>\n    </tr>\n    <tr>\n      <th>Krish Bains</th>\n      <td>6</td>\n      <td>4</td>\n      <td>5</td>\n      <td>4</td>\n      <td>9</td>\n      <td>5</td>\n      <td>6</td>\n      <td>7</td>\n      <td>6</td>\n      <td>4</td>\n      <td>56</td>\n    </tr>\n    <tr>\n      <th>Akarsh Suresh</th>\n      <td>7</td>\n      <td>5</td>\n      <td>7</td>\n      <td>2</td>\n      <td>6</td>\n      <td>7</td>\n      <td>3</td>\n      <td>7</td>\n      <td>6</td>\n      <td>6</td>\n      <td>56</td>\n    </tr>\n    <tr>\n      <th>Priyansh Bhalla</th>\n      <td>5</td>\n      <td>7</td>\n      <td>9</td>\n      <td>8</td>\n      <td>5</td>\n      <td>5</td>\n      <td>3</td>\n      <td>6</td>\n      <td>3</td>\n      <td>5</td>\n      <td>56</td>\n    </tr>\n    <tr>\n      <th>Darshit Sabharwal</th>\n      <td>5</td>\n      <td>2</td>\n      <td>3</td>\n      <td>4</td>\n      <td>4</td>\n      <td>5</td>\n      <td>3</td>\n      <td>4</td>\n      <td>7</td>\n      <td>5</td>\n      <td>42</td>\n    </tr>\n  </tbody>\n</table>\n</div>"
     },
     "metadata": {},
     "execution_count": 213
    }
   ],
   "source": [
    "sub_section_wise.head()"
   ]
  },
  {
   "cell_type": "code",
   "execution_count": null,
   "metadata": {},
   "outputs": [],
   "source": []
  },
  {
   "cell_type": "markdown",
   "metadata": {},
   "source": [
    "#### 3. Manager level view"
   ]
  },
  {
   "cell_type": "code",
   "execution_count": 42,
   "metadata": {},
   "outputs": [],
   "source": [
    "# Top 5 performers = done\n",
    "# Bottom 5 performers = done\n",
    "# Performnace of all the users over time = done\n"
   ]
  },
  {
   "cell_type": "markdown",
   "metadata": {},
   "source": [
    "### Top5 performers and Worst5 Performers"
   ]
  },
  {
   "cell_type": "code",
   "execution_count": 127,
   "metadata": {},
   "outputs": [],
   "source": [
    "#Filtering data \n",
    "top5 = training_wise_score.sort_values(by='Total_score', ascending=False)\n",
    "worst5 = training_wise_score.sort_values(by='Total_score', ascending=True)\n"
   ]
  },
  {
   "cell_type": "code",
   "execution_count": 132,
   "metadata": {},
   "outputs": [
    {
     "output_type": "display_data",
     "data": {
      "application/vnd.plotly.v1+json": {
       "config": {
        "plotlyServerURL": "https://plot.ly"
       },
       "data": [
        {
         "name": "Training_1",
         "type": "bar",
         "x": [
          "Dhanuk Subramanian",
          "Heer Bains",
          "Aaina Banik",
          "Nitya Bansal",
          "Jayesh Dhawan"
         ],
         "y": [
          341,
          342,
          343,
          341,
          341
         ]
        },
        {
         "name": "Training_2",
         "type": "bar",
         "x": [
          "Dhanuk Subramanian",
          "Heer Bains",
          "Aaina Banik",
          "Nitya Bansal",
          "Jayesh Dhawan"
         ],
         "y": [
          345,
          343,
          342,
          344,
          342
         ]
        },
        {
         "name": "Training_1",
         "type": "bar",
         "x": [
          "Madhav Sagar",
          "Manjari Wason",
          "Trisha Bath",
          "Yuvaan Barman",
          "Samiha Saraf"
         ],
         "y": [
          108,
          101,
          102,
          105,
          94
         ]
        },
        {
         "name": "Training_2",
         "type": "bar",
         "x": [
          "Madhav Sagar",
          "Manjari Wason",
          "Trisha Bath",
          "Yuvaan Barman",
          "Samiha Saraf"
         ],
         "y": [
          81,
          88,
          89,
          90,
          102
         ]
        }
       ],
       "layout": {
        "barmode": "group",
        "height": 520,
        "template": {
         "data": {
          "bar": [
           {
            "error_x": {
             "color": "#2a3f5f"
            },
            "error_y": {
             "color": "#2a3f5f"
            },
            "marker": {
             "line": {
              "color": "#E5ECF6",
              "width": 0.5
             }
            },
            "type": "bar"
           }
          ],
          "barpolar": [
           {
            "marker": {
             "line": {
              "color": "#E5ECF6",
              "width": 0.5
             }
            },
            "type": "barpolar"
           }
          ],
          "carpet": [
           {
            "aaxis": {
             "endlinecolor": "#2a3f5f",
             "gridcolor": "white",
             "linecolor": "white",
             "minorgridcolor": "white",
             "startlinecolor": "#2a3f5f"
            },
            "baxis": {
             "endlinecolor": "#2a3f5f",
             "gridcolor": "white",
             "linecolor": "white",
             "minorgridcolor": "white",
             "startlinecolor": "#2a3f5f"
            },
            "type": "carpet"
           }
          ],
          "choropleth": [
           {
            "colorbar": {
             "outlinewidth": 0,
             "ticks": ""
            },
            "type": "choropleth"
           }
          ],
          "contour": [
           {
            "colorbar": {
             "outlinewidth": 0,
             "ticks": ""
            },
            "colorscale": [
             [
              0,
              "#0d0887"
             ],
             [
              0.1111111111111111,
              "#46039f"
             ],
             [
              0.2222222222222222,
              "#7201a8"
             ],
             [
              0.3333333333333333,
              "#9c179e"
             ],
             [
              0.4444444444444444,
              "#bd3786"
             ],
             [
              0.5555555555555556,
              "#d8576b"
             ],
             [
              0.6666666666666666,
              "#ed7953"
             ],
             [
              0.7777777777777778,
              "#fb9f3a"
             ],
             [
              0.8888888888888888,
              "#fdca26"
             ],
             [
              1,
              "#f0f921"
             ]
            ],
            "type": "contour"
           }
          ],
          "contourcarpet": [
           {
            "colorbar": {
             "outlinewidth": 0,
             "ticks": ""
            },
            "type": "contourcarpet"
           }
          ],
          "heatmap": [
           {
            "colorbar": {
             "outlinewidth": 0,
             "ticks": ""
            },
            "colorscale": [
             [
              0,
              "#0d0887"
             ],
             [
              0.1111111111111111,
              "#46039f"
             ],
             [
              0.2222222222222222,
              "#7201a8"
             ],
             [
              0.3333333333333333,
              "#9c179e"
             ],
             [
              0.4444444444444444,
              "#bd3786"
             ],
             [
              0.5555555555555556,
              "#d8576b"
             ],
             [
              0.6666666666666666,
              "#ed7953"
             ],
             [
              0.7777777777777778,
              "#fb9f3a"
             ],
             [
              0.8888888888888888,
              "#fdca26"
             ],
             [
              1,
              "#f0f921"
             ]
            ],
            "type": "heatmap"
           }
          ],
          "heatmapgl": [
           {
            "colorbar": {
             "outlinewidth": 0,
             "ticks": ""
            },
            "colorscale": [
             [
              0,
              "#0d0887"
             ],
             [
              0.1111111111111111,
              "#46039f"
             ],
             [
              0.2222222222222222,
              "#7201a8"
             ],
             [
              0.3333333333333333,
              "#9c179e"
             ],
             [
              0.4444444444444444,
              "#bd3786"
             ],
             [
              0.5555555555555556,
              "#d8576b"
             ],
             [
              0.6666666666666666,
              "#ed7953"
             ],
             [
              0.7777777777777778,
              "#fb9f3a"
             ],
             [
              0.8888888888888888,
              "#fdca26"
             ],
             [
              1,
              "#f0f921"
             ]
            ],
            "type": "heatmapgl"
           }
          ],
          "histogram": [
           {
            "marker": {
             "colorbar": {
              "outlinewidth": 0,
              "ticks": ""
             }
            },
            "type": "histogram"
           }
          ],
          "histogram2d": [
           {
            "colorbar": {
             "outlinewidth": 0,
             "ticks": ""
            },
            "colorscale": [
             [
              0,
              "#0d0887"
             ],
             [
              0.1111111111111111,
              "#46039f"
             ],
             [
              0.2222222222222222,
              "#7201a8"
             ],
             [
              0.3333333333333333,
              "#9c179e"
             ],
             [
              0.4444444444444444,
              "#bd3786"
             ],
             [
              0.5555555555555556,
              "#d8576b"
             ],
             [
              0.6666666666666666,
              "#ed7953"
             ],
             [
              0.7777777777777778,
              "#fb9f3a"
             ],
             [
              0.8888888888888888,
              "#fdca26"
             ],
             [
              1,
              "#f0f921"
             ]
            ],
            "type": "histogram2d"
           }
          ],
          "histogram2dcontour": [
           {
            "colorbar": {
             "outlinewidth": 0,
             "ticks": ""
            },
            "colorscale": [
             [
              0,
              "#0d0887"
             ],
             [
              0.1111111111111111,
              "#46039f"
             ],
             [
              0.2222222222222222,
              "#7201a8"
             ],
             [
              0.3333333333333333,
              "#9c179e"
             ],
             [
              0.4444444444444444,
              "#bd3786"
             ],
             [
              0.5555555555555556,
              "#d8576b"
             ],
             [
              0.6666666666666666,
              "#ed7953"
             ],
             [
              0.7777777777777778,
              "#fb9f3a"
             ],
             [
              0.8888888888888888,
              "#fdca26"
             ],
             [
              1,
              "#f0f921"
             ]
            ],
            "type": "histogram2dcontour"
           }
          ],
          "mesh3d": [
           {
            "colorbar": {
             "outlinewidth": 0,
             "ticks": ""
            },
            "type": "mesh3d"
           }
          ],
          "parcoords": [
           {
            "line": {
             "colorbar": {
              "outlinewidth": 0,
              "ticks": ""
             }
            },
            "type": "parcoords"
           }
          ],
          "pie": [
           {
            "automargin": true,
            "type": "pie"
           }
          ],
          "scatter": [
           {
            "marker": {
             "colorbar": {
              "outlinewidth": 0,
              "ticks": ""
             }
            },
            "type": "scatter"
           }
          ],
          "scatter3d": [
           {
            "line": {
             "colorbar": {
              "outlinewidth": 0,
              "ticks": ""
             }
            },
            "marker": {
             "colorbar": {
              "outlinewidth": 0,
              "ticks": ""
             }
            },
            "type": "scatter3d"
           }
          ],
          "scattercarpet": [
           {
            "marker": {
             "colorbar": {
              "outlinewidth": 0,
              "ticks": ""
             }
            },
            "type": "scattercarpet"
           }
          ],
          "scattergeo": [
           {
            "marker": {
             "colorbar": {
              "outlinewidth": 0,
              "ticks": ""
             }
            },
            "type": "scattergeo"
           }
          ],
          "scattergl": [
           {
            "marker": {
             "colorbar": {
              "outlinewidth": 0,
              "ticks": ""
             }
            },
            "type": "scattergl"
           }
          ],
          "scattermapbox": [
           {
            "marker": {
             "colorbar": {
              "outlinewidth": 0,
              "ticks": ""
             }
            },
            "type": "scattermapbox"
           }
          ],
          "scatterpolar": [
           {
            "marker": {
             "colorbar": {
              "outlinewidth": 0,
              "ticks": ""
             }
            },
            "type": "scatterpolar"
           }
          ],
          "scatterpolargl": [
           {
            "marker": {
             "colorbar": {
              "outlinewidth": 0,
              "ticks": ""
             }
            },
            "type": "scatterpolargl"
           }
          ],
          "scatterternary": [
           {
            "marker": {
             "colorbar": {
              "outlinewidth": 0,
              "ticks": ""
             }
            },
            "type": "scatterternary"
           }
          ],
          "surface": [
           {
            "colorbar": {
             "outlinewidth": 0,
             "ticks": ""
            },
            "colorscale": [
             [
              0,
              "#0d0887"
             ],
             [
              0.1111111111111111,
              "#46039f"
             ],
             [
              0.2222222222222222,
              "#7201a8"
             ],
             [
              0.3333333333333333,
              "#9c179e"
             ],
             [
              0.4444444444444444,
              "#bd3786"
             ],
             [
              0.5555555555555556,
              "#d8576b"
             ],
             [
              0.6666666666666666,
              "#ed7953"
             ],
             [
              0.7777777777777778,
              "#fb9f3a"
             ],
             [
              0.8888888888888888,
              "#fdca26"
             ],
             [
              1,
              "#f0f921"
             ]
            ],
            "type": "surface"
           }
          ],
          "table": [
           {
            "cells": {
             "fill": {
              "color": "#EBF0F8"
             },
             "line": {
              "color": "white"
             }
            },
            "header": {
             "fill": {
              "color": "#C8D4E3"
             },
             "line": {
              "color": "white"
             }
            },
            "type": "table"
           }
          ]
         },
         "layout": {
          "annotationdefaults": {
           "arrowcolor": "#2a3f5f",
           "arrowhead": 0,
           "arrowwidth": 1
          },
          "autotypenumbers": "strict",
          "coloraxis": {
           "colorbar": {
            "outlinewidth": 0,
            "ticks": ""
           }
          },
          "colorscale": {
           "diverging": [
            [
             0,
             "#8e0152"
            ],
            [
             0.1,
             "#c51b7d"
            ],
            [
             0.2,
             "#de77ae"
            ],
            [
             0.3,
             "#f1b6da"
            ],
            [
             0.4,
             "#fde0ef"
            ],
            [
             0.5,
             "#f7f7f7"
            ],
            [
             0.6,
             "#e6f5d0"
            ],
            [
             0.7,
             "#b8e186"
            ],
            [
             0.8,
             "#7fbc41"
            ],
            [
             0.9,
             "#4d9221"
            ],
            [
             1,
             "#276419"
            ]
           ],
           "sequential": [
            [
             0,
             "#0d0887"
            ],
            [
             0.1111111111111111,
             "#46039f"
            ],
            [
             0.2222222222222222,
             "#7201a8"
            ],
            [
             0.3333333333333333,
             "#9c179e"
            ],
            [
             0.4444444444444444,
             "#bd3786"
            ],
            [
             0.5555555555555556,
             "#d8576b"
            ],
            [
             0.6666666666666666,
             "#ed7953"
            ],
            [
             0.7777777777777778,
             "#fb9f3a"
            ],
            [
             0.8888888888888888,
             "#fdca26"
            ],
            [
             1,
             "#f0f921"
            ]
           ],
           "sequentialminus": [
            [
             0,
             "#0d0887"
            ],
            [
             0.1111111111111111,
             "#46039f"
            ],
            [
             0.2222222222222222,
             "#7201a8"
            ],
            [
             0.3333333333333333,
             "#9c179e"
            ],
            [
             0.4444444444444444,
             "#bd3786"
            ],
            [
             0.5555555555555556,
             "#d8576b"
            ],
            [
             0.6666666666666666,
             "#ed7953"
            ],
            [
             0.7777777777777778,
             "#fb9f3a"
            ],
            [
             0.8888888888888888,
             "#fdca26"
            ],
            [
             1,
             "#f0f921"
            ]
           ]
          },
          "colorway": [
           "#636efa",
           "#EF553B",
           "#00cc96",
           "#ab63fa",
           "#FFA15A",
           "#19d3f3",
           "#FF6692",
           "#B6E880",
           "#FF97FF",
           "#FECB52"
          ],
          "font": {
           "color": "#2a3f5f"
          },
          "geo": {
           "bgcolor": "white",
           "lakecolor": "white",
           "landcolor": "#E5ECF6",
           "showlakes": true,
           "showland": true,
           "subunitcolor": "white"
          },
          "hoverlabel": {
           "align": "left"
          },
          "hovermode": "closest",
          "mapbox": {
           "style": "light"
          },
          "paper_bgcolor": "white",
          "plot_bgcolor": "#E5ECF6",
          "polar": {
           "angularaxis": {
            "gridcolor": "white",
            "linecolor": "white",
            "ticks": ""
           },
           "bgcolor": "#E5ECF6",
           "radialaxis": {
            "gridcolor": "white",
            "linecolor": "white",
            "ticks": ""
           }
          },
          "scene": {
           "xaxis": {
            "backgroundcolor": "#E5ECF6",
            "gridcolor": "white",
            "gridwidth": 2,
            "linecolor": "white",
            "showbackground": true,
            "ticks": "",
            "zerolinecolor": "white"
           },
           "yaxis": {
            "backgroundcolor": "#E5ECF6",
            "gridcolor": "white",
            "gridwidth": 2,
            "linecolor": "white",
            "showbackground": true,
            "ticks": "",
            "zerolinecolor": "white"
           },
           "zaxis": {
            "backgroundcolor": "#E5ECF6",
            "gridcolor": "white",
            "gridwidth": 2,
            "linecolor": "white",
            "showbackground": true,
            "ticks": "",
            "zerolinecolor": "white"
           }
          },
          "shapedefaults": {
           "line": {
            "color": "#2a3f5f"
           }
          },
          "ternary": {
           "aaxis": {
            "gridcolor": "white",
            "linecolor": "white",
            "ticks": ""
           },
           "baxis": {
            "gridcolor": "white",
            "linecolor": "white",
            "ticks": ""
           },
           "bgcolor": "#E5ECF6",
           "caxis": {
            "gridcolor": "white",
            "linecolor": "white",
            "ticks": ""
           }
          },
          "title": {
           "x": 0.05
          },
          "xaxis": {
           "automargin": true,
           "gridcolor": "white",
           "linecolor": "white",
           "ticks": "",
           "title": {
            "standoff": 15
           },
           "zerolinecolor": "white",
           "zerolinewidth": 2
          },
          "yaxis": {
           "automargin": true,
           "gridcolor": "white",
           "linecolor": "white",
           "ticks": "",
           "title": {
            "standoff": 15
           },
           "zerolinecolor": "white",
           "zerolinewidth": 2
          }
         }
        },
        "title": {
         "text": "Overall Top5 vs Worst5"
        },
        "width": 720,
        "xaxis": {
         "title": {
          "text": "Users"
         }
        },
        "yaxis": {
         "title": {
          "text": "Scores_training wise"
         }
        }
       }
      }
     },
     "metadata": {}
    }
   ],
   "source": [
    "# viz top 5 and bottom 5 for Overall\n",
    "\n",
    "top_perf = top5.index[0:5].values\n",
    "tra1 = top5.Tra1_score[0:5].values\n",
    "tra2 = top5.Tra2_score[0:5].values\n",
    "last_perf = worst5.index[0:5].values\n",
    "tra1_ =worst5.Tra1_score[0:5].values\n",
    "tra2_ =worst5.Tra2_score[0:5].values\n",
    "\n",
    "fig = go.Figure(data=[\n",
    "    go.Bar(name='Training_1', x=top_perf, y=tra1),\n",
    "    go.Bar(name='Training_2', x=top_perf, y=tra2),\n",
    "    go.Bar(name='Training_1', x=last_perf, y=tra1_),\n",
    "    go.Bar(name='Training_2', x=last_perf, y=tra2_)\n",
    "])\n",
    "# Change the bar mode\n",
    "fig.update_layout(title='Overall Top5 vs Worst5',xaxis={'title': 'Users'},yaxis={'title':'Scores_training wise'},barmode='group',height=520,width=720)\n",
    "fig.show()\n"
   ]
  },
  {
   "cell_type": "markdown",
   "metadata": {},
   "source": [
    "## Overall Performance of Users\n",
    "\n",
    "Please input the number of users out of 1005 for viewing ovarall performance"
   ]
  },
  {
   "cell_type": "code",
   "execution_count": 124,
   "metadata": {},
   "outputs": [
    {
     "output_type": "execute_result",
     "data": {
      "text/plain": [
       "                   Tra1_Sec1_score  Tra1_Sec2_score  Tra1_Sec3_score  \\\n",
       "user_name                                                              \n",
       "Emir Kumar                      22               25               31   \n",
       "Krish Bains                     28               28               28   \n",
       "Akarsh Suresh                   27               30               27   \n",
       "Priyansh Bhalla                 34               21               38   \n",
       "Darshit Sabharwal               18               34               31   \n",
       "...                            ...              ...              ...   \n",
       "Rhea Lad                        90               83               68   \n",
       "Yakshit Brar                    90               86               74   \n",
       "Rohan Chhabra                   89               84               75   \n",
       "Vaibhav Borra                   90               83               69   \n",
       "Nayantara Yogi                  90               88               72   \n",
       "\n",
       "                   Tra1_Sec4_score  Tra2_Sec1_score  Tra2_Sec2_score  \\\n",
       "user_name                                                              \n",
       "Emir Kumar                      28               25               21   \n",
       "Krish Bains                     21               19               28   \n",
       "Akarsh Suresh                   28               35               29   \n",
       "Priyansh Bhalla                 26               18               22   \n",
       "Darshit Sabharwal               28               26               24   \n",
       "...                            ...              ...              ...   \n",
       "Rhea Lad                        52               32               14   \n",
       "Yakshit Brar                    51               40               14   \n",
       "Rohan Chhabra                   57               37               13   \n",
       "Vaibhav Borra                   53               43               17   \n",
       "Nayantara Yogi                  55               25               17   \n",
       "\n",
       "                   Tra2_Sec3_score  Tra2_Sec4_score  total  \n",
       "user_name                                                   \n",
       "Emir Kumar                      26               29    207  \n",
       "Krish Bains                     24               36    212  \n",
       "Akarsh Suresh                   35               27    238  \n",
       "Priyansh Bhalla                 27               32    218  \n",
       "Darshit Sabharwal               31               26    218  \n",
       "...                            ...              ...    ...  \n",
       "Rhea Lad                         9                0    348  \n",
       "Yakshit Brar                     3                0    358  \n",
       "Rohan Chhabra                    7                0    362  \n",
       "Vaibhav Borra                    7                1    363  \n",
       "Nayantara Yogi                   3                2    352  \n",
       "\n",
       "[1005 rows x 9 columns]"
      ],
      "text/html": "<div>\n<style scoped>\n    .dataframe tbody tr th:only-of-type {\n        vertical-align: middle;\n    }\n\n    .dataframe tbody tr th {\n        vertical-align: top;\n    }\n\n    .dataframe thead th {\n        text-align: right;\n    }\n</style>\n<table border=\"1\" class=\"dataframe\">\n  <thead>\n    <tr style=\"text-align: right;\">\n      <th></th>\n      <th>Tra1_Sec1_score</th>\n      <th>Tra1_Sec2_score</th>\n      <th>Tra1_Sec3_score</th>\n      <th>Tra1_Sec4_score</th>\n      <th>Tra2_Sec1_score</th>\n      <th>Tra2_Sec2_score</th>\n      <th>Tra2_Sec3_score</th>\n      <th>Tra2_Sec4_score</th>\n      <th>total</th>\n    </tr>\n    <tr>\n      <th>user_name</th>\n      <th></th>\n      <th></th>\n      <th></th>\n      <th></th>\n      <th></th>\n      <th></th>\n      <th></th>\n      <th></th>\n      <th></th>\n    </tr>\n  </thead>\n  <tbody>\n    <tr>\n      <th>Emir Kumar</th>\n      <td>22</td>\n      <td>25</td>\n      <td>31</td>\n      <td>28</td>\n      <td>25</td>\n      <td>21</td>\n      <td>26</td>\n      <td>29</td>\n      <td>207</td>\n    </tr>\n    <tr>\n      <th>Krish Bains</th>\n      <td>28</td>\n      <td>28</td>\n      <td>28</td>\n      <td>21</td>\n      <td>19</td>\n      <td>28</td>\n      <td>24</td>\n      <td>36</td>\n      <td>212</td>\n    </tr>\n    <tr>\n      <th>Akarsh Suresh</th>\n      <td>27</td>\n      <td>30</td>\n      <td>27</td>\n      <td>28</td>\n      <td>35</td>\n      <td>29</td>\n      <td>35</td>\n      <td>27</td>\n      <td>238</td>\n    </tr>\n    <tr>\n      <th>Priyansh Bhalla</th>\n      <td>34</td>\n      <td>21</td>\n      <td>38</td>\n      <td>26</td>\n      <td>18</td>\n      <td>22</td>\n      <td>27</td>\n      <td>32</td>\n      <td>218</td>\n    </tr>\n    <tr>\n      <th>Darshit Sabharwal</th>\n      <td>18</td>\n      <td>34</td>\n      <td>31</td>\n      <td>28</td>\n      <td>26</td>\n      <td>24</td>\n      <td>31</td>\n      <td>26</td>\n      <td>218</td>\n    </tr>\n    <tr>\n      <th>...</th>\n      <td>...</td>\n      <td>...</td>\n      <td>...</td>\n      <td>...</td>\n      <td>...</td>\n      <td>...</td>\n      <td>...</td>\n      <td>...</td>\n      <td>...</td>\n    </tr>\n    <tr>\n      <th>Rhea Lad</th>\n      <td>90</td>\n      <td>83</td>\n      <td>68</td>\n      <td>52</td>\n      <td>32</td>\n      <td>14</td>\n      <td>9</td>\n      <td>0</td>\n      <td>348</td>\n    </tr>\n    <tr>\n      <th>Yakshit Brar</th>\n      <td>90</td>\n      <td>86</td>\n      <td>74</td>\n      <td>51</td>\n      <td>40</td>\n      <td>14</td>\n      <td>3</td>\n      <td>0</td>\n      <td>358</td>\n    </tr>\n    <tr>\n      <th>Rohan Chhabra</th>\n      <td>89</td>\n      <td>84</td>\n      <td>75</td>\n      <td>57</td>\n      <td>37</td>\n      <td>13</td>\n      <td>7</td>\n      <td>0</td>\n      <td>362</td>\n    </tr>\n    <tr>\n      <th>Vaibhav Borra</th>\n      <td>90</td>\n      <td>83</td>\n      <td>69</td>\n      <td>53</td>\n      <td>43</td>\n      <td>17</td>\n      <td>7</td>\n      <td>1</td>\n      <td>363</td>\n    </tr>\n    <tr>\n      <th>Nayantara Yogi</th>\n      <td>90</td>\n      <td>88</td>\n      <td>72</td>\n      <td>55</td>\n      <td>25</td>\n      <td>17</td>\n      <td>3</td>\n      <td>2</td>\n      <td>352</td>\n    </tr>\n  </tbody>\n</table>\n<p>1005 rows × 9 columns</p>\n</div>"
     },
     "metadata": {},
     "execution_count": 124
    }
   ],
   "source": [
    "section_wise_score"
   ]
  },
  {
   "cell_type": "code",
   "execution_count": 284,
   "metadata": {},
   "outputs": [
    {
     "output_type": "stream",
     "name": "stdout",
     "text": [
      "Give the number of Users\n"
     ]
    },
    {
     "output_type": "display_data",
     "data": {
      "application/vnd.plotly.v1+json": {
       "config": {
        "plotlyServerURL": "https://plot.ly"
       },
       "data": [
        {
         "mode": "lines+markers",
         "name": "Perfomance Line",
         "type": "scatter",
         "x": [
          189,
          189,
          191,
          195,
          196,
          199,
          199,
          200,
          200,
          200,
          201,
          201,
          201,
          201,
          202,
          203,
          203,
          203,
          204,
          204,
          205,
          205,
          205,
          205,
          205,
          206,
          206,
          207,
          207,
          208,
          208,
          209,
          210,
          210,
          210,
          210,
          210,
          211,
          211,
          211,
          211,
          211,
          211,
          211,
          212,
          212,
          212,
          212,
          212,
          212,
          212,
          212,
          213,
          213,
          213,
          213,
          213,
          214,
          214,
          214,
          214,
          214,
          214,
          214,
          215,
          215,
          215,
          215,
          215,
          215,
          215,
          215,
          215,
          215,
          215,
          215,
          215,
          215,
          215,
          216,
          216,
          216,
          216,
          216,
          216
         ],
         "y": [
          "Emir Kumar",
          "Krish Bains",
          "Akarsh Suresh",
          "Priyansh Bhalla",
          "Darshit Sabharwal",
          "Krish Keer",
          "Rasha Rana",
          "Gatik Mallick",
          "Alisha Kanda",
          "Madhup Dasgupta",
          "Onkar Ramesh",
          "Hridaan Dutta",
          "Arhaan Kalla",
          "Tanya Bala",
          "Rohan Sinha",
          "Badal Badami",
          "Ishaan Kala",
          "Adah Behl",
          "Vaibhav Sidhu",
          "Riaan Agarwal",
          "Manjari Wason",
          "Priyansh Dutt",
          "Anay Sangha",
          "Zoya Deo",
          "Aniruddh Chad",
          "Shanaya Dixit",
          "Yashvi Ray",
          "Krish Khalsa",
          "Lagan D’Alia",
          "Anaya Bhandari",
          "Mahika Sani",
          "Shray Saraf",
          "Lakshit Ganesan",
          "Samar Jain",
          "Prerak Chakraborty",
          "Darshit Thaker",
          "Jiya Mann",
          "Anaya Wagle",
          "Prerak Batta",
          "Sana Edwin",
          "Reyansh Edwin",
          "Advika Sani",
          "Saanvi Bedi",
          "Fateh Baria",
          "Arnav Talwar",
          "Sara Hayer",
          "Bhamini Lalla",
          "Samaira Deo",
          "Nayantara Loyal",
          "Ehsaan Kar",
          "Aarush Bhandari",
          "Abram Halder",
          "Kavya Bumb",
          "Zaina Agrawal",
          "Vivaan Rajagopalan",
          "Samarth Sharma",
          "Himmat Dora",
          "Aradhya Soni",
          "Veer Verma",
          "Dhanuk Bath",
          "Miraya Saraf",
          "Stuvan Madan",
          "Aarush Kashyap",
          "Lakshit Singhal",
          "Miraan Sathe",
          "Parinaaz Sastry",
          "Madhav Banerjee",
          "Saira Bassi",
          "Riaan Gokhale",
          "Seher Roy",
          "Reyansh Magar",
          "Ranbir Krishnamurthy",
          "Ela Varghese",
          "Manjari Devan",
          "Tarini Yogi",
          "Anay Mammen",
          "Ishita Chaudhary",
          "Manjari Randhawa",
          "Fateh Sachdeva",
          "Stuvan Dash",
          "Nitya Mani",
          "Onkar Zachariah",
          "Aarav Rajagopalan",
          "Rasha Ramesh",
          "Samiha Sama",
          "Aayush Dalal",
          "Reyansh Cherian",
          "Sana Luthra",
          "Shaan Borra",
          "Jivin Ramachandran",
          "Anay Atwal",
          "Nirvi Halder",
          "Tanya Bhatti",
          "Jayesh Borah",
          "Ritvik Sankar",
          "Zoya Sood",
          "Umang Basak",
          "Anay Lalla",
          "Rohan Bhatnagar",
          "Saksham Venkatesh",
          "Samiha Chakraborty",
          "Kaira Bala",
          "Gokul Gola",
          "Nayantara Dixit",
          "Kaira Sarkar",
          "Vidur Dua",
          "Rhea Kumar",
          "Rania Dube",
          "Hazel Singh",
          "Urvi Jani",
          "Purab Maharaj",
          "Dishani Vig",
          "Jayesh Sant",
          "Hiran Bhasin",
          "Rania Chanda",
          "Azad Lalla",
          "Amani Krishnan",
          "Ehsaan Choudhary",
          "Shlok Bawa",
          "Parinaaz Ramakrishnan",
          "Aarna Grewal",
          "Oorja Sood",
          "Nitya Vasa",
          "Inaaya  Chawla",
          "Hrishita Ravel",
          "Romil Mani",
          "Myra Dash",
          "Samar Lala",
          "Divij Randhawa",
          "Parinaaz Sura",
          "Alisha Gokhale",
          "Jivin Varghese",
          "Myra Butala",
          "Anay Dhawan",
          "Badal Chatterjee",
          "Rati Ghosh",
          "Uthkarsh Kala",
          "Mahika Sinha",
          "Kanav Bhakta",
          "Vaibhav Mannan",
          "Adira Gupta",
          "Zoya Thaman",
          "Parinaaz Lanka",
          "Armaan Mani",
          "Ivana Raja",
          "Nakul Kurian",
          "Eva Chada",
          "Nirvi Bhattacharyya",
          "Charvi Balan",
          "Azad Dugar",
          "Umang Subramaniam",
          "Yuvaan Barman",
          "Taran Chopra",
          "Lavanya Halder",
          "Krish Barman",
          "Nitara Seth",
          "Devansh Behl",
          "Azad Saini",
          "Krish Venkatesh",
          "Misha Sarkar",
          "Alisha Shetty",
          "Samarth Kothari",
          "Shamik Devan",
          "Gatik Lad",
          "Alia Savant",
          "Azad Lad",
          "Miraan Koshy",
          "Anaya Sem",
          "Shayak Brahmbhatt",
          "Anaya Chana",
          "Anika Sood",
          "Lavanya Saran",
          "Anika Guha",
          "Aarna Bahri",
          "Saira Subramanian",
          "Fateh Loke",
          "Alisha Doshi",
          "Aniruddh Balasubramanian",
          "Madhav Sagar",
          "Manikya Kala",
          "Tushar Sarma",
          "Jivika Kata",
          "Suhana Kapoor",
          "Neysa Soman",
          "Umang Rao",
          "Misha Varma",
          "Miraan Yohannan",
          "Hridaan Bhasin",
          "Parinaaz Mander",
          "Uthkarsh Vora",
          "Amani Bhavsar",
          "Alia Karnik",
          "Hansh Chana",
          "Nehmat Kalla",
          "Tejas Sem",
          "Zoya Kari",
          "Umang Bedi",
          "Samiha Saraf",
          "Trisha Bath",
          "Hansh Zachariah",
          "Rati Singhal",
          "Ela Vig",
          "Saanvi Bail",
          "Yashvi Kannan",
          "Zaina Krishnan",
          "Lakshay Borah",
          "Ivan Gara",
          "Lavanya Kata",
          "Gokul Doctor",
          "Drishya Kothari",
          "Lavanya Raval",
          "Urvi Kala",
          "Prisha Goel",
          "Divij Das",
          "Lakshay Mammen",
          "Anvi Dayal",
          "Kartik Rajagopalan",
          "Gatik Barad",
          "Ayesha Acharya",
          "Anya Baral",
          "Anay Raval",
          "Jayesh Sachdeva",
          "Shamik Sandal",
          "Myra D’Alia",
          "Indrajit Chad",
          "Miraan Madan",
          "Umang Bhagat",
          "Pari Choudhary",
          "Ayesha Thakur",
          "Aarav Deep",
          "Samar Dube",
          "Aarush Buch",
          "Divij Choudhury",
          "Prerak Loyal",
          "Ivan Sharaf",
          "Divij Garde",
          "Miraya Bansal",
          "Samar Chaudry",
          "Ela Desai",
          "Armaan Yohannan",
          "Zeeshan Ram",
          "Urvi Vaidya",
          "Sahil Kar",
          "Ishita Ganesh",
          "Mannat Handa",
          "Elakshi Ratta",
          "Advika Samra",
          "Faiyaz Sarin",
          "Adah Bhasin",
          "Riya Anne",
          "Jivin Ramesh",
          "Aradhya Sahni",
          "Piya Bali",
          "Chirag Kibe",
          "Riya Sarin",
          "Dhruv Jain",
          "Samar Seshadri",
          "Sumer Virk",
          "Rasha Chaudhry",
          "Piya Ghosh",
          "Arhaan Anne",
          "Nayantara Kaul",
          "Ayesha Bumb",
          "Kanav Gandhi",
          "Aaina Banik",
          "Aaina Loke",
          "Khushi Ganguly",
          "Tara Varty",
          "Raunak Bahri",
          "Arnav Shankar",
          "Purab Saran",
          "Piya Dubey",
          "Priyansh Sawhney",
          "Yakshit Singhal",
          "Purab Sura",
          "Arnav D’Alia",
          "Yashvi Chahal",
          "Darshit Ramaswamy",
          "Dishani Ramaswamy",
          "Advika Sidhu",
          "Saanvi Grover",
          "Rasha Bhardwaj",
          "Jiya Tiwari",
          "Yasmin Chaudhry",
          "Samaira Taneja",
          "Diya Yogi",
          "Ranbir Behl",
          "Miraan Tandon",
          "Keya Trivedi",
          "Kaira Sawhney",
          "Saanvi Babu",
          "Gatik Banerjee",
          "Kashvi Khanna",
          "Suhana Sami",
          "Jiya Dave",
          "Riaan Bath",
          "Aradhya Dubey",
          "Nirvaan Subramaniam",
          "Charvi Ram",
          "Saksham Swaminathan",
          "Divyansh Goswami",
          "Himmat Bail",
          "Pari Gokhale",
          "Miraya Chakraborty",
          "Aarna Maharaj",
          "Anay Chaudhry",
          "Sahil Bahl",
          "Damini Dhar",
          "Rohan Tripathi",
          "Nitara Dhawan",
          "Heer Deshmukh",
          "Vidur Maharaj",
          "Rohan Dugar",
          "Fateh Shroff",
          "Onkar Bora",
          "Saksham Acharya",
          "Bhavin Garde",
          "Anay Bakshi",
          "Misha Ramesh",
          "Lavanya Dixit",
          "Ishita Brahmbhatt",
          "Vanya Joshi",
          "Amira Keer",
          "Amira Krishna",
          "Nirvaan Chander",
          "Romil Gola",
          "Onkar Barad",
          "Shayak Srivastava",
          "Kismat Tiwari",
          "Piya Vaidya",
          "Reyansh Comar",
          "Vardaniya Ranganathan",
          "Romil Gade",
          "Madhup Saraf",
          "Aaryahi Buch",
          "Anay Reddy",
          "Aradhya Date",
          "Anay Gulati",
          "Pari Wagle",
          "Shamik Karan",
          "Mannat Swaminathan",
          "Prisha Amble",
          "Amira Dugar",
          "Sana Dar",
          "Dhanuk Subramanian",
          "Mehul Dayal",
          "Adira Srivastava",
          "Romil Tripathi",
          "Rohan Garg",
          "Lakshay Bhagat",
          "Khushi Bava",
          "Veer Swaminathan",
          "Jivin Chaudry",
          "Hrishita Sibal",
          "Misha Tak",
          "Kartik Deol",
          "Jivin Vaidya",
          "Adira Mand",
          "Divyansh Manne",
          "Farhan Varma",
          "Sahil Sagar",
          "Yakshit Iyengar",
          "Veer Ranganathan",
          "Mehul Mandal",
          "Jayant Sengupta",
          "Trisha Agate",
          "Shray Bhatnagar",
          "Seher Bhardwaj",
          "Anvi Hegde",
          "Gatik Dhingra",
          "Aaryahi Deshpande",
          "Gatik Dube",
          "Vardaniya Yogi",
          "Ivan Sandal",
          "Devansh Barman",
          "Advik Sandal",
          "Nishith Baral",
          "Hridaan Agarwal",
          "Divyansh Handa",
          "Madhup Gole",
          "Vanya Gandhi",
          "Ivan Lal",
          "Shalv Bhargava",
          "Lakshay Sawhney",
          "Nitara Sharma",
          "Vanya Dhillon",
          "Seher Krishnan",
          "Pranay Sunder",
          "Navya Dar",
          "Nitya Bansal",
          "Gokul Taneja",
          "Diya Kale",
          "Zara Taneja",
          "Neysa Wable",
          "Divij Gokhale",
          "Veer Ram",
          "Nitara Ramesh",
          "Sana Ravel",
          "Lakshit Sane",
          "Nishith Chahal",
          "Siya Mallick",
          "Lavanya Hayer",
          "Vedika Toor",
          "Heer Bains",
          "Zara Bora",
          "Tarini Gola",
          "Gokul Grover",
          "Nishith Bains",
          "Aarush Sawhney",
          "Ayesha Shukla",
          "Diya Dayal",
          "Ojas Vasa",
          "Shray Khalsa",
          "Jayesh Madan",
          "Ryan Kunda",
          "Vedika Thaker",
          "Miraya Wali",
          "Vidur Loke",
          "Khushi Koshy",
          "Inaaya  Basak",
          "Drishya Dhillon",
          "Jayesh Dhawan",
          "Romil Das",
          "Divit Sule",
          "Farhan Bhardwaj",
          "Hrishita Cheema",
          "Nirvaan Golla",
          "Romil Kuruvilla",
          "Charvi Apte",
          "Jivika Chanda",
          "Alia Vasa",
          "Mishti Konda",
          "Jhanvi Loke",
          "Umang Manne",
          "Lagan Ahuja",
          "Nakul Swamy",
          "Prerak Edwin",
          "Anay Sandal",
          "Lakshay Manne",
          "Sahil Guha",
          "Nitara Behl",
          "Shaan Malhotra",
          "Vivaan Mane",
          "Zaina Balan",
          "Rania Sampath",
          "Devansh Kashyap",
          "Ehsaan Barad",
          "Rhea Jaggi",
          "Neysa Rao",
          "Trisha Ramesh",
          "Shamik Yadav",
          "Yuvraj  Mandal",
          "Ira Bera",
          "Elakshi Gola",
          "Ojas Balan",
          "Renee Bhalla",
          "Aarav Chand",
          "Bhamini Rao",
          "Arnav Mangat",
          "Nehmat Arora",
          "Yuvraj  Subramanian",
          "Nitara Sangha",
          "Divij Sama",
          "Romil Malhotra",
          "Ehsaan Datta",
          "Krish Aurora",
          "Jhanvi Rajan",
          "Anaya Karnik",
          "Abram Mani",
          "Rhea Kalita",
          "Raghav Baral",
          "Arhaan Hari",
          "Aradhya Dhingra",
          "Divij Contractor",
          "Lagan Aggarwal",
          "Kismat Kade",
          "Kashvi Varghese",
          "Hunar Thakur",
          "Akarsh Chandra",
          "Ayesha Rout",
          "Tejas Mani",
          "Aarna Dara",
          "Yuvaan Warrior",
          "Shray Shere",
          "Yashvi Baral",
          "Ryan Bhasin",
          "Trisha Andra",
          "Ayesha Bahri",
          "Akarsh Kakar",
          "Priyansh Anne",
          "Siya Dhar",
          "Vivaan Koshy",
          "Kabir Chawla",
          "Indranil Lal",
          "Tiya Bajaj",
          "Zain Chokshi",
          "Umang Sood",
          "Divij Thakkar",
          "Suhana Lala",
          "Stuvan Dave",
          "Ritvik Joshi",
          "Ivan Mani",
          "Yashvi Arora",
          "Aarush Sankaran",
          "Pihu Borde",
          "Ehsaan Balakrishnan",
          "Zaina Bath",
          "Trisha Mangat",
          "Lagan Babu",
          "Saksham Baria",
          "Nirvaan Deo",
          "Dhruv Borra",
          "Darshit Chaudhuri",
          "Rhea Jhaveri",
          "Abram Lal",
          "Bhavin Bose",
          "Madhav Dayal",
          "Stuvan Doshi",
          "Devansh Sen",
          "Lavanya Lad",
          "Ojas Raj",
          "Zara Vora",
          "Hridaan Vora",
          "Jivin Bahri",
          "Kabir Thakkar",
          "Onkar Singh",
          "Shray Som",
          "Akarsh Chandran",
          "Kaira Sastry",
          "Anahi Rajan",
          "Madhav Divan",
          "Prerak Shankar",
          "Nirvaan Andra",
          "Lakshit Bose",
          "Umang Master",
          "Akarsh Acharya",
          "Seher Raju",
          "Amani Buch",
          "Shayak Sampath",
          "Samar Toor",
          "Kiara Halder",
          "Sara Ray",
          "Devansh Contractor",
          "Ayesha Wadhwa",
          "Zeeshan Dora",
          "Abram Bhatia",
          "Renee Ray",
          "Madhup Hora",
          "Adira Ganesh",
          "Riaan Swamy",
          "Ojas Atwal",
          "Eva Borra",
          "Diya Subramaniam",
          "Rohan Borde",
          "Akarsh Lanka",
          "Yakshit Sidhu",
          "Keya Garde",
          "Lavanya Sarkar",
          "Ela Ramesh",
          "Tarini Keer",
          "Devansh Das",
          "Romil Sachdeva",
          "Shaan Butala",
          "Shray Sidhu",
          "Keya Bhakta",
          "Piya Manne",
          "Saira Raj",
          "Ishaan Hayer",
          "Kiaan Contractor",
          "Kaira Sehgal",
          "Zara Halder",
          "Miraan Thakkar",
          "Vritika Hayer",
          "Aayush Ram",
          "Divij Amble",
          "Rasha Khare",
          "Krish Upadhyay",
          "Hridaan Sarna",
          "Raunak Ranganathan",
          "Kiara Ramesh",
          "Khushi Bandi",
          "Hazel Sarma",
          "Anay Dara",
          "Kimaya Sidhu",
          "Pranay Tata",
          "Prerak Kannan",
          "Jayant Sarma",
          "Adira Shanker",
          "Ahana  Das",
          "Manikya Baria",
          "Miraan Das",
          "Azad Banerjee",
          "Tanya Sridhar",
          "Kiaan Barad",
          "Jivika Bakshi",
          "Arhaan Goyal",
          "Nitya Chandran",
          "Vanya Kunda",
          "Shaan Batta",
          "Madhav Tank",
          "Charvi Bhalla",
          "Alia Bhakta",
          "Tushar Lalla",
          "Shray Subramaniam",
          "Keya Wagle",
          "Yakshit Gour",
          "Kismat Dada",
          "Yashvi Wable",
          "Seher Kashyap",
          "Dhanuk Lalla",
          "Trisha Seth",
          "Vardaniya Dayal",
          "Navya Kala",
          "Vaibhav Varughese",
          "Divyansh Goyal",
          "Aaryahi Kari",
          "Kiara Bansal",
          "Shayak Chowdhury",
          "Anika Salvi",
          "Shalv Grewal",
          "Rasha Subramanian",
          "Shlok Dass",
          "Lagan Barad",
          "Indrajit Ghosh",
          "Ritvik Shanker",
          "Tanya Uppal",
          "Anaya Majumdar",
          "Dishani Dugar",
          "Arhaan Andra",
          "Zeeshan Sama",
          "Tara Gour",
          "Sana Gill",
          "Aaina Chanda",
          "Jiya Ratta",
          "Rati Dara",
          "Shamik Khanna",
          "Yakshit Sheth",
          "Drishya Hari",
          "Aaina Randhawa",
          "Farhan Ramaswamy",
          "Inaaya  Raju",
          "Umang Shere",
          "Alia Sarna",
          "Nakul Bava",
          "Suhana Sule",
          "Nishith Seshadri",
          "Armaan Suresh",
          "Rohan Gopal",
          "Mannat Gaba",
          "Romil Bumb",
          "Miraya Konda",
          "Madhav Gera",
          "Madhav Chhabra",
          "Kashvi Soni",
          "Inaaya  Choudhury",
          "Eva Virk",
          "Jivika Khosla",
          "Anaya Sangha",
          "Dhruv Rattan",
          "Renee Viswanathan",
          "Inaaya  Swaminathan",
          "Darshit Krishnan",
          "Nirvi Krishnamurthy",
          "Neysa Acharya",
          "Tarini Barman",
          "Samar Dhar",
          "Samar Barman",
          "Veer Rege",
          "Reyansh Rajagopal",
          "Tejas Devan",
          "Ela Gandhi",
          "Umang Gour",
          "Vanya Arya",
          "Indranil Kibe",
          "Keya Kaur",
          "Rohan Anne",
          "Aayush Sathe",
          "Priyansh Tailor",
          "Taimur Batra",
          "Rati Khatri",
          "Farhan Shah",
          "Anya Ghose",
          "Fateh Mahal",
          "Mannat Raja",
          "Taran Gill",
          "Tara Kalita",
          "Mishti Bhattacharyya",
          "Sahil Sem",
          "Shamik Thakkar",
          "Anika Balay",
          "Advik Wali",
          "Saanvi Bali",
          "Shray Walla",
          "Renee Char",
          "Nakul Kuruvilla",
          "Jivin Kumar",
          "Mehul Kaul",
          "Madhav Sarma",
          "Nirvi Arya",
          "Aarna Chowdhury",
          "Hansh Borra",
          "Anahita Dada",
          "Elakshi Bhatnagar",
          "Ritvik Sangha",
          "Advika Bali",
          "Chirag Jani",
          "Anvi Sidhu",
          "Kanav Saini",
          "Bhamini Ranganathan",
          "Shanaya Shanker",
          "Kartik Ramesh",
          "Jayant Dey",
          "Samaira Baria",
          "Jivin Sridhar",
          "Jivin Dyal",
          "Aarna Sanghvi",
          "Myra Devi",
          "Nitya Bhatti",
          "Piya Wali",
          "Ryan Dave",
          "Aaryahi Setty",
          "Vivaan Chhabra",
          "Faiyaz Dugal",
          "Krish Dutta",
          "Aaina Aggarwal",
          "Aaryahi Magar",
          "Suhana Chakrabarti",
          "Saksham Mahajan",
          "Adira Sampath",
          "Riya Bhatnagar",
          "Ranbir Reddy",
          "Urvi Bawa",
          "Amira Boase",
          "Nehmat Rajagopalan",
          "Ela Deo",
          "Kismat Ray",
          "Kanav Guha",
          "Ayesha Sanghvi",
          "Kiara Khurana",
          "Nehmat Raman",
          "Priyansh Apte",
          "Tara Gupta",
          "Elakshi Vyas",
          "Vivaan Bhandari",
          "Hunar Bali",
          "Kanav Rastogi",
          "Nirvaan Dani",
          "Samiha Sundaram",
          "Tanya Saraf",
          "Anaya Shere",
          "Madhav Chandran",
          "Ojas Ramachandran",
          "Aayush Mann",
          "Yasmin Raj",
          "Darshit Shankar",
          "Zara Sankaran",
          "Samarth Ganesh",
          "Azad Date",
          "Vedika Hora",
          "Kimaya Wali",
          "Kaira Barad",
          "Tarini Toor",
          "Uthkarsh Mani",
          "Jayesh Zacharia",
          "Vardaniya Iyer",
          "Jiya Salvi",
          "Divit Trivedi",
          "Kismat Majumdar",
          "Tanya Chaudhry",
          "Inaaya  Dhingra",
          "Aradhya Sidhu",
          "Mehul Bora",
          "Shalv Khosla",
          "Zoya Walia",
          "Divit Dutt",
          "Vaibhav Sinha",
          "Madhup Sachdeva",
          "Samar Solanki",
          "Divyansh Srinivasan",
          "Jivika Dani",
          "Nirvi Dubey",
          "Onkar Chauhan",
          "Rati Kant",
          "Chirag Gara",
          "Pranay Sankaran",
          "Uthkarsh Wable",
          "Aniruddh Bora",
          "Shayak Saran",
          "Adah Dayal",
          "Shaan Sharaf",
          "Riya Sanghvi",
          "Saanvi Brahmbhatt",
          "Rohan Jani",
          "Madhup Badal",
          "Kartik Lall",
          "Yakshit Dora",
          "Pranay Keer",
          "Stuvan Krish",
          "Darshit Din",
          "Umang Aggarwal",
          "Prisha Thakkar",
          "Nakul Ganguly",
          "Nehmat Yohannan",
          "Kismat Taneja",
          "Kiara Wali",
          "Jhanvi Bakshi",
          "Prerak Toor",
          "Ivan Bala",
          "Zaina Kohli",
          "Madhup Rattan",
          "Inaaya  Srinivas",
          "Jhanvi Jaggi",
          "Dhruv Keer",
          "Vardaniya Bhalla",
          "Hrishita Srinivas",
          "Urvi Seshadri",
          "Kismat Kumar",
          "Pranay Kala",
          "Pari Swaminathan",
          "Purab Sengupta",
          "Faiyaz Sabharwal",
          "Hunar Swaminathan",
          "Ishita Gara",
          "Suhana Arora",
          "Siya Doctor",
          "Jivika Karnik",
          "Jayesh Jain",
          "Yuvraj  Jain",
          "Hunar Chanda",
          "Parinaaz Ravel",
          "Taran Venkatesh",
          "Ivana Kalita",
          "Ivana Raval",
          "Dhanuk Tandon",
          "Lavanya Roy",
          "Romil Tata",
          "Ela Varughese",
          "Hridaan Boase",
          "Romil Taneja",
          "Faiyaz Krishna",
          "Umang Grewal",
          "Yakshit Dar",
          "Mannat Lata",
          "Madhav Wagle",
          "Farhan Desai",
          "Saira Wadhwa",
          "Vidur De",
          "Shaan Wable",
          "Zeeshan Borah",
          "Mahika Goyal",
          "Chirag Sen",
          "Aarush Khanna",
          "Tushar Rajagopal",
          "Kismat Ghosh",
          "Vanya Singh",
          "Devansh Kakar",
          "Navya Chahal",
          "Romil Sen",
          "Tanya Issac",
          "Suhana Sagar",
          "Darshit Bajaj",
          "Vardaniya Baral",
          "Reyansh Kapoor",
          "Emir Jain",
          "Samiha Ganguly",
          "Amira Buch",
          "Madhup Chaudhary",
          "Yashvi Lata",
          "Yasmin Basu",
          "Jayesh Goswami",
          "Ira Chakraborty",
          "Kiaan Malhotra",
          "Tara Vaidya",
          "Adah Lata",
          "Lakshay Raj",
          "Aradhya Issac",
          "Armaan Madan",
          "Ehsaan Dayal",
          "Lavanya Kapur",
          "Vedika Sehgal",
          "Anahita Subramaniam",
          "Tejas Zacharia",
          "Jhanvi Wadhwa",
          "Jhanvi Bhargava",
          "Hansh Uppal",
          "Gatik Mane",
          "Amani Ray",
          "Jayesh Ravi",
          "Eshani Iyer",
          "Divit Goswami",
          "Azad Bhagat",
          "Kabir Dar",
          "Hazel Ratta",
          "Kaira Dayal",
          "Jivin Sane",
          "Sumer Mani",
          "Lavanya Ratti",
          "Armaan Bala",
          "Shlok Saraf",
          "Stuvan Khatri",
          "Misha Saha",
          "Vaibhav Char",
          "Himmat Dayal",
          "Indrajit Vyas",
          "Yasmin Vyas",
          "Zain Hans",
          "Hridaan Sangha",
          "Aayush Sethi",
          "Lakshay Hayer",
          "Taran Sibal",
          "Mehul Gola",
          "Sahil Basak",
          "Kimaya Ganesan",
          "Nayantara Ramakrishnan",
          "Aaryahi Chana",
          "Oorja Bhakta",
          "Alia Bawa",
          "Prerak Ghosh",
          "Mannat Rattan",
          "Manjari Sathe",
          "Veer Hayer",
          "Faiyaz Kalita",
          "Badal Raj",
          "Advika Balasubramanian",
          "Suhana Ratti",
          "Tiya Maharaj",
          "Adira Master",
          "Kimaya Gola",
          "Vritika Bains",
          "Veer Swamy",
          "Neysa Shan",
          "Oorja Shanker",
          "Vihaan Raval",
          "Ishita Chokshi",
          "Ahana  Hegde",
          "Veer Mane",
          "Shray Dixit",
          "Aradhya Handa",
          "Anika Dhillon",
          "Zara Borah",
          "Trisha Chadha",
          "Romil Raman",
          "Ryan Varughese",
          "Saira Kalita",
          "Aniruddh Ram",
          "Renee Ramanathan",
          "Taimur Kala",
          "Anika Chada",
          "Tushar Vig",
          "Vardaniya Grewal",
          "Krish Rege",
          "Uthkarsh Dhar",
          "Shanaya Bhargava",
          "Adira Kale",
          "Aaina Mane",
          "Raghav Shankar",
          "Seher Setty",
          "Kashvi Babu",
          "Adah D’Alia",
          "Rati Sekhon",
          "Kabir Balasubramanian",
          "Yasmin Halder",
          "Yuvaan Khalsa",
          "Devansh Sridhar",
          "Madhav Golla",
          "Nitya Arya",
          "Renee Anand",
          "Myra Anne",
          "Ira Seshadri",
          "Ishita Lad",
          "Adah Sahni",
          "Saksham Cherian",
          "Trisha Kale",
          "Zain Saini",
          "Prisha Gade",
          "Mishti Tiwari",
          "Zeeshan Bhagat",
          "Ira Shanker",
          "Gatik Vaidya",
          "Nayantara Dhar",
          "Shaan Gala",
          "Divyansh Chacko",
          "Aayush Thakkar",
          "Seher Soman",
          "Ivan Kata",
          "Myra Dayal",
          "Jayant Ganesan",
          "Zain Chowdhury",
          "Samarth Srivastava",
          "Shamik Dass",
          "Fateh Raja",
          "Taimur Kaur",
          "Kavya Bhagat",
          "Aaina Shan",
          "Ayesha Dara",
          "Zeeshan Balasubramanian",
          "Kiaan Chauhan",
          "Ira Seth",
          "Umang Choudhary",
          "Miraya Aurora",
          "Rhea Lad",
          "Yakshit Brar",
          "Rohan Chhabra",
          "Vaibhav Borra",
          "Nayantara Yogi"
         ]
        }
       ],
       "layout": {
        "height": 500,
        "template": {
         "data": {
          "bar": [
           {
            "error_x": {
             "color": "#2a3f5f"
            },
            "error_y": {
             "color": "#2a3f5f"
            },
            "marker": {
             "line": {
              "color": "#E5ECF6",
              "width": 0.5
             }
            },
            "type": "bar"
           }
          ],
          "barpolar": [
           {
            "marker": {
             "line": {
              "color": "#E5ECF6",
              "width": 0.5
             }
            },
            "type": "barpolar"
           }
          ],
          "carpet": [
           {
            "aaxis": {
             "endlinecolor": "#2a3f5f",
             "gridcolor": "white",
             "linecolor": "white",
             "minorgridcolor": "white",
             "startlinecolor": "#2a3f5f"
            },
            "baxis": {
             "endlinecolor": "#2a3f5f",
             "gridcolor": "white",
             "linecolor": "white",
             "minorgridcolor": "white",
             "startlinecolor": "#2a3f5f"
            },
            "type": "carpet"
           }
          ],
          "choropleth": [
           {
            "colorbar": {
             "outlinewidth": 0,
             "ticks": ""
            },
            "type": "choropleth"
           }
          ],
          "contour": [
           {
            "colorbar": {
             "outlinewidth": 0,
             "ticks": ""
            },
            "colorscale": [
             [
              0,
              "#0d0887"
             ],
             [
              0.1111111111111111,
              "#46039f"
             ],
             [
              0.2222222222222222,
              "#7201a8"
             ],
             [
              0.3333333333333333,
              "#9c179e"
             ],
             [
              0.4444444444444444,
              "#bd3786"
             ],
             [
              0.5555555555555556,
              "#d8576b"
             ],
             [
              0.6666666666666666,
              "#ed7953"
             ],
             [
              0.7777777777777778,
              "#fb9f3a"
             ],
             [
              0.8888888888888888,
              "#fdca26"
             ],
             [
              1,
              "#f0f921"
             ]
            ],
            "type": "contour"
           }
          ],
          "contourcarpet": [
           {
            "colorbar": {
             "outlinewidth": 0,
             "ticks": ""
            },
            "type": "contourcarpet"
           }
          ],
          "heatmap": [
           {
            "colorbar": {
             "outlinewidth": 0,
             "ticks": ""
            },
            "colorscale": [
             [
              0,
              "#0d0887"
             ],
             [
              0.1111111111111111,
              "#46039f"
             ],
             [
              0.2222222222222222,
              "#7201a8"
             ],
             [
              0.3333333333333333,
              "#9c179e"
             ],
             [
              0.4444444444444444,
              "#bd3786"
             ],
             [
              0.5555555555555556,
              "#d8576b"
             ],
             [
              0.6666666666666666,
              "#ed7953"
             ],
             [
              0.7777777777777778,
              "#fb9f3a"
             ],
             [
              0.8888888888888888,
              "#fdca26"
             ],
             [
              1,
              "#f0f921"
             ]
            ],
            "type": "heatmap"
           }
          ],
          "heatmapgl": [
           {
            "colorbar": {
             "outlinewidth": 0,
             "ticks": ""
            },
            "colorscale": [
             [
              0,
              "#0d0887"
             ],
             [
              0.1111111111111111,
              "#46039f"
             ],
             [
              0.2222222222222222,
              "#7201a8"
             ],
             [
              0.3333333333333333,
              "#9c179e"
             ],
             [
              0.4444444444444444,
              "#bd3786"
             ],
             [
              0.5555555555555556,
              "#d8576b"
             ],
             [
              0.6666666666666666,
              "#ed7953"
             ],
             [
              0.7777777777777778,
              "#fb9f3a"
             ],
             [
              0.8888888888888888,
              "#fdca26"
             ],
             [
              1,
              "#f0f921"
             ]
            ],
            "type": "heatmapgl"
           }
          ],
          "histogram": [
           {
            "marker": {
             "colorbar": {
              "outlinewidth": 0,
              "ticks": ""
             }
            },
            "type": "histogram"
           }
          ],
          "histogram2d": [
           {
            "colorbar": {
             "outlinewidth": 0,
             "ticks": ""
            },
            "colorscale": [
             [
              0,
              "#0d0887"
             ],
             [
              0.1111111111111111,
              "#46039f"
             ],
             [
              0.2222222222222222,
              "#7201a8"
             ],
             [
              0.3333333333333333,
              "#9c179e"
             ],
             [
              0.4444444444444444,
              "#bd3786"
             ],
             [
              0.5555555555555556,
              "#d8576b"
             ],
             [
              0.6666666666666666,
              "#ed7953"
             ],
             [
              0.7777777777777778,
              "#fb9f3a"
             ],
             [
              0.8888888888888888,
              "#fdca26"
             ],
             [
              1,
              "#f0f921"
             ]
            ],
            "type": "histogram2d"
           }
          ],
          "histogram2dcontour": [
           {
            "colorbar": {
             "outlinewidth": 0,
             "ticks": ""
            },
            "colorscale": [
             [
              0,
              "#0d0887"
             ],
             [
              0.1111111111111111,
              "#46039f"
             ],
             [
              0.2222222222222222,
              "#7201a8"
             ],
             [
              0.3333333333333333,
              "#9c179e"
             ],
             [
              0.4444444444444444,
              "#bd3786"
             ],
             [
              0.5555555555555556,
              "#d8576b"
             ],
             [
              0.6666666666666666,
              "#ed7953"
             ],
             [
              0.7777777777777778,
              "#fb9f3a"
             ],
             [
              0.8888888888888888,
              "#fdca26"
             ],
             [
              1,
              "#f0f921"
             ]
            ],
            "type": "histogram2dcontour"
           }
          ],
          "mesh3d": [
           {
            "colorbar": {
             "outlinewidth": 0,
             "ticks": ""
            },
            "type": "mesh3d"
           }
          ],
          "parcoords": [
           {
            "line": {
             "colorbar": {
              "outlinewidth": 0,
              "ticks": ""
             }
            },
            "type": "parcoords"
           }
          ],
          "pie": [
           {
            "automargin": true,
            "type": "pie"
           }
          ],
          "scatter": [
           {
            "marker": {
             "colorbar": {
              "outlinewidth": 0,
              "ticks": ""
             }
            },
            "type": "scatter"
           }
          ],
          "scatter3d": [
           {
            "line": {
             "colorbar": {
              "outlinewidth": 0,
              "ticks": ""
             }
            },
            "marker": {
             "colorbar": {
              "outlinewidth": 0,
              "ticks": ""
             }
            },
            "type": "scatter3d"
           }
          ],
          "scattercarpet": [
           {
            "marker": {
             "colorbar": {
              "outlinewidth": 0,
              "ticks": ""
             }
            },
            "type": "scattercarpet"
           }
          ],
          "scattergeo": [
           {
            "marker": {
             "colorbar": {
              "outlinewidth": 0,
              "ticks": ""
             }
            },
            "type": "scattergeo"
           }
          ],
          "scattergl": [
           {
            "marker": {
             "colorbar": {
              "outlinewidth": 0,
              "ticks": ""
             }
            },
            "type": "scattergl"
           }
          ],
          "scattermapbox": [
           {
            "marker": {
             "colorbar": {
              "outlinewidth": 0,
              "ticks": ""
             }
            },
            "type": "scattermapbox"
           }
          ],
          "scatterpolar": [
           {
            "marker": {
             "colorbar": {
              "outlinewidth": 0,
              "ticks": ""
             }
            },
            "type": "scatterpolar"
           }
          ],
          "scatterpolargl": [
           {
            "marker": {
             "colorbar": {
              "outlinewidth": 0,
              "ticks": ""
             }
            },
            "type": "scatterpolargl"
           }
          ],
          "scatterternary": [
           {
            "marker": {
             "colorbar": {
              "outlinewidth": 0,
              "ticks": ""
             }
            },
            "type": "scatterternary"
           }
          ],
          "surface": [
           {
            "colorbar": {
             "outlinewidth": 0,
             "ticks": ""
            },
            "colorscale": [
             [
              0,
              "#0d0887"
             ],
             [
              0.1111111111111111,
              "#46039f"
             ],
             [
              0.2222222222222222,
              "#7201a8"
             ],
             [
              0.3333333333333333,
              "#9c179e"
             ],
             [
              0.4444444444444444,
              "#bd3786"
             ],
             [
              0.5555555555555556,
              "#d8576b"
             ],
             [
              0.6666666666666666,
              "#ed7953"
             ],
             [
              0.7777777777777778,
              "#fb9f3a"
             ],
             [
              0.8888888888888888,
              "#fdca26"
             ],
             [
              1,
              "#f0f921"
             ]
            ],
            "type": "surface"
           }
          ],
          "table": [
           {
            "cells": {
             "fill": {
              "color": "#EBF0F8"
             },
             "line": {
              "color": "white"
             }
            },
            "header": {
             "fill": {
              "color": "#C8D4E3"
             },
             "line": {
              "color": "white"
             }
            },
            "type": "table"
           }
          ]
         },
         "layout": {
          "annotationdefaults": {
           "arrowcolor": "#2a3f5f",
           "arrowhead": 0,
           "arrowwidth": 1
          },
          "autotypenumbers": "strict",
          "coloraxis": {
           "colorbar": {
            "outlinewidth": 0,
            "ticks": ""
           }
          },
          "colorscale": {
           "diverging": [
            [
             0,
             "#8e0152"
            ],
            [
             0.1,
             "#c51b7d"
            ],
            [
             0.2,
             "#de77ae"
            ],
            [
             0.3,
             "#f1b6da"
            ],
            [
             0.4,
             "#fde0ef"
            ],
            [
             0.5,
             "#f7f7f7"
            ],
            [
             0.6,
             "#e6f5d0"
            ],
            [
             0.7,
             "#b8e186"
            ],
            [
             0.8,
             "#7fbc41"
            ],
            [
             0.9,
             "#4d9221"
            ],
            [
             1,
             "#276419"
            ]
           ],
           "sequential": [
            [
             0,
             "#0d0887"
            ],
            [
             0.1111111111111111,
             "#46039f"
            ],
            [
             0.2222222222222222,
             "#7201a8"
            ],
            [
             0.3333333333333333,
             "#9c179e"
            ],
            [
             0.4444444444444444,
             "#bd3786"
            ],
            [
             0.5555555555555556,
             "#d8576b"
            ],
            [
             0.6666666666666666,
             "#ed7953"
            ],
            [
             0.7777777777777778,
             "#fb9f3a"
            ],
            [
             0.8888888888888888,
             "#fdca26"
            ],
            [
             1,
             "#f0f921"
            ]
           ],
           "sequentialminus": [
            [
             0,
             "#0d0887"
            ],
            [
             0.1111111111111111,
             "#46039f"
            ],
            [
             0.2222222222222222,
             "#7201a8"
            ],
            [
             0.3333333333333333,
             "#9c179e"
            ],
            [
             0.4444444444444444,
             "#bd3786"
            ],
            [
             0.5555555555555556,
             "#d8576b"
            ],
            [
             0.6666666666666666,
             "#ed7953"
            ],
            [
             0.7777777777777778,
             "#fb9f3a"
            ],
            [
             0.8888888888888888,
             "#fdca26"
            ],
            [
             1,
             "#f0f921"
            ]
           ]
          },
          "colorway": [
           "#636efa",
           "#EF553B",
           "#00cc96",
           "#ab63fa",
           "#FFA15A",
           "#19d3f3",
           "#FF6692",
           "#B6E880",
           "#FF97FF",
           "#FECB52"
          ],
          "font": {
           "color": "#2a3f5f"
          },
          "geo": {
           "bgcolor": "white",
           "lakecolor": "white",
           "landcolor": "#E5ECF6",
           "showlakes": true,
           "showland": true,
           "subunitcolor": "white"
          },
          "hoverlabel": {
           "align": "left"
          },
          "hovermode": "closest",
          "mapbox": {
           "style": "light"
          },
          "paper_bgcolor": "white",
          "plot_bgcolor": "#E5ECF6",
          "polar": {
           "angularaxis": {
            "gridcolor": "white",
            "linecolor": "white",
            "ticks": ""
           },
           "bgcolor": "#E5ECF6",
           "radialaxis": {
            "gridcolor": "white",
            "linecolor": "white",
            "ticks": ""
           }
          },
          "scene": {
           "xaxis": {
            "backgroundcolor": "#E5ECF6",
            "gridcolor": "white",
            "gridwidth": 2,
            "linecolor": "white",
            "showbackground": true,
            "ticks": "",
            "zerolinecolor": "white"
           },
           "yaxis": {
            "backgroundcolor": "#E5ECF6",
            "gridcolor": "white",
            "gridwidth": 2,
            "linecolor": "white",
            "showbackground": true,
            "ticks": "",
            "zerolinecolor": "white"
           },
           "zaxis": {
            "backgroundcolor": "#E5ECF6",
            "gridcolor": "white",
            "gridwidth": 2,
            "linecolor": "white",
            "showbackground": true,
            "ticks": "",
            "zerolinecolor": "white"
           }
          },
          "shapedefaults": {
           "line": {
            "color": "#2a3f5f"
           }
          },
          "ternary": {
           "aaxis": {
            "gridcolor": "white",
            "linecolor": "white",
            "ticks": ""
           },
           "baxis": {
            "gridcolor": "white",
            "linecolor": "white",
            "ticks": ""
           },
           "bgcolor": "#E5ECF6",
           "caxis": {
            "gridcolor": "white",
            "linecolor": "white",
            "ticks": ""
           }
          },
          "title": {
           "x": 0.05
          },
          "xaxis": {
           "automargin": true,
           "gridcolor": "white",
           "linecolor": "white",
           "ticks": "",
           "title": {
            "standoff": 15
           },
           "zerolinecolor": "white",
           "zerolinewidth": 2
          },
          "yaxis": {
           "automargin": true,
           "gridcolor": "white",
           "linecolor": "white",
           "ticks": "",
           "title": {
            "standoff": 15
           },
           "zerolinecolor": "white",
           "zerolinewidth": 2
          }
         }
        },
        "title": {
         "text": "Overall performance of users"
        },
        "width": 1000,
        "xaxis": {
         "title": {
          "text": "Total_scores"
         }
        },
        "yaxis": {
         "title": {
          "text": "Users_name"
         }
        }
       }
      }
     },
     "metadata": {}
    }
   ],
   "source": [
    "#overall performanceof users interms of total score (Training_1 + Training_2)\n",
    "print(\"Give the number of Users\") \n",
    "n = input(int())\n",
    "fig = go.Figure() \n",
    "fig.add_trace(go.Scatter(y=section_wise_score.index[0:],x=section_wise_score['total'].sort_values(ascending=True).head(int(n)),\n",
    "                    mode = ('lines+markers'),\n",
    "                    name='Perfomance Line'))\n",
    "fig.update_layout(title='Overall performance of users',xaxis={'title': 'Total_scores'},yaxis={'title':'Users_name'},height=500,width=1000)\n",
    "fig.show()"
   ]
  },
  {
   "cell_type": "code",
   "execution_count": null,
   "metadata": {},
   "outputs": [],
   "source": []
  }
 ],
 "metadata": {
  "kernelspec": {
   "name": "python385jvsc74a57bd0e155d23346b62827155103f57e5ca350ccf4337ba4320eee9d5df2ab2b3b7267",
   "display_name": "Python 3.8.5 64-bit ('base': conda)"
  },
  "language_info": {
   "codemirror_mode": {
    "name": "ipython",
    "version": 3
   },
   "file_extension": ".py",
   "mimetype": "text/x-python",
   "name": "python",
   "nbconvert_exporter": "python",
   "pygments_lexer": "ipython3",
   "version": "3.8.5"
  },
  "metadata": {
   "interpreter": {
    "hash": "edaecb64dad70dbe19f83f4f6ba8e24266d72c77b75fe5570994c151efe7ab13"
   }
  }
 },
 "nbformat": 4,
 "nbformat_minor": 2
}