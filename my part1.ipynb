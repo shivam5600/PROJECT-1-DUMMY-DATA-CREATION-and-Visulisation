{
 "metadata": {
  "language_info": {
   "codemirror_mode": {
    "name": "ipython",
    "version": 3
   },
   "file_extension": ".py",
   "mimetype": "text/x-python",
   "name": "python",
   "nbconvert_exporter": "python",
   "pygments_lexer": "ipython3",
   "version": "3.8.9"
  },
  "orig_nbformat": 2,
  "kernelspec": {
   "name": "python389jvsc74a57bd0e9232361202ee97135397d2052dd52534df8a2f1c7309bde38dff0b3159243c3",
   "display_name": "Python 3.8.9 64-bit ('PythonSoftwareFoundation.Python.3.8_qbz5n2kfra8p0')"
  },
  "metadata": {
   "interpreter": {
    "hash": "e9232361202ee97135397d2052dd52534df8a2f1c7309bde38dff0b3159243c3"
   }
  }
 },
 "nbformat": 4,
 "nbformat_minor": 2,
 "cells": [
  {
   "cell_type": "code",
   "execution_count": 1,
   "metadata": {},
   "outputs": [],
   "source": [
    "from faker import Faker\n",
    "import pandas as pd\n",
    "import numpy as np"
   ]
  },
  {
   "cell_type": "code",
   "execution_count": 2,
   "metadata": {},
   "outputs": [],
   "source": [
    "sets_questions = []\n",
    "for t in [1,2]:\n",
    "    for s in [1,2,3,4]:\n",
    "        for q in [1,2,3,4,5,6]:\n",
    "            sets_questions.append(\"T{}S{}Q{}\".format(t,s,q)) \n",
    "sets_questions.insert(0,\"User_Name\")"
   ]
  },
  {
   "cell_type": "code",
   "execution_count": 3,
   "metadata": {},
   "outputs": [],
   "source": [
    "#here i am making a data set for the 1s attempt made by users\n",
    "\n",
    "first_attempt_df = pd.DataFrame(columns=sets_questions)"
   ]
  },
  {
   "cell_type": "code",
   "execution_count": 4,
   "metadata": {},
   "outputs": [],
   "source": [
    "#now adding the user names\n",
    "\n",
    "fake_names = Faker('en_IN')\n",
    "Faker.seed(4321)"
   ]
  },
  {
   "cell_type": "code",
   "execution_count": 5,
   "metadata": {},
   "outputs": [],
   "source": [
    "names = []\n",
    "for _ in range(1200):\n",
    "    names.append(fake_names.name())\n",
    "\n",
    "names = list(set(names))"
   ]
  },
  {
   "cell_type": "code",
   "execution_count": 6,
   "metadata": {},
   "outputs": [],
   "source": [
    "first_attempt_df['User_Name']=names "
   ]
  },
  {
   "cell_type": "code",
   "execution_count": 7,
   "metadata": {},
   "outputs": [],
   "source": [
    "#setting random score for 1st attempt\n",
    "first_attempt_ans= np.random.randint(low=0, high=2, size=(len(names), (len(sets_questions)-1)))\n"
   ]
  },
  {
   "cell_type": "code",
   "execution_count": 8,
   "metadata": {},
   "outputs": [],
   "source": [
    "first_attempt_df.iloc[:,1:] = first_attempt_ans "
   ]
  },
  {
   "cell_type": "code",
   "execution_count": 9,
   "metadata": {},
   "outputs": [],
   "source": [
    "first_attempt_df.to_csv('1st attmpt1.csv')"
   ]
  },
  {
   "cell_type": "code",
   "execution_count": 10,
   "metadata": {},
   "outputs": [
    {
     "output_type": "execute_result",
     "data": {
      "text/plain": [
       "           User_Name T1S1Q1 T1S1Q2 T1S1Q3 T1S1Q4 T1S1Q5 T1S1Q6 T1S2Q1 T1S2Q2  \\\n",
       "0      Lavanya Raval      0      0      0      1      1      1      1      1   \n",
       "1    Tejas Bhatnagar      1      1      1      1      1      1      1      0   \n",
       "2         Hazel Sura      1      1      0      0      1      1      0      0   \n",
       "3  Reyansh Rajagopal      1      0      0      0      1      0      0      0   \n",
       "4       Arhaan Desai      0      1      1      1      0      1      1      1   \n",
       "\n",
       "  T1S2Q3  ... T2S3Q3 T2S3Q4 T2S3Q5 T2S3Q6 T2S4Q1 T2S4Q2 T2S4Q3 T2S4Q4 T2S4Q5  \\\n",
       "0      1  ...      0      0      1      1      1      1      1      1      0   \n",
       "1      1  ...      1      1      0      0      0      1      1      0      1   \n",
       "2      0  ...      1      1      1      1      1      0      1      0      1   \n",
       "3      0  ...      0      1      1      1      0      0      1      0      1   \n",
       "4      0  ...      1      0      1      0      0      1      1      0      1   \n",
       "\n",
       "  T2S4Q6  \n",
       "0      1  \n",
       "1      1  \n",
       "2      0  \n",
       "3      0  \n",
       "4      1  \n",
       "\n",
       "[5 rows x 49 columns]"
      ],
      "text/html": "<div>\n<style scoped>\n    .dataframe tbody tr th:only-of-type {\n        vertical-align: middle;\n    }\n\n    .dataframe tbody tr th {\n        vertical-align: top;\n    }\n\n    .dataframe thead th {\n        text-align: right;\n    }\n</style>\n<table border=\"1\" class=\"dataframe\">\n  <thead>\n    <tr style=\"text-align: right;\">\n      <th></th>\n      <th>User_Name</th>\n      <th>T1S1Q1</th>\n      <th>T1S1Q2</th>\n      <th>T1S1Q3</th>\n      <th>T1S1Q4</th>\n      <th>T1S1Q5</th>\n      <th>T1S1Q6</th>\n      <th>T1S2Q1</th>\n      <th>T1S2Q2</th>\n      <th>T1S2Q3</th>\n      <th>...</th>\n      <th>T2S3Q3</th>\n      <th>T2S3Q4</th>\n      <th>T2S3Q5</th>\n      <th>T2S3Q6</th>\n      <th>T2S4Q1</th>\n      <th>T2S4Q2</th>\n      <th>T2S4Q3</th>\n      <th>T2S4Q4</th>\n      <th>T2S4Q5</th>\n      <th>T2S4Q6</th>\n    </tr>\n  </thead>\n  <tbody>\n    <tr>\n      <th>0</th>\n      <td>Lavanya Raval</td>\n      <td>0</td>\n      <td>0</td>\n      <td>0</td>\n      <td>1</td>\n      <td>1</td>\n      <td>1</td>\n      <td>1</td>\n      <td>1</td>\n      <td>1</td>\n      <td>...</td>\n      <td>0</td>\n      <td>0</td>\n      <td>1</td>\n      <td>1</td>\n      <td>1</td>\n      <td>1</td>\n      <td>1</td>\n      <td>1</td>\n      <td>0</td>\n      <td>1</td>\n    </tr>\n    <tr>\n      <th>1</th>\n      <td>Tejas Bhatnagar</td>\n      <td>1</td>\n      <td>1</td>\n      <td>1</td>\n      <td>1</td>\n      <td>1</td>\n      <td>1</td>\n      <td>1</td>\n      <td>0</td>\n      <td>1</td>\n      <td>...</td>\n      <td>1</td>\n      <td>1</td>\n      <td>0</td>\n      <td>0</td>\n      <td>0</td>\n      <td>1</td>\n      <td>1</td>\n      <td>0</td>\n      <td>1</td>\n      <td>1</td>\n    </tr>\n    <tr>\n      <th>2</th>\n      <td>Hazel Sura</td>\n      <td>1</td>\n      <td>1</td>\n      <td>0</td>\n      <td>0</td>\n      <td>1</td>\n      <td>1</td>\n      <td>0</td>\n      <td>0</td>\n      <td>0</td>\n      <td>...</td>\n      <td>1</td>\n      <td>1</td>\n      <td>1</td>\n      <td>1</td>\n      <td>1</td>\n      <td>0</td>\n      <td>1</td>\n      <td>0</td>\n      <td>1</td>\n      <td>0</td>\n    </tr>\n    <tr>\n      <th>3</th>\n      <td>Reyansh Rajagopal</td>\n      <td>1</td>\n      <td>0</td>\n      <td>0</td>\n      <td>0</td>\n      <td>1</td>\n      <td>0</td>\n      <td>0</td>\n      <td>0</td>\n      <td>0</td>\n      <td>...</td>\n      <td>0</td>\n      <td>1</td>\n      <td>1</td>\n      <td>1</td>\n      <td>0</td>\n      <td>0</td>\n      <td>1</td>\n      <td>0</td>\n      <td>1</td>\n      <td>0</td>\n    </tr>\n    <tr>\n      <th>4</th>\n      <td>Arhaan Desai</td>\n      <td>0</td>\n      <td>1</td>\n      <td>1</td>\n      <td>1</td>\n      <td>0</td>\n      <td>1</td>\n      <td>1</td>\n      <td>1</td>\n      <td>0</td>\n      <td>...</td>\n      <td>1</td>\n      <td>0</td>\n      <td>1</td>\n      <td>0</td>\n      <td>0</td>\n      <td>1</td>\n      <td>1</td>\n      <td>0</td>\n      <td>1</td>\n      <td>1</td>\n    </tr>\n  </tbody>\n</table>\n<p>5 rows × 49 columns</p>\n</div>"
     },
     "metadata": {},
     "execution_count": 10
    }
   ],
   "source": [
    "first_attempt_df.head()"
   ]
  },
  {
   "cell_type": "code",
   "execution_count": 11,
   "metadata": {},
   "outputs": [],
   "source": [
    "df = first_attempt_df"
   ]
  },
  {
   "cell_type": "code",
   "execution_count": 12,
   "metadata": {},
   "outputs": [
    {
     "output_type": "execute_result",
     "data": {
      "text/plain": [
       "(1195, 49)"
      ]
     },
     "metadata": {},
     "execution_count": 12
    }
   ],
   "source": [
    "df.shape"
   ]
  },
  {
   "cell_type": "code",
   "execution_count": 13,
   "metadata": {},
   "outputs": [
    {
     "output_type": "execute_result",
     "data": {
      "text/plain": [
       "User_Name    object\n",
       "T1S1Q1       object\n",
       "T1S1Q2       object\n",
       "T1S1Q3       object\n",
       "T1S1Q4       object\n",
       "T1S1Q5       object\n",
       "T1S1Q6       object\n",
       "T1S2Q1       object\n",
       "T1S2Q2       object\n",
       "T1S2Q3       object\n",
       "T1S2Q4       object\n",
       "T1S2Q5       object\n",
       "T1S2Q6       object\n",
       "T1S3Q1       object\n",
       "T1S3Q2       object\n",
       "T1S3Q3       object\n",
       "T1S3Q4       object\n",
       "T1S3Q5       object\n",
       "T1S3Q6       object\n",
       "T1S4Q1       object\n",
       "T1S4Q2       object\n",
       "T1S4Q3       object\n",
       "T1S4Q4       object\n",
       "T1S4Q5       object\n",
       "T1S4Q6       object\n",
       "T2S1Q1       object\n",
       "T2S1Q2       object\n",
       "T2S1Q3       object\n",
       "T2S1Q4       object\n",
       "T2S1Q5       object\n",
       "T2S1Q6       object\n",
       "T2S2Q1       object\n",
       "T2S2Q2       object\n",
       "T2S2Q3       object\n",
       "T2S2Q4       object\n",
       "T2S2Q5       object\n",
       "T2S2Q6       object\n",
       "T2S3Q1       object\n",
       "T2S3Q2       object\n",
       "T2S3Q3       object\n",
       "T2S3Q4       object\n",
       "T2S3Q5       object\n",
       "T2S3Q6       object\n",
       "T2S4Q1       object\n",
       "T2S4Q2       object\n",
       "T2S4Q3       object\n",
       "T2S4Q4       object\n",
       "T2S4Q5       object\n",
       "T2S4Q6       object\n",
       "dtype: object"
      ]
     },
     "metadata": {},
     "execution_count": 13
    }
   ],
   "source": [
    "df.dtypes"
   ]
  },
  {
   "cell_type": "code",
   "execution_count": 14,
   "metadata": {},
   "outputs": [],
   "source": [
    "df.iloc[:,1:]= df.iloc[:,1:].astype(int)"
   ]
  },
  {
   "cell_type": "code",
   "execution_count": 15,
   "metadata": {},
   "outputs": [
    {
     "output_type": "execute_result",
     "data": {
      "text/plain": [
       "           User_Name T1S1Q1 T1S1Q2 T1S1Q3 T1S1Q4 T1S1Q5 T1S1Q6 T1S2Q1 T1S2Q2  \\\n",
       "0      Lavanya Raval      0      0      0      1      1      1      1      1   \n",
       "1    Tejas Bhatnagar      1      1      1      1      1      1      1      0   \n",
       "2         Hazel Sura      1      1      0      0      1      1      0      0   \n",
       "3  Reyansh Rajagopal      1      0      0      0      1      0      0      0   \n",
       "4       Arhaan Desai      0      1      1      1      0      1      1      1   \n",
       "\n",
       "  T1S2Q3  ... T2S3Q3 T2S3Q4 T2S3Q5 T2S3Q6 T2S4Q1 T2S4Q2 T2S4Q3 T2S4Q4 T2S4Q5  \\\n",
       "0      1  ...      0      0      1      1      1      1      1      1      0   \n",
       "1      1  ...      1      1      0      0      0      1      1      0      1   \n",
       "2      0  ...      1      1      1      1      1      0      1      0      1   \n",
       "3      0  ...      0      1      1      1      0      0      1      0      1   \n",
       "4      0  ...      1      0      1      0      0      1      1      0      1   \n",
       "\n",
       "  T2S4Q6  \n",
       "0      1  \n",
       "1      1  \n",
       "2      0  \n",
       "3      0  \n",
       "4      1  \n",
       "\n",
       "[5 rows x 49 columns]"
      ],
      "text/html": "<div>\n<style scoped>\n    .dataframe tbody tr th:only-of-type {\n        vertical-align: middle;\n    }\n\n    .dataframe tbody tr th {\n        vertical-align: top;\n    }\n\n    .dataframe thead th {\n        text-align: right;\n    }\n</style>\n<table border=\"1\" class=\"dataframe\">\n  <thead>\n    <tr style=\"text-align: right;\">\n      <th></th>\n      <th>User_Name</th>\n      <th>T1S1Q1</th>\n      <th>T1S1Q2</th>\n      <th>T1S1Q3</th>\n      <th>T1S1Q4</th>\n      <th>T1S1Q5</th>\n      <th>T1S1Q6</th>\n      <th>T1S2Q1</th>\n      <th>T1S2Q2</th>\n      <th>T1S2Q3</th>\n      <th>...</th>\n      <th>T2S3Q3</th>\n      <th>T2S3Q4</th>\n      <th>T2S3Q5</th>\n      <th>T2S3Q6</th>\n      <th>T2S4Q1</th>\n      <th>T2S4Q2</th>\n      <th>T2S4Q3</th>\n      <th>T2S4Q4</th>\n      <th>T2S4Q5</th>\n      <th>T2S4Q6</th>\n    </tr>\n  </thead>\n  <tbody>\n    <tr>\n      <th>0</th>\n      <td>Lavanya Raval</td>\n      <td>0</td>\n      <td>0</td>\n      <td>0</td>\n      <td>1</td>\n      <td>1</td>\n      <td>1</td>\n      <td>1</td>\n      <td>1</td>\n      <td>1</td>\n      <td>...</td>\n      <td>0</td>\n      <td>0</td>\n      <td>1</td>\n      <td>1</td>\n      <td>1</td>\n      <td>1</td>\n      <td>1</td>\n      <td>1</td>\n      <td>0</td>\n      <td>1</td>\n    </tr>\n    <tr>\n      <th>1</th>\n      <td>Tejas Bhatnagar</td>\n      <td>1</td>\n      <td>1</td>\n      <td>1</td>\n      <td>1</td>\n      <td>1</td>\n      <td>1</td>\n      <td>1</td>\n      <td>0</td>\n      <td>1</td>\n      <td>...</td>\n      <td>1</td>\n      <td>1</td>\n      <td>0</td>\n      <td>0</td>\n      <td>0</td>\n      <td>1</td>\n      <td>1</td>\n      <td>0</td>\n      <td>1</td>\n      <td>1</td>\n    </tr>\n    <tr>\n      <th>2</th>\n      <td>Hazel Sura</td>\n      <td>1</td>\n      <td>1</td>\n      <td>0</td>\n      <td>0</td>\n      <td>1</td>\n      <td>1</td>\n      <td>0</td>\n      <td>0</td>\n      <td>0</td>\n      <td>...</td>\n      <td>1</td>\n      <td>1</td>\n      <td>1</td>\n      <td>1</td>\n      <td>1</td>\n      <td>0</td>\n      <td>1</td>\n      <td>0</td>\n      <td>1</td>\n      <td>0</td>\n    </tr>\n    <tr>\n      <th>3</th>\n      <td>Reyansh Rajagopal</td>\n      <td>1</td>\n      <td>0</td>\n      <td>0</td>\n      <td>0</td>\n      <td>1</td>\n      <td>0</td>\n      <td>0</td>\n      <td>0</td>\n      <td>0</td>\n      <td>...</td>\n      <td>0</td>\n      <td>1</td>\n      <td>1</td>\n      <td>1</td>\n      <td>0</td>\n      <td>0</td>\n      <td>1</td>\n      <td>0</td>\n      <td>1</td>\n      <td>0</td>\n    </tr>\n    <tr>\n      <th>4</th>\n      <td>Arhaan Desai</td>\n      <td>0</td>\n      <td>1</td>\n      <td>1</td>\n      <td>1</td>\n      <td>0</td>\n      <td>1</td>\n      <td>1</td>\n      <td>1</td>\n      <td>0</td>\n      <td>...</td>\n      <td>1</td>\n      <td>0</td>\n      <td>1</td>\n      <td>0</td>\n      <td>0</td>\n      <td>1</td>\n      <td>1</td>\n      <td>0</td>\n      <td>1</td>\n      <td>1</td>\n    </tr>\n  </tbody>\n</table>\n<p>5 rows × 49 columns</p>\n</div>"
     },
     "metadata": {},
     "execution_count": 15
    }
   ],
   "source": [
    "df.head()"
   ]
  },
  {
   "cell_type": "code",
   "execution_count": null,
   "metadata": {},
   "outputs": [],
   "source": []
  },
  {
   "cell_type": "code",
   "execution_count": 16,
   "metadata": {},
   "outputs": [],
   "source": [
    "b = df.iloc[:,1:]"
   ]
  },
  {
   "cell_type": "code",
   "execution_count": 17,
   "metadata": {},
   "outputs": [
    {
     "output_type": "execute_result",
     "data": {
      "text/plain": [
       "901     36.0\n",
       "761     34.0\n",
       "109     33.0\n",
       "302     33.0\n",
       "694     33.0\n",
       "        ... \n",
       "1022    15.0\n",
       "407     14.0\n",
       "14      14.0\n",
       "59      12.0\n",
       "182     11.0\n",
       "Length: 1195, dtype: float64"
      ]
     },
     "metadata": {},
     "execution_count": 17
    }
   ],
   "source": [
    "a = df.iloc[:,1:].sum(axis=1).sort_values(ascending= False)\n",
    "a"
   ]
  },
  {
   "cell_type": "code",
   "execution_count": 18,
   "metadata": {},
   "outputs": [
    {
     "output_type": "execute_result",
     "data": {
      "text/plain": [
       "count    1195.000000\n",
       "mean       24.041004\n",
       "std         3.458414\n",
       "min        11.000000\n",
       "25%        22.000000\n",
       "50%        24.000000\n",
       "75%        26.000000\n",
       "max        36.000000\n",
       "dtype: float64"
      ]
     },
     "metadata": {},
     "execution_count": 18
    }
   ],
   "source": [
    "a.describe()"
   ]
  },
  {
   "cell_type": "code",
   "execution_count": 19,
   "metadata": {},
   "outputs": [],
   "source": [
    "df['sum_solved'] = a"
   ]
  },
  {
   "cell_type": "code",
   "execution_count": 20,
   "metadata": {},
   "outputs": [
    {
     "output_type": "execute_result",
     "data": {
      "text/plain": [
       "           User_Name T1S1Q1 T1S1Q2 T1S1Q3 T1S1Q4 T1S1Q5 T1S1Q6 T1S2Q1 T1S2Q2  \\\n",
       "0      Lavanya Raval      0      0      0      1      1      1      1      1   \n",
       "1    Tejas Bhatnagar      1      1      1      1      1      1      1      0   \n",
       "2         Hazel Sura      1      1      0      0      1      1      0      0   \n",
       "3  Reyansh Rajagopal      1      0      0      0      1      0      0      0   \n",
       "4       Arhaan Desai      0      1      1      1      0      1      1      1   \n",
       "\n",
       "  T1S2Q3  ... T2S3Q4 T2S3Q5 T2S3Q6 T2S4Q1 T2S4Q2 T2S4Q3 T2S4Q4 T2S4Q5 T2S4Q6  \\\n",
       "0      1  ...      0      1      1      1      1      1      1      0      1   \n",
       "1      1  ...      1      0      0      0      1      1      0      1      1   \n",
       "2      0  ...      1      1      1      1      0      1      0      1      0   \n",
       "3      0  ...      1      1      1      0      0      1      0      1      0   \n",
       "4      0  ...      0      1      0      0      1      1      0      1      1   \n",
       "\n",
       "  sum_solved  \n",
       "0       25.0  \n",
       "1       26.0  \n",
       "2       23.0  \n",
       "3       27.0  \n",
       "4       26.0  \n",
       "\n",
       "[5 rows x 50 columns]"
      ],
      "text/html": "<div>\n<style scoped>\n    .dataframe tbody tr th:only-of-type {\n        vertical-align: middle;\n    }\n\n    .dataframe tbody tr th {\n        vertical-align: top;\n    }\n\n    .dataframe thead th {\n        text-align: right;\n    }\n</style>\n<table border=\"1\" class=\"dataframe\">\n  <thead>\n    <tr style=\"text-align: right;\">\n      <th></th>\n      <th>User_Name</th>\n      <th>T1S1Q1</th>\n      <th>T1S1Q2</th>\n      <th>T1S1Q3</th>\n      <th>T1S1Q4</th>\n      <th>T1S1Q5</th>\n      <th>T1S1Q6</th>\n      <th>T1S2Q1</th>\n      <th>T1S2Q2</th>\n      <th>T1S2Q3</th>\n      <th>...</th>\n      <th>T2S3Q4</th>\n      <th>T2S3Q5</th>\n      <th>T2S3Q6</th>\n      <th>T2S4Q1</th>\n      <th>T2S4Q2</th>\n      <th>T2S4Q3</th>\n      <th>T2S4Q4</th>\n      <th>T2S4Q5</th>\n      <th>T2S4Q6</th>\n      <th>sum_solved</th>\n    </tr>\n  </thead>\n  <tbody>\n    <tr>\n      <th>0</th>\n      <td>Lavanya Raval</td>\n      <td>0</td>\n      <td>0</td>\n      <td>0</td>\n      <td>1</td>\n      <td>1</td>\n      <td>1</td>\n      <td>1</td>\n      <td>1</td>\n      <td>1</td>\n      <td>...</td>\n      <td>0</td>\n      <td>1</td>\n      <td>1</td>\n      <td>1</td>\n      <td>1</td>\n      <td>1</td>\n      <td>1</td>\n      <td>0</td>\n      <td>1</td>\n      <td>25.0</td>\n    </tr>\n    <tr>\n      <th>1</th>\n      <td>Tejas Bhatnagar</td>\n      <td>1</td>\n      <td>1</td>\n      <td>1</td>\n      <td>1</td>\n      <td>1</td>\n      <td>1</td>\n      <td>1</td>\n      <td>0</td>\n      <td>1</td>\n      <td>...</td>\n      <td>1</td>\n      <td>0</td>\n      <td>0</td>\n      <td>0</td>\n      <td>1</td>\n      <td>1</td>\n      <td>0</td>\n      <td>1</td>\n      <td>1</td>\n      <td>26.0</td>\n    </tr>\n    <tr>\n      <th>2</th>\n      <td>Hazel Sura</td>\n      <td>1</td>\n      <td>1</td>\n      <td>0</td>\n      <td>0</td>\n      <td>1</td>\n      <td>1</td>\n      <td>0</td>\n      <td>0</td>\n      <td>0</td>\n      <td>...</td>\n      <td>1</td>\n      <td>1</td>\n      <td>1</td>\n      <td>1</td>\n      <td>0</td>\n      <td>1</td>\n      <td>0</td>\n      <td>1</td>\n      <td>0</td>\n      <td>23.0</td>\n    </tr>\n    <tr>\n      <th>3</th>\n      <td>Reyansh Rajagopal</td>\n      <td>1</td>\n      <td>0</td>\n      <td>0</td>\n      <td>0</td>\n      <td>1</td>\n      <td>0</td>\n      <td>0</td>\n      <td>0</td>\n      <td>0</td>\n      <td>...</td>\n      <td>1</td>\n      <td>1</td>\n      <td>1</td>\n      <td>0</td>\n      <td>0</td>\n      <td>1</td>\n      <td>0</td>\n      <td>1</td>\n      <td>0</td>\n      <td>27.0</td>\n    </tr>\n    <tr>\n      <th>4</th>\n      <td>Arhaan Desai</td>\n      <td>0</td>\n      <td>1</td>\n      <td>1</td>\n      <td>1</td>\n      <td>0</td>\n      <td>1</td>\n      <td>1</td>\n      <td>1</td>\n      <td>0</td>\n      <td>...</td>\n      <td>0</td>\n      <td>1</td>\n      <td>0</td>\n      <td>0</td>\n      <td>1</td>\n      <td>1</td>\n      <td>0</td>\n      <td>1</td>\n      <td>1</td>\n      <td>26.0</td>\n    </tr>\n  </tbody>\n</table>\n<p>5 rows × 50 columns</p>\n</div>"
     },
     "metadata": {},
     "execution_count": 20
    }
   ],
   "source": [
    "df.head()"
   ]
  },
  {
   "cell_type": "code",
   "execution_count": 21,
   "metadata": {},
   "outputs": [
    {
     "output_type": "execute_result",
     "data": {
      "text/plain": [
       "901     36.0\n",
       "761     34.0\n",
       "109     33.0\n",
       "302     33.0\n",
       "694     33.0\n",
       "        ... \n",
       "1022    15.0\n",
       "407     14.0\n",
       "14      14.0\n",
       "59      12.0\n",
       "182     11.0\n",
       "Name: sum_solved, Length: 1195, dtype: float64"
      ]
     },
     "metadata": {},
     "execution_count": 21
    }
   ],
   "source": [
    "df['sum_solved'].sort_values(ascending= False)"
   ]
  },
  {
   "cell_type": "code",
   "execution_count": 22,
   "metadata": {},
   "outputs": [
    {
     "output_type": "execute_result",
     "data": {
      "text/plain": [
       "count    1195.000000\n",
       "mean       24.041004\n",
       "std         3.458414\n",
       "min        11.000000\n",
       "25%        22.000000\n",
       "50%        24.000000\n",
       "75%        26.000000\n",
       "max        36.000000\n",
       "Name: sum_solved, dtype: float64"
      ]
     },
     "metadata": {},
     "execution_count": 22
    }
   ],
   "source": [
    "df['sum_solved'].describe()"
   ]
  },
  {
   "cell_type": "code",
   "execution_count": 23,
   "metadata": {},
   "outputs": [
    {
     "output_type": "execute_result",
     "data": {
      "text/plain": [
       "              User_Name T1S1Q1 T1S1Q2 T1S1Q3 T1S1Q4 T1S1Q5 T1S1Q6 T1S2Q1  \\\n",
       "3     Reyansh Rajagopal      1      0      0      0      1      0      0   \n",
       "8            Rasha Rana      1      1      1      0      0      1      1   \n",
       "9          Vivaan Koshy      1      0      1      1      0      0      0   \n",
       "10        Aniruddh Bora      1      0      1      1      0      0      0   \n",
       "16      Jayesh Zacharia      0      0      1      0      0      0      1   \n",
       "...                 ...    ...    ...    ...    ...    ...    ...    ...   \n",
       "1184         Sahil Bahl      1      1      1      1      1      0      0   \n",
       "1186       Keya Trivedi      1      0      0      0      1      0      1   \n",
       "1187         Shlok Bawa      0      0      0      0      1      0      0   \n",
       "1189         Anay Reddy      1      0      0      1      0      1      0   \n",
       "1191        Onkar Singh      0      1      1      0      0      1      1   \n",
       "\n",
       "     T1S2Q2 T1S2Q3  ... T2S3Q4 T2S3Q5 T2S3Q6 T2S4Q1 T2S4Q2 T2S4Q3 T2S4Q4  \\\n",
       "3         0      0  ...      1      1      1      0      0      1      0   \n",
       "8         0      1  ...      1      0      0      1      1      0      1   \n",
       "9         1      0  ...      1      1      0      0      1      1      1   \n",
       "10        0      1  ...      1      1      0      0      0      1      1   \n",
       "16        1      1  ...      0      1      1      1      1      0      1   \n",
       "...     ...    ...  ...    ...    ...    ...    ...    ...    ...    ...   \n",
       "1184      1      1  ...      1      0      1      1      1      1      1   \n",
       "1186      0      1  ...      1      0      1      1      1      1      1   \n",
       "1187      0      0  ...      1      0      0      0      0      1      1   \n",
       "1189      0      1  ...      1      1      1      0      1      1      0   \n",
       "1191      1      1  ...      1      1      0      1      1      0      1   \n",
       "\n",
       "     T2S4Q5 T2S4Q6 sum_solved  \n",
       "3         1      0       27.0  \n",
       "8         1      1       30.0  \n",
       "9         0      1       29.0  \n",
       "10        0      1       29.0  \n",
       "16        0      0       27.0  \n",
       "...     ...    ...        ...  \n",
       "1184      1      0       31.0  \n",
       "1186      1      0       27.0  \n",
       "1187      1      1       27.0  \n",
       "1189      0      0       28.0  \n",
       "1191      1      0       27.0  \n",
       "\n",
       "[283 rows x 50 columns]"
      ],
      "text/html": "<div>\n<style scoped>\n    .dataframe tbody tr th:only-of-type {\n        vertical-align: middle;\n    }\n\n    .dataframe tbody tr th {\n        vertical-align: top;\n    }\n\n    .dataframe thead th {\n        text-align: right;\n    }\n</style>\n<table border=\"1\" class=\"dataframe\">\n  <thead>\n    <tr style=\"text-align: right;\">\n      <th></th>\n      <th>User_Name</th>\n      <th>T1S1Q1</th>\n      <th>T1S1Q2</th>\n      <th>T1S1Q3</th>\n      <th>T1S1Q4</th>\n      <th>T1S1Q5</th>\n      <th>T1S1Q6</th>\n      <th>T1S2Q1</th>\n      <th>T1S2Q2</th>\n      <th>T1S2Q3</th>\n      <th>...</th>\n      <th>T2S3Q4</th>\n      <th>T2S3Q5</th>\n      <th>T2S3Q6</th>\n      <th>T2S4Q1</th>\n      <th>T2S4Q2</th>\n      <th>T2S4Q3</th>\n      <th>T2S4Q4</th>\n      <th>T2S4Q5</th>\n      <th>T2S4Q6</th>\n      <th>sum_solved</th>\n    </tr>\n  </thead>\n  <tbody>\n    <tr>\n      <th>3</th>\n      <td>Reyansh Rajagopal</td>\n      <td>1</td>\n      <td>0</td>\n      <td>0</td>\n      <td>0</td>\n      <td>1</td>\n      <td>0</td>\n      <td>0</td>\n      <td>0</td>\n      <td>0</td>\n      <td>...</td>\n      <td>1</td>\n      <td>1</td>\n      <td>1</td>\n      <td>0</td>\n      <td>0</td>\n      <td>1</td>\n      <td>0</td>\n      <td>1</td>\n      <td>0</td>\n      <td>27.0</td>\n    </tr>\n    <tr>\n      <th>8</th>\n      <td>Rasha Rana</td>\n      <td>1</td>\n      <td>1</td>\n      <td>1</td>\n      <td>0</td>\n      <td>0</td>\n      <td>1</td>\n      <td>1</td>\n      <td>0</td>\n      <td>1</td>\n      <td>...</td>\n      <td>1</td>\n      <td>0</td>\n      <td>0</td>\n      <td>1</td>\n      <td>1</td>\n      <td>0</td>\n      <td>1</td>\n      <td>1</td>\n      <td>1</td>\n      <td>30.0</td>\n    </tr>\n    <tr>\n      <th>9</th>\n      <td>Vivaan Koshy</td>\n      <td>1</td>\n      <td>0</td>\n      <td>1</td>\n      <td>1</td>\n      <td>0</td>\n      <td>0</td>\n      <td>0</td>\n      <td>1</td>\n      <td>0</td>\n      <td>...</td>\n      <td>1</td>\n      <td>1</td>\n      <td>0</td>\n      <td>0</td>\n      <td>1</td>\n      <td>1</td>\n      <td>1</td>\n      <td>0</td>\n      <td>1</td>\n      <td>29.0</td>\n    </tr>\n    <tr>\n      <th>10</th>\n      <td>Aniruddh Bora</td>\n      <td>1</td>\n      <td>0</td>\n      <td>1</td>\n      <td>1</td>\n      <td>0</td>\n      <td>0</td>\n      <td>0</td>\n      <td>0</td>\n      <td>1</td>\n      <td>...</td>\n      <td>1</td>\n      <td>1</td>\n      <td>0</td>\n      <td>0</td>\n      <td>0</td>\n      <td>1</td>\n      <td>1</td>\n      <td>0</td>\n      <td>1</td>\n      <td>29.0</td>\n    </tr>\n    <tr>\n      <th>16</th>\n      <td>Jayesh Zacharia</td>\n      <td>0</td>\n      <td>0</td>\n      <td>1</td>\n      <td>0</td>\n      <td>0</td>\n      <td>0</td>\n      <td>1</td>\n      <td>1</td>\n      <td>1</td>\n      <td>...</td>\n      <td>0</td>\n      <td>1</td>\n      <td>1</td>\n      <td>1</td>\n      <td>1</td>\n      <td>0</td>\n      <td>1</td>\n      <td>0</td>\n      <td>0</td>\n      <td>27.0</td>\n    </tr>\n    <tr>\n      <th>...</th>\n      <td>...</td>\n      <td>...</td>\n      <td>...</td>\n      <td>...</td>\n      <td>...</td>\n      <td>...</td>\n      <td>...</td>\n      <td>...</td>\n      <td>...</td>\n      <td>...</td>\n      <td>...</td>\n      <td>...</td>\n      <td>...</td>\n      <td>...</td>\n      <td>...</td>\n      <td>...</td>\n      <td>...</td>\n      <td>...</td>\n      <td>...</td>\n      <td>...</td>\n      <td>...</td>\n    </tr>\n    <tr>\n      <th>1184</th>\n      <td>Sahil Bahl</td>\n      <td>1</td>\n      <td>1</td>\n      <td>1</td>\n      <td>1</td>\n      <td>1</td>\n      <td>0</td>\n      <td>0</td>\n      <td>1</td>\n      <td>1</td>\n      <td>...</td>\n      <td>1</td>\n      <td>0</td>\n      <td>1</td>\n      <td>1</td>\n      <td>1</td>\n      <td>1</td>\n      <td>1</td>\n      <td>1</td>\n      <td>0</td>\n      <td>31.0</td>\n    </tr>\n    <tr>\n      <th>1186</th>\n      <td>Keya Trivedi</td>\n      <td>1</td>\n      <td>0</td>\n      <td>0</td>\n      <td>0</td>\n      <td>1</td>\n      <td>0</td>\n      <td>1</td>\n      <td>0</td>\n      <td>1</td>\n      <td>...</td>\n      <td>1</td>\n      <td>0</td>\n      <td>1</td>\n      <td>1</td>\n      <td>1</td>\n      <td>1</td>\n      <td>1</td>\n      <td>1</td>\n      <td>0</td>\n      <td>27.0</td>\n    </tr>\n    <tr>\n      <th>1187</th>\n      <td>Shlok Bawa</td>\n      <td>0</td>\n      <td>0</td>\n      <td>0</td>\n      <td>0</td>\n      <td>1</td>\n      <td>0</td>\n      <td>0</td>\n      <td>0</td>\n      <td>0</td>\n      <td>...</td>\n      <td>1</td>\n      <td>0</td>\n      <td>0</td>\n      <td>0</td>\n      <td>0</td>\n      <td>1</td>\n      <td>1</td>\n      <td>1</td>\n      <td>1</td>\n      <td>27.0</td>\n    </tr>\n    <tr>\n      <th>1189</th>\n      <td>Anay Reddy</td>\n      <td>1</td>\n      <td>0</td>\n      <td>0</td>\n      <td>1</td>\n      <td>0</td>\n      <td>1</td>\n      <td>0</td>\n      <td>0</td>\n      <td>1</td>\n      <td>...</td>\n      <td>1</td>\n      <td>1</td>\n      <td>1</td>\n      <td>0</td>\n      <td>1</td>\n      <td>1</td>\n      <td>0</td>\n      <td>0</td>\n      <td>0</td>\n      <td>28.0</td>\n    </tr>\n    <tr>\n      <th>1191</th>\n      <td>Onkar Singh</td>\n      <td>0</td>\n      <td>1</td>\n      <td>1</td>\n      <td>0</td>\n      <td>0</td>\n      <td>1</td>\n      <td>1</td>\n      <td>1</td>\n      <td>1</td>\n      <td>...</td>\n      <td>1</td>\n      <td>1</td>\n      <td>0</td>\n      <td>1</td>\n      <td>1</td>\n      <td>0</td>\n      <td>1</td>\n      <td>1</td>\n      <td>0</td>\n      <td>27.0</td>\n    </tr>\n  </tbody>\n</table>\n<p>283 rows × 50 columns</p>\n</div>"
     },
     "metadata": {},
     "execution_count": 23
    }
   ],
   "source": [
    "#users who solved more than 75% of the questions\n",
    "best_perf = df[df['sum_solved']>26]\n",
    "best_perf"
   ]
  },
  {
   "cell_type": "code",
   "execution_count": 24,
   "metadata": {},
   "outputs": [
    {
     "output_type": "execute_result",
     "data": {
      "text/plain": [
       "           User_Name T1S1Q1 T1S1Q2 T1S1Q3 T1S1Q4 T1S1Q5 T1S1Q6 T1S2Q1 T1S2Q2  \\\n",
       "0      Lavanya Raval      0      0      0      1      1      1      1      1   \n",
       "5      Urvi Seshadri      1      1      0      0      1      1      0      0   \n",
       "29         Anya Goel      0      1      0      0      0      0      0      1   \n",
       "32       Tara Kalita      0      0      0      0      1      1      1      1   \n",
       "34       Fateh Baria      1      1      0      0      1      0      0      0   \n",
       "...              ...    ...    ...    ...    ...    ...    ...    ...    ...   \n",
       "1175  Lakshay Bhagat      1      1      0      0      0      1      1      0   \n",
       "1176       Diya Kale      0      1      1      1      0      0      1      1   \n",
       "1185    Romil Kalita      0      0      0      0      1      0      0      1   \n",
       "1190    Oorja Bhakta      0      0      1      1      1      1      0      1   \n",
       "1193     Nehmat Jani      1      0      0      1      1      0      1      0   \n",
       "\n",
       "     T1S2Q3  ... T2S3Q4 T2S3Q5 T2S3Q6 T2S4Q1 T2S4Q2 T2S4Q3 T2S4Q4 T2S4Q5  \\\n",
       "0         1  ...      0      1      1      1      1      1      1      0   \n",
       "5         1  ...      1      0      0      0      0      0      0      1   \n",
       "29        0  ...      1      0      1      1      1      1      0      1   \n",
       "32        0  ...      0      0      0      0      0      1      0      1   \n",
       "34        0  ...      0      1      1      1      1      0      0      1   \n",
       "...     ...  ...    ...    ...    ...    ...    ...    ...    ...    ...   \n",
       "1175      1  ...      0      1      0      0      0      0      1      0   \n",
       "1176      1  ...      0      0      1      1      0      1      0      1   \n",
       "1185      1  ...      0      0      0      0      1      0      0      0   \n",
       "1190      0  ...      0      0      0      1      0      0      1      1   \n",
       "1193      0  ...      1      1      0      1      1      1      0      1   \n",
       "\n",
       "     T2S4Q6 sum_solved  \n",
       "0         1       25.0  \n",
       "5         1       25.0  \n",
       "29        0       25.0  \n",
       "32        1       25.0  \n",
       "34        1       24.0  \n",
       "...     ...        ...  \n",
       "1175      0       24.0  \n",
       "1176      0       24.0  \n",
       "1185      1       25.0  \n",
       "1190      0       25.0  \n",
       "1193      0       24.0  \n",
       "\n",
       "[280 rows x 50 columns]"
      ],
      "text/html": "<div>\n<style scoped>\n    .dataframe tbody tr th:only-of-type {\n        vertical-align: middle;\n    }\n\n    .dataframe tbody tr th {\n        vertical-align: top;\n    }\n\n    .dataframe thead th {\n        text-align: right;\n    }\n</style>\n<table border=\"1\" class=\"dataframe\">\n  <thead>\n    <tr style=\"text-align: right;\">\n      <th></th>\n      <th>User_Name</th>\n      <th>T1S1Q1</th>\n      <th>T1S1Q2</th>\n      <th>T1S1Q3</th>\n      <th>T1S1Q4</th>\n      <th>T1S1Q5</th>\n      <th>T1S1Q6</th>\n      <th>T1S2Q1</th>\n      <th>T1S2Q2</th>\n      <th>T1S2Q3</th>\n      <th>...</th>\n      <th>T2S3Q4</th>\n      <th>T2S3Q5</th>\n      <th>T2S3Q6</th>\n      <th>T2S4Q1</th>\n      <th>T2S4Q2</th>\n      <th>T2S4Q3</th>\n      <th>T2S4Q4</th>\n      <th>T2S4Q5</th>\n      <th>T2S4Q6</th>\n      <th>sum_solved</th>\n    </tr>\n  </thead>\n  <tbody>\n    <tr>\n      <th>0</th>\n      <td>Lavanya Raval</td>\n      <td>0</td>\n      <td>0</td>\n      <td>0</td>\n      <td>1</td>\n      <td>1</td>\n      <td>1</td>\n      <td>1</td>\n      <td>1</td>\n      <td>1</td>\n      <td>...</td>\n      <td>0</td>\n      <td>1</td>\n      <td>1</td>\n      <td>1</td>\n      <td>1</td>\n      <td>1</td>\n      <td>1</td>\n      <td>0</td>\n      <td>1</td>\n      <td>25.0</td>\n    </tr>\n    <tr>\n      <th>5</th>\n      <td>Urvi Seshadri</td>\n      <td>1</td>\n      <td>1</td>\n      <td>0</td>\n      <td>0</td>\n      <td>1</td>\n      <td>1</td>\n      <td>0</td>\n      <td>0</td>\n      <td>1</td>\n      <td>...</td>\n      <td>1</td>\n      <td>0</td>\n      <td>0</td>\n      <td>0</td>\n      <td>0</td>\n      <td>0</td>\n      <td>0</td>\n      <td>1</td>\n      <td>1</td>\n      <td>25.0</td>\n    </tr>\n    <tr>\n      <th>29</th>\n      <td>Anya Goel</td>\n      <td>0</td>\n      <td>1</td>\n      <td>0</td>\n      <td>0</td>\n      <td>0</td>\n      <td>0</td>\n      <td>0</td>\n      <td>1</td>\n      <td>0</td>\n      <td>...</td>\n      <td>1</td>\n      <td>0</td>\n      <td>1</td>\n      <td>1</td>\n      <td>1</td>\n      <td>1</td>\n      <td>0</td>\n      <td>1</td>\n      <td>0</td>\n      <td>25.0</td>\n    </tr>\n    <tr>\n      <th>32</th>\n      <td>Tara Kalita</td>\n      <td>0</td>\n      <td>0</td>\n      <td>0</td>\n      <td>0</td>\n      <td>1</td>\n      <td>1</td>\n      <td>1</td>\n      <td>1</td>\n      <td>0</td>\n      <td>...</td>\n      <td>0</td>\n      <td>0</td>\n      <td>0</td>\n      <td>0</td>\n      <td>0</td>\n      <td>1</td>\n      <td>0</td>\n      <td>1</td>\n      <td>1</td>\n      <td>25.0</td>\n    </tr>\n    <tr>\n      <th>34</th>\n      <td>Fateh Baria</td>\n      <td>1</td>\n      <td>1</td>\n      <td>0</td>\n      <td>0</td>\n      <td>1</td>\n      <td>0</td>\n      <td>0</td>\n      <td>0</td>\n      <td>0</td>\n      <td>...</td>\n      <td>0</td>\n      <td>1</td>\n      <td>1</td>\n      <td>1</td>\n      <td>1</td>\n      <td>0</td>\n      <td>0</td>\n      <td>1</td>\n      <td>1</td>\n      <td>24.0</td>\n    </tr>\n    <tr>\n      <th>...</th>\n      <td>...</td>\n      <td>...</td>\n      <td>...</td>\n      <td>...</td>\n      <td>...</td>\n      <td>...</td>\n      <td>...</td>\n      <td>...</td>\n      <td>...</td>\n      <td>...</td>\n      <td>...</td>\n      <td>...</td>\n      <td>...</td>\n      <td>...</td>\n      <td>...</td>\n      <td>...</td>\n      <td>...</td>\n      <td>...</td>\n      <td>...</td>\n      <td>...</td>\n      <td>...</td>\n    </tr>\n    <tr>\n      <th>1175</th>\n      <td>Lakshay Bhagat</td>\n      <td>1</td>\n      <td>1</td>\n      <td>0</td>\n      <td>0</td>\n      <td>0</td>\n      <td>1</td>\n      <td>1</td>\n      <td>0</td>\n      <td>1</td>\n      <td>...</td>\n      <td>0</td>\n      <td>1</td>\n      <td>0</td>\n      <td>0</td>\n      <td>0</td>\n      <td>0</td>\n      <td>1</td>\n      <td>0</td>\n      <td>0</td>\n      <td>24.0</td>\n    </tr>\n    <tr>\n      <th>1176</th>\n      <td>Diya Kale</td>\n      <td>0</td>\n      <td>1</td>\n      <td>1</td>\n      <td>1</td>\n      <td>0</td>\n      <td>0</td>\n      <td>1</td>\n      <td>1</td>\n      <td>1</td>\n      <td>...</td>\n      <td>0</td>\n      <td>0</td>\n      <td>1</td>\n      <td>1</td>\n      <td>0</td>\n      <td>1</td>\n      <td>0</td>\n      <td>1</td>\n      <td>0</td>\n      <td>24.0</td>\n    </tr>\n    <tr>\n      <th>1185</th>\n      <td>Romil Kalita</td>\n      <td>0</td>\n      <td>0</td>\n      <td>0</td>\n      <td>0</td>\n      <td>1</td>\n      <td>0</td>\n      <td>0</td>\n      <td>1</td>\n      <td>1</td>\n      <td>...</td>\n      <td>0</td>\n      <td>0</td>\n      <td>0</td>\n      <td>0</td>\n      <td>1</td>\n      <td>0</td>\n      <td>0</td>\n      <td>0</td>\n      <td>1</td>\n      <td>25.0</td>\n    </tr>\n    <tr>\n      <th>1190</th>\n      <td>Oorja Bhakta</td>\n      <td>0</td>\n      <td>0</td>\n      <td>1</td>\n      <td>1</td>\n      <td>1</td>\n      <td>1</td>\n      <td>0</td>\n      <td>1</td>\n      <td>0</td>\n      <td>...</td>\n      <td>0</td>\n      <td>0</td>\n      <td>0</td>\n      <td>1</td>\n      <td>0</td>\n      <td>0</td>\n      <td>1</td>\n      <td>1</td>\n      <td>0</td>\n      <td>25.0</td>\n    </tr>\n    <tr>\n      <th>1193</th>\n      <td>Nehmat Jani</td>\n      <td>1</td>\n      <td>0</td>\n      <td>0</td>\n      <td>1</td>\n      <td>1</td>\n      <td>0</td>\n      <td>1</td>\n      <td>0</td>\n      <td>0</td>\n      <td>...</td>\n      <td>1</td>\n      <td>1</td>\n      <td>0</td>\n      <td>1</td>\n      <td>1</td>\n      <td>1</td>\n      <td>0</td>\n      <td>1</td>\n      <td>0</td>\n      <td>24.0</td>\n    </tr>\n  </tbody>\n</table>\n<p>280 rows × 50 columns</p>\n</div>"
     },
     "metadata": {},
     "execution_count": 24
    }
   ],
   "source": [
    "#users who solved more than 50% of the questions\n",
    "\n",
    "avg_perf = df[(df['sum_solved']>=24) & (df['sum_solved']<26)]\n",
    "avg_perf"
   ]
  },
  {
   "cell_type": "code",
   "execution_count": 25,
   "metadata": {},
   "outputs": [
    {
     "output_type": "execute_result",
     "data": {
      "text/plain": [
       "           User_Name T1S1Q1 T1S1Q2 T1S1Q3 T1S1Q4 T1S1Q5 T1S1Q6 T1S2Q1 T1S2Q2  \\\n",
       "2         Hazel Sura      1      1      0      0      1      1      0      0   \n",
       "7      Tarini Barman      1      0      0      0      0      0      1      0   \n",
       "20      Arhaan Kalla      0      0      0      1      0      0      1      0   \n",
       "22       Seher Soman      0      0      0      1      1      0      0      1   \n",
       "26       Kimaya Wali      1      0      1      0      0      1      1      1   \n",
       "...              ...    ...    ...    ...    ...    ...    ...    ...    ...   \n",
       "1172        Eva Virk      0      0      1      0      1      0      0      1   \n",
       "1174  Raghav Shankar      1      1      0      1      0      0      0      0   \n",
       "1183     Himmat Raju      1      0      0      1      1      0      1      0   \n",
       "1192   Arnav Shankar      1      1      0      1      1      0      0      0   \n",
       "1194     Zara Taneja      0      1      1      0      0      1      0      0   \n",
       "\n",
       "     T1S2Q3  ... T2S3Q4 T2S3Q5 T2S3Q6 T2S4Q1 T2S4Q2 T2S4Q3 T2S4Q4 T2S4Q5  \\\n",
       "2         0  ...      1      1      1      1      0      1      0      1   \n",
       "7         1  ...      0      1      0      1      0      0      1      0   \n",
       "20        0  ...      0      0      0      0      0      0      0      0   \n",
       "22        1  ...      1      1      1      0      0      0      1      1   \n",
       "26        0  ...      1      0      0      0      0      0      0      0   \n",
       "...     ...  ...    ...    ...    ...    ...    ...    ...    ...    ...   \n",
       "1172      0  ...      0      0      1      1      1      0      0      1   \n",
       "1174      1  ...      0      1      0      1      0      0      1      1   \n",
       "1183      1  ...      0      0      1      0      1      1      0      1   \n",
       "1192      0  ...      1      0      1      1      1      1      0      1   \n",
       "1194      0  ...      0      0      0      1      1      0      1      1   \n",
       "\n",
       "     T2S4Q6 sum_solved  \n",
       "2         0       23.0  \n",
       "7         0       22.0  \n",
       "20        1       22.0  \n",
       "22        0       23.0  \n",
       "26        1       23.0  \n",
       "...     ...        ...  \n",
       "1172      1       23.0  \n",
       "1174      0       22.0  \n",
       "1183      0       22.0  \n",
       "1192      0       23.0  \n",
       "1194      0       23.0  \n",
       "\n",
       "[240 rows x 50 columns]"
      ],
      "text/html": "<div>\n<style scoped>\n    .dataframe tbody tr th:only-of-type {\n        vertical-align: middle;\n    }\n\n    .dataframe tbody tr th {\n        vertical-align: top;\n    }\n\n    .dataframe thead th {\n        text-align: right;\n    }\n</style>\n<table border=\"1\" class=\"dataframe\">\n  <thead>\n    <tr style=\"text-align: right;\">\n      <th></th>\n      <th>User_Name</th>\n      <th>T1S1Q1</th>\n      <th>T1S1Q2</th>\n      <th>T1S1Q3</th>\n      <th>T1S1Q4</th>\n      <th>T1S1Q5</th>\n      <th>T1S1Q6</th>\n      <th>T1S2Q1</th>\n      <th>T1S2Q2</th>\n      <th>T1S2Q3</th>\n      <th>...</th>\n      <th>T2S3Q4</th>\n      <th>T2S3Q5</th>\n      <th>T2S3Q6</th>\n      <th>T2S4Q1</th>\n      <th>T2S4Q2</th>\n      <th>T2S4Q3</th>\n      <th>T2S4Q4</th>\n      <th>T2S4Q5</th>\n      <th>T2S4Q6</th>\n      <th>sum_solved</th>\n    </tr>\n  </thead>\n  <tbody>\n    <tr>\n      <th>2</th>\n      <td>Hazel Sura</td>\n      <td>1</td>\n      <td>1</td>\n      <td>0</td>\n      <td>0</td>\n      <td>1</td>\n      <td>1</td>\n      <td>0</td>\n      <td>0</td>\n      <td>0</td>\n      <td>...</td>\n      <td>1</td>\n      <td>1</td>\n      <td>1</td>\n      <td>1</td>\n      <td>0</td>\n      <td>1</td>\n      <td>0</td>\n      <td>1</td>\n      <td>0</td>\n      <td>23.0</td>\n    </tr>\n    <tr>\n      <th>7</th>\n      <td>Tarini Barman</td>\n      <td>1</td>\n      <td>0</td>\n      <td>0</td>\n      <td>0</td>\n      <td>0</td>\n      <td>0</td>\n      <td>1</td>\n      <td>0</td>\n      <td>1</td>\n      <td>...</td>\n      <td>0</td>\n      <td>1</td>\n      <td>0</td>\n      <td>1</td>\n      <td>0</td>\n      <td>0</td>\n      <td>1</td>\n      <td>0</td>\n      <td>0</td>\n      <td>22.0</td>\n    </tr>\n    <tr>\n      <th>20</th>\n      <td>Arhaan Kalla</td>\n      <td>0</td>\n      <td>0</td>\n      <td>0</td>\n      <td>1</td>\n      <td>0</td>\n      <td>0</td>\n      <td>1</td>\n      <td>0</td>\n      <td>0</td>\n      <td>...</td>\n      <td>0</td>\n      <td>0</td>\n      <td>0</td>\n      <td>0</td>\n      <td>0</td>\n      <td>0</td>\n      <td>0</td>\n      <td>0</td>\n      <td>1</td>\n      <td>22.0</td>\n    </tr>\n    <tr>\n      <th>22</th>\n      <td>Seher Soman</td>\n      <td>0</td>\n      <td>0</td>\n      <td>0</td>\n      <td>1</td>\n      <td>1</td>\n      <td>0</td>\n      <td>0</td>\n      <td>1</td>\n      <td>1</td>\n      <td>...</td>\n      <td>1</td>\n      <td>1</td>\n      <td>1</td>\n      <td>0</td>\n      <td>0</td>\n      <td>0</td>\n      <td>1</td>\n      <td>1</td>\n      <td>0</td>\n      <td>23.0</td>\n    </tr>\n    <tr>\n      <th>26</th>\n      <td>Kimaya Wali</td>\n      <td>1</td>\n      <td>0</td>\n      <td>1</td>\n      <td>0</td>\n      <td>0</td>\n      <td>1</td>\n      <td>1</td>\n      <td>1</td>\n      <td>0</td>\n      <td>...</td>\n      <td>1</td>\n      <td>0</td>\n      <td>0</td>\n      <td>0</td>\n      <td>0</td>\n      <td>0</td>\n      <td>0</td>\n      <td>0</td>\n      <td>1</td>\n      <td>23.0</td>\n    </tr>\n    <tr>\n      <th>...</th>\n      <td>...</td>\n      <td>...</td>\n      <td>...</td>\n      <td>...</td>\n      <td>...</td>\n      <td>...</td>\n      <td>...</td>\n      <td>...</td>\n      <td>...</td>\n      <td>...</td>\n      <td>...</td>\n      <td>...</td>\n      <td>...</td>\n      <td>...</td>\n      <td>...</td>\n      <td>...</td>\n      <td>...</td>\n      <td>...</td>\n      <td>...</td>\n      <td>...</td>\n      <td>...</td>\n    </tr>\n    <tr>\n      <th>1172</th>\n      <td>Eva Virk</td>\n      <td>0</td>\n      <td>0</td>\n      <td>1</td>\n      <td>0</td>\n      <td>1</td>\n      <td>0</td>\n      <td>0</td>\n      <td>1</td>\n      <td>0</td>\n      <td>...</td>\n      <td>0</td>\n      <td>0</td>\n      <td>1</td>\n      <td>1</td>\n      <td>1</td>\n      <td>0</td>\n      <td>0</td>\n      <td>1</td>\n      <td>1</td>\n      <td>23.0</td>\n    </tr>\n    <tr>\n      <th>1174</th>\n      <td>Raghav Shankar</td>\n      <td>1</td>\n      <td>1</td>\n      <td>0</td>\n      <td>1</td>\n      <td>0</td>\n      <td>0</td>\n      <td>0</td>\n      <td>0</td>\n      <td>1</td>\n      <td>...</td>\n      <td>0</td>\n      <td>1</td>\n      <td>0</td>\n      <td>1</td>\n      <td>0</td>\n      <td>0</td>\n      <td>1</td>\n      <td>1</td>\n      <td>0</td>\n      <td>22.0</td>\n    </tr>\n    <tr>\n      <th>1183</th>\n      <td>Himmat Raju</td>\n      <td>1</td>\n      <td>0</td>\n      <td>0</td>\n      <td>1</td>\n      <td>1</td>\n      <td>0</td>\n      <td>1</td>\n      <td>0</td>\n      <td>1</td>\n      <td>...</td>\n      <td>0</td>\n      <td>0</td>\n      <td>1</td>\n      <td>0</td>\n      <td>1</td>\n      <td>1</td>\n      <td>0</td>\n      <td>1</td>\n      <td>0</td>\n      <td>22.0</td>\n    </tr>\n    <tr>\n      <th>1192</th>\n      <td>Arnav Shankar</td>\n      <td>1</td>\n      <td>1</td>\n      <td>0</td>\n      <td>1</td>\n      <td>1</td>\n      <td>0</td>\n      <td>0</td>\n      <td>0</td>\n      <td>0</td>\n      <td>...</td>\n      <td>1</td>\n      <td>0</td>\n      <td>1</td>\n      <td>1</td>\n      <td>1</td>\n      <td>1</td>\n      <td>0</td>\n      <td>1</td>\n      <td>0</td>\n      <td>23.0</td>\n    </tr>\n    <tr>\n      <th>1194</th>\n      <td>Zara Taneja</td>\n      <td>0</td>\n      <td>1</td>\n      <td>1</td>\n      <td>0</td>\n      <td>0</td>\n      <td>1</td>\n      <td>0</td>\n      <td>0</td>\n      <td>0</td>\n      <td>...</td>\n      <td>0</td>\n      <td>0</td>\n      <td>0</td>\n      <td>1</td>\n      <td>1</td>\n      <td>0</td>\n      <td>1</td>\n      <td>1</td>\n      <td>0</td>\n      <td>23.0</td>\n    </tr>\n  </tbody>\n</table>\n<p>240 rows × 50 columns</p>\n</div>"
     },
     "metadata": {},
     "execution_count": 25
    }
   ],
   "source": [
    "#users who solved 50% - 25% of the questions\n",
    "\n",
    "bad_perf = df[(df['sum_solved']>=22) & (df['sum_solved']<24)]\n",
    "bad_perf"
   ]
  },
  {
   "cell_type": "code",
   "execution_count": 26,
   "metadata": {},
   "outputs": [
    {
     "output_type": "execute_result",
     "data": {
      "text/plain": [
       "              User_Name T1S1Q1 T1S1Q2 T1S1Q3 T1S1Q4 T1S1Q5 T1S1Q6 T1S2Q1  \\\n",
       "6           Dishani Vig      0      1      1      0      0      0      0   \n",
       "12         Lakshit Bose      0      1      1      0      1      1      0   \n",
       "14           Gatik Dube      0      1      1      0      1      0      0   \n",
       "17         Prerak Batta      1      1      0      0      0      1      1   \n",
       "21    Darshit Chaudhuri      0      0      0      1      0      0      0   \n",
       "...                 ...    ...    ...    ...    ...    ...    ...    ...   \n",
       "1168       Vaibhav Char      0      1      1      0      0      1      0   \n",
       "1177      Jivika Chanda      1      1      0      1      1      0      0   \n",
       "1180      Yakshit Sheth      0      1      0      0      0      0      1   \n",
       "1182      Priyansh Anne      1      1      0      1      1      1      1   \n",
       "1188        Suhana Sami      1      0      1      0      0      0      1   \n",
       "\n",
       "     T1S2Q2 T1S2Q3  ... T2S3Q4 T2S3Q5 T2S3Q6 T2S4Q1 T2S4Q2 T2S4Q3 T2S4Q4  \\\n",
       "6         1      0  ...      0      1      1      0      0      1      0   \n",
       "12        1      0  ...      1      1      0      0      0      0      0   \n",
       "14        0      1  ...      0      0      0      0      0      0      0   \n",
       "17        0      1  ...      1      1      1      1      0      0      0   \n",
       "21        0      1  ...      0      0      1      0      0      1      0   \n",
       "...     ...    ...  ...    ...    ...    ...    ...    ...    ...    ...   \n",
       "1168      0      0  ...      0      0      0      0      1      1      1   \n",
       "1177      0      1  ...      0      0      1      0      0      1      0   \n",
       "1180      0      1  ...      0      1      0      0      1      0      0   \n",
       "1182      1      0  ...      1      0      0      1      0      1      0   \n",
       "1188      1      1  ...      1      0      0      0      1      0      0   \n",
       "\n",
       "     T2S4Q5 T2S4Q6 sum_solved  \n",
       "6         0      0       18.0  \n",
       "12        1      0       20.0  \n",
       "14        1      0       14.0  \n",
       "17        0      0       21.0  \n",
       "21        1      0       18.0  \n",
       "...     ...    ...        ...  \n",
       "1168      0      0       19.0  \n",
       "1177      1      1       21.0  \n",
       "1180      1      0       19.0  \n",
       "1182      0      0       21.0  \n",
       "1188      0      0       20.0  \n",
       "\n",
       "[277 rows x 50 columns]"
      ],
      "text/html": "<div>\n<style scoped>\n    .dataframe tbody tr th:only-of-type {\n        vertical-align: middle;\n    }\n\n    .dataframe tbody tr th {\n        vertical-align: top;\n    }\n\n    .dataframe thead th {\n        text-align: right;\n    }\n</style>\n<table border=\"1\" class=\"dataframe\">\n  <thead>\n    <tr style=\"text-align: right;\">\n      <th></th>\n      <th>User_Name</th>\n      <th>T1S1Q1</th>\n      <th>T1S1Q2</th>\n      <th>T1S1Q3</th>\n      <th>T1S1Q4</th>\n      <th>T1S1Q5</th>\n      <th>T1S1Q6</th>\n      <th>T1S2Q1</th>\n      <th>T1S2Q2</th>\n      <th>T1S2Q3</th>\n      <th>...</th>\n      <th>T2S3Q4</th>\n      <th>T2S3Q5</th>\n      <th>T2S3Q6</th>\n      <th>T2S4Q1</th>\n      <th>T2S4Q2</th>\n      <th>T2S4Q3</th>\n      <th>T2S4Q4</th>\n      <th>T2S4Q5</th>\n      <th>T2S4Q6</th>\n      <th>sum_solved</th>\n    </tr>\n  </thead>\n  <tbody>\n    <tr>\n      <th>6</th>\n      <td>Dishani Vig</td>\n      <td>0</td>\n      <td>1</td>\n      <td>1</td>\n      <td>0</td>\n      <td>0</td>\n      <td>0</td>\n      <td>0</td>\n      <td>1</td>\n      <td>0</td>\n      <td>...</td>\n      <td>0</td>\n      <td>1</td>\n      <td>1</td>\n      <td>0</td>\n      <td>0</td>\n      <td>1</td>\n      <td>0</td>\n      <td>0</td>\n      <td>0</td>\n      <td>18.0</td>\n    </tr>\n    <tr>\n      <th>12</th>\n      <td>Lakshit Bose</td>\n      <td>0</td>\n      <td>1</td>\n      <td>1</td>\n      <td>0</td>\n      <td>1</td>\n      <td>1</td>\n      <td>0</td>\n      <td>1</td>\n      <td>0</td>\n      <td>...</td>\n      <td>1</td>\n      <td>1</td>\n      <td>0</td>\n      <td>0</td>\n      <td>0</td>\n      <td>0</td>\n      <td>0</td>\n      <td>1</td>\n      <td>0</td>\n      <td>20.0</td>\n    </tr>\n    <tr>\n      <th>14</th>\n      <td>Gatik Dube</td>\n      <td>0</td>\n      <td>1</td>\n      <td>1</td>\n      <td>0</td>\n      <td>1</td>\n      <td>0</td>\n      <td>0</td>\n      <td>0</td>\n      <td>1</td>\n      <td>...</td>\n      <td>0</td>\n      <td>0</td>\n      <td>0</td>\n      <td>0</td>\n      <td>0</td>\n      <td>0</td>\n      <td>0</td>\n      <td>1</td>\n      <td>0</td>\n      <td>14.0</td>\n    </tr>\n    <tr>\n      <th>17</th>\n      <td>Prerak Batta</td>\n      <td>1</td>\n      <td>1</td>\n      <td>0</td>\n      <td>0</td>\n      <td>0</td>\n      <td>1</td>\n      <td>1</td>\n      <td>0</td>\n      <td>1</td>\n      <td>...</td>\n      <td>1</td>\n      <td>1</td>\n      <td>1</td>\n      <td>1</td>\n      <td>0</td>\n      <td>0</td>\n      <td>0</td>\n      <td>0</td>\n      <td>0</td>\n      <td>21.0</td>\n    </tr>\n    <tr>\n      <th>21</th>\n      <td>Darshit Chaudhuri</td>\n      <td>0</td>\n      <td>0</td>\n      <td>0</td>\n      <td>1</td>\n      <td>0</td>\n      <td>0</td>\n      <td>0</td>\n      <td>0</td>\n      <td>1</td>\n      <td>...</td>\n      <td>0</td>\n      <td>0</td>\n      <td>1</td>\n      <td>0</td>\n      <td>0</td>\n      <td>1</td>\n      <td>0</td>\n      <td>1</td>\n      <td>0</td>\n      <td>18.0</td>\n    </tr>\n    <tr>\n      <th>...</th>\n      <td>...</td>\n      <td>...</td>\n      <td>...</td>\n      <td>...</td>\n      <td>...</td>\n      <td>...</td>\n      <td>...</td>\n      <td>...</td>\n      <td>...</td>\n      <td>...</td>\n      <td>...</td>\n      <td>...</td>\n      <td>...</td>\n      <td>...</td>\n      <td>...</td>\n      <td>...</td>\n      <td>...</td>\n      <td>...</td>\n      <td>...</td>\n      <td>...</td>\n      <td>...</td>\n    </tr>\n    <tr>\n      <th>1168</th>\n      <td>Vaibhav Char</td>\n      <td>0</td>\n      <td>1</td>\n      <td>1</td>\n      <td>0</td>\n      <td>0</td>\n      <td>1</td>\n      <td>0</td>\n      <td>0</td>\n      <td>0</td>\n      <td>...</td>\n      <td>0</td>\n      <td>0</td>\n      <td>0</td>\n      <td>0</td>\n      <td>1</td>\n      <td>1</td>\n      <td>1</td>\n      <td>0</td>\n      <td>0</td>\n      <td>19.0</td>\n    </tr>\n    <tr>\n      <th>1177</th>\n      <td>Jivika Chanda</td>\n      <td>1</td>\n      <td>1</td>\n      <td>0</td>\n      <td>1</td>\n      <td>1</td>\n      <td>0</td>\n      <td>0</td>\n      <td>0</td>\n      <td>1</td>\n      <td>...</td>\n      <td>0</td>\n      <td>0</td>\n      <td>1</td>\n      <td>0</td>\n      <td>0</td>\n      <td>1</td>\n      <td>0</td>\n      <td>1</td>\n      <td>1</td>\n      <td>21.0</td>\n    </tr>\n    <tr>\n      <th>1180</th>\n      <td>Yakshit Sheth</td>\n      <td>0</td>\n      <td>1</td>\n      <td>0</td>\n      <td>0</td>\n      <td>0</td>\n      <td>0</td>\n      <td>1</td>\n      <td>0</td>\n      <td>1</td>\n      <td>...</td>\n      <td>0</td>\n      <td>1</td>\n      <td>0</td>\n      <td>0</td>\n      <td>1</td>\n      <td>0</td>\n      <td>0</td>\n      <td>1</td>\n      <td>0</td>\n      <td>19.0</td>\n    </tr>\n    <tr>\n      <th>1182</th>\n      <td>Priyansh Anne</td>\n      <td>1</td>\n      <td>1</td>\n      <td>0</td>\n      <td>1</td>\n      <td>1</td>\n      <td>1</td>\n      <td>1</td>\n      <td>1</td>\n      <td>0</td>\n      <td>...</td>\n      <td>1</td>\n      <td>0</td>\n      <td>0</td>\n      <td>1</td>\n      <td>0</td>\n      <td>1</td>\n      <td>0</td>\n      <td>0</td>\n      <td>0</td>\n      <td>21.0</td>\n    </tr>\n    <tr>\n      <th>1188</th>\n      <td>Suhana Sami</td>\n      <td>1</td>\n      <td>0</td>\n      <td>1</td>\n      <td>0</td>\n      <td>0</td>\n      <td>0</td>\n      <td>1</td>\n      <td>1</td>\n      <td>1</td>\n      <td>...</td>\n      <td>1</td>\n      <td>0</td>\n      <td>0</td>\n      <td>0</td>\n      <td>1</td>\n      <td>0</td>\n      <td>0</td>\n      <td>0</td>\n      <td>0</td>\n      <td>20.0</td>\n    </tr>\n  </tbody>\n</table>\n<p>277 rows × 50 columns</p>\n</div>"
     },
     "metadata": {},
     "execution_count": 26
    }
   ],
   "source": [
    "#users performance less than 25%\n",
    "\n",
    "worst_perf =df[df['sum_solved']<22]\n",
    "worst_perf"
   ]
  },
  {
   "cell_type": "code",
   "execution_count": 27,
   "metadata": {},
   "outputs": [],
   "source": [
    "#regaining our dataframe\n",
    "\n",
    "df.drop(columns='sum_solved',inplace = True)"
   ]
  },
  {
   "cell_type": "code",
   "execution_count": 28,
   "metadata": {},
   "outputs": [
    {
     "output_type": "execute_result",
     "data": {
      "text/plain": [
       "           User_Name T1S1Q1 T1S1Q2 T1S1Q3 T1S1Q4 T1S1Q5 T1S1Q6 T1S2Q1 T1S2Q2  \\\n",
       "0      Lavanya Raval      0      0      0      1      1      1      1      1   \n",
       "1    Tejas Bhatnagar      1      1      1      1      1      1      1      0   \n",
       "2         Hazel Sura      1      1      0      0      1      1      0      0   \n",
       "3  Reyansh Rajagopal      1      0      0      0      1      0      0      0   \n",
       "4       Arhaan Desai      0      1      1      1      0      1      1      1   \n",
       "\n",
       "  T1S2Q3  ... T2S3Q3 T2S3Q4 T2S3Q5 T2S3Q6 T2S4Q1 T2S4Q2 T2S4Q3 T2S4Q4 T2S4Q5  \\\n",
       "0      1  ...      0      0      1      1      1      1      1      1      0   \n",
       "1      1  ...      1      1      0      0      0      1      1      0      1   \n",
       "2      0  ...      1      1      1      1      1      0      1      0      1   \n",
       "3      0  ...      0      1      1      1      0      0      1      0      1   \n",
       "4      0  ...      1      0      1      0      0      1      1      0      1   \n",
       "\n",
       "  T2S4Q6  \n",
       "0      1  \n",
       "1      1  \n",
       "2      0  \n",
       "3      0  \n",
       "4      1  \n",
       "\n",
       "[5 rows x 49 columns]"
      ],
      "text/html": "<div>\n<style scoped>\n    .dataframe tbody tr th:only-of-type {\n        vertical-align: middle;\n    }\n\n    .dataframe tbody tr th {\n        vertical-align: top;\n    }\n\n    .dataframe thead th {\n        text-align: right;\n    }\n</style>\n<table border=\"1\" class=\"dataframe\">\n  <thead>\n    <tr style=\"text-align: right;\">\n      <th></th>\n      <th>User_Name</th>\n      <th>T1S1Q1</th>\n      <th>T1S1Q2</th>\n      <th>T1S1Q3</th>\n      <th>T1S1Q4</th>\n      <th>T1S1Q5</th>\n      <th>T1S1Q6</th>\n      <th>T1S2Q1</th>\n      <th>T1S2Q2</th>\n      <th>T1S2Q3</th>\n      <th>...</th>\n      <th>T2S3Q3</th>\n      <th>T2S3Q4</th>\n      <th>T2S3Q5</th>\n      <th>T2S3Q6</th>\n      <th>T2S4Q1</th>\n      <th>T2S4Q2</th>\n      <th>T2S4Q3</th>\n      <th>T2S4Q4</th>\n      <th>T2S4Q5</th>\n      <th>T2S4Q6</th>\n    </tr>\n  </thead>\n  <tbody>\n    <tr>\n      <th>0</th>\n      <td>Lavanya Raval</td>\n      <td>0</td>\n      <td>0</td>\n      <td>0</td>\n      <td>1</td>\n      <td>1</td>\n      <td>1</td>\n      <td>1</td>\n      <td>1</td>\n      <td>1</td>\n      <td>...</td>\n      <td>0</td>\n      <td>0</td>\n      <td>1</td>\n      <td>1</td>\n      <td>1</td>\n      <td>1</td>\n      <td>1</td>\n      <td>1</td>\n      <td>0</td>\n      <td>1</td>\n    </tr>\n    <tr>\n      <th>1</th>\n      <td>Tejas Bhatnagar</td>\n      <td>1</td>\n      <td>1</td>\n      <td>1</td>\n      <td>1</td>\n      <td>1</td>\n      <td>1</td>\n      <td>1</td>\n      <td>0</td>\n      <td>1</td>\n      <td>...</td>\n      <td>1</td>\n      <td>1</td>\n      <td>0</td>\n      <td>0</td>\n      <td>0</td>\n      <td>1</td>\n      <td>1</td>\n      <td>0</td>\n      <td>1</td>\n      <td>1</td>\n    </tr>\n    <tr>\n      <th>2</th>\n      <td>Hazel Sura</td>\n      <td>1</td>\n      <td>1</td>\n      <td>0</td>\n      <td>0</td>\n      <td>1</td>\n      <td>1</td>\n      <td>0</td>\n      <td>0</td>\n      <td>0</td>\n      <td>...</td>\n      <td>1</td>\n      <td>1</td>\n      <td>1</td>\n      <td>1</td>\n      <td>1</td>\n      <td>0</td>\n      <td>1</td>\n      <td>0</td>\n      <td>1</td>\n      <td>0</td>\n    </tr>\n    <tr>\n      <th>3</th>\n      <td>Reyansh Rajagopal</td>\n      <td>1</td>\n      <td>0</td>\n      <td>0</td>\n      <td>0</td>\n      <td>1</td>\n      <td>0</td>\n      <td>0</td>\n      <td>0</td>\n      <td>0</td>\n      <td>...</td>\n      <td>0</td>\n      <td>1</td>\n      <td>1</td>\n      <td>1</td>\n      <td>0</td>\n      <td>0</td>\n      <td>1</td>\n      <td>0</td>\n      <td>1</td>\n      <td>0</td>\n    </tr>\n    <tr>\n      <th>4</th>\n      <td>Arhaan Desai</td>\n      <td>0</td>\n      <td>1</td>\n      <td>1</td>\n      <td>1</td>\n      <td>0</td>\n      <td>1</td>\n      <td>1</td>\n      <td>1</td>\n      <td>0</td>\n      <td>...</td>\n      <td>1</td>\n      <td>0</td>\n      <td>1</td>\n      <td>0</td>\n      <td>0</td>\n      <td>1</td>\n      <td>1</td>\n      <td>0</td>\n      <td>1</td>\n      <td>1</td>\n    </tr>\n  </tbody>\n</table>\n<p>5 rows × 49 columns</p>\n</div>"
     },
     "metadata": {},
     "execution_count": 28
    }
   ],
   "source": [
    "df.head()"
   ]
  },
  {
   "cell_type": "code",
   "execution_count": 29,
   "metadata": {},
   "outputs": [],
   "source": [
    "import seaborn as sns\n",
    "import matplotlib.pyplot as plt"
   ]
  },
  {
   "cell_type": "code",
   "execution_count": 32,
   "metadata": {},
   "outputs": [],
   "source": [
    "%matplotlib inline"
   ]
  },
  {
   "cell_type": "code",
   "execution_count": 49,
   "metadata": {},
   "outputs": [],
   "source": [
    "df_questions = df.T\n",
    "dfq = df_questions"
   ]
  },
  {
   "cell_type": "code",
   "execution_count": 64,
   "metadata": {},
   "outputs": [
    {
     "output_type": "execute_result",
     "data": {
      "text/plain": [
       "           User_Name T1S1Q1 T1S1Q2 T1S1Q3 T1S1Q4 T1S1Q5 T1S1Q6 T1S2Q1 T1S2Q2  \\\n",
       "0      Lavanya Raval      0      0      0      1      1      1      1      1   \n",
       "1    Tejas Bhatnagar      1      1      1      1      1      1      1      0   \n",
       "2         Hazel Sura      1      1      0      0      1      1      0      0   \n",
       "3  Reyansh Rajagopal      1      0      0      0      1      0      0      0   \n",
       "4       Arhaan Desai      0      1      1      1      0      1      1      1   \n",
       "\n",
       "  T1S2Q3  ... T2S3Q3 T2S3Q4 T2S3Q5 T2S3Q6 T2S4Q1 T2S4Q2 T2S4Q3 T2S4Q4 T2S4Q5  \\\n",
       "0      1  ...      0      0      1      1      1      1      1      1      0   \n",
       "1      1  ...      1      1      0      0      0      1      1      0      1   \n",
       "2      0  ...      1      1      1      1      1      0      1      0      1   \n",
       "3      0  ...      0      1      1      1      0      0      1      0      1   \n",
       "4      0  ...      1      0      1      0      0      1      1      0      1   \n",
       "\n",
       "  T2S4Q6  \n",
       "0      1  \n",
       "1      1  \n",
       "2      0  \n",
       "3      0  \n",
       "4      1  \n",
       "\n",
       "[5 rows x 49 columns]"
      ],
      "text/html": "<div>\n<style scoped>\n    .dataframe tbody tr th:only-of-type {\n        vertical-align: middle;\n    }\n\n    .dataframe tbody tr th {\n        vertical-align: top;\n    }\n\n    .dataframe thead th {\n        text-align: right;\n    }\n</style>\n<table border=\"1\" class=\"dataframe\">\n  <thead>\n    <tr style=\"text-align: right;\">\n      <th></th>\n      <th>User_Name</th>\n      <th>T1S1Q1</th>\n      <th>T1S1Q2</th>\n      <th>T1S1Q3</th>\n      <th>T1S1Q4</th>\n      <th>T1S1Q5</th>\n      <th>T1S1Q6</th>\n      <th>T1S2Q1</th>\n      <th>T1S2Q2</th>\n      <th>T1S2Q3</th>\n      <th>...</th>\n      <th>T2S3Q3</th>\n      <th>T2S3Q4</th>\n      <th>T2S3Q5</th>\n      <th>T2S3Q6</th>\n      <th>T2S4Q1</th>\n      <th>T2S4Q2</th>\n      <th>T2S4Q3</th>\n      <th>T2S4Q4</th>\n      <th>T2S4Q5</th>\n      <th>T2S4Q6</th>\n    </tr>\n  </thead>\n  <tbody>\n    <tr>\n      <th>0</th>\n      <td>Lavanya Raval</td>\n      <td>0</td>\n      <td>0</td>\n      <td>0</td>\n      <td>1</td>\n      <td>1</td>\n      <td>1</td>\n      <td>1</td>\n      <td>1</td>\n      <td>1</td>\n      <td>...</td>\n      <td>0</td>\n      <td>0</td>\n      <td>1</td>\n      <td>1</td>\n      <td>1</td>\n      <td>1</td>\n      <td>1</td>\n      <td>1</td>\n      <td>0</td>\n      <td>1</td>\n    </tr>\n    <tr>\n      <th>1</th>\n      <td>Tejas Bhatnagar</td>\n      <td>1</td>\n      <td>1</td>\n      <td>1</td>\n      <td>1</td>\n      <td>1</td>\n      <td>1</td>\n      <td>1</td>\n      <td>0</td>\n      <td>1</td>\n      <td>...</td>\n      <td>1</td>\n      <td>1</td>\n      <td>0</td>\n      <td>0</td>\n      <td>0</td>\n      <td>1</td>\n      <td>1</td>\n      <td>0</td>\n      <td>1</td>\n      <td>1</td>\n    </tr>\n    <tr>\n      <th>2</th>\n      <td>Hazel Sura</td>\n      <td>1</td>\n      <td>1</td>\n      <td>0</td>\n      <td>0</td>\n      <td>1</td>\n      <td>1</td>\n      <td>0</td>\n      <td>0</td>\n      <td>0</td>\n      <td>...</td>\n      <td>1</td>\n      <td>1</td>\n      <td>1</td>\n      <td>1</td>\n      <td>1</td>\n      <td>0</td>\n      <td>1</td>\n      <td>0</td>\n      <td>1</td>\n      <td>0</td>\n    </tr>\n    <tr>\n      <th>3</th>\n      <td>Reyansh Rajagopal</td>\n      <td>1</td>\n      <td>0</td>\n      <td>0</td>\n      <td>0</td>\n      <td>1</td>\n      <td>0</td>\n      <td>0</td>\n      <td>0</td>\n      <td>0</td>\n      <td>...</td>\n      <td>0</td>\n      <td>1</td>\n      <td>1</td>\n      <td>1</td>\n      <td>0</td>\n      <td>0</td>\n      <td>1</td>\n      <td>0</td>\n      <td>1</td>\n      <td>0</td>\n    </tr>\n    <tr>\n      <th>4</th>\n      <td>Arhaan Desai</td>\n      <td>0</td>\n      <td>1</td>\n      <td>1</td>\n      <td>1</td>\n      <td>0</td>\n      <td>1</td>\n      <td>1</td>\n      <td>1</td>\n      <td>0</td>\n      <td>...</td>\n      <td>1</td>\n      <td>0</td>\n      <td>1</td>\n      <td>0</td>\n      <td>0</td>\n      <td>1</td>\n      <td>1</td>\n      <td>0</td>\n      <td>1</td>\n      <td>1</td>\n    </tr>\n  </tbody>\n</table>\n<p>5 rows × 49 columns</p>\n</div>"
     },
     "metadata": {},
     "execution_count": 64
    }
   ],
   "source": [
    "df.head()"
   ]
  },
  {
   "cell_type": "code",
   "execution_count": 62,
   "metadata": {},
   "outputs": [
    {
     "output_type": "execute_result",
     "data": {
      "text/plain": [
       "Index(['User_Name', 'T1S1Q1', 'T1S1Q2', 'T1S1Q3', 'T1S1Q4', 'T1S1Q5', 'T1S1Q6',\n",
       "       'T1S2Q1', 'T1S2Q2', 'T1S2Q3', 'T1S2Q4', 'T1S2Q5', 'T1S2Q6', 'T1S3Q1',\n",
       "       'T1S3Q2', 'T1S3Q3', 'T1S3Q4', 'T1S3Q5', 'T1S3Q6', 'T1S4Q1', 'T1S4Q2',\n",
       "       'T1S4Q3', 'T1S4Q4', 'T1S4Q5', 'T1S4Q6', 'T2S1Q1', 'T2S1Q2', 'T2S1Q3',\n",
       "       'T2S1Q4', 'T2S1Q5', 'T2S1Q6', 'T2S2Q1', 'T2S2Q2', 'T2S2Q3', 'T2S2Q4',\n",
       "       'T2S2Q5', 'T2S2Q6', 'T2S3Q1', 'T2S3Q2', 'T2S3Q3', 'T2S3Q4', 'T2S3Q5',\n",
       "       'T2S3Q6', 'T2S4Q1', 'T2S4Q2', 'T2S4Q3', 'T2S4Q4', 'T2S4Q5', 'T2S4Q6'],\n",
       "      dtype='object')"
      ]
     },
     "metadata": {},
     "execution_count": 62
    }
   ],
   "source": [
    "df.columns"
   ]
  },
  {
   "cell_type": "code",
   "execution_count": 109,
   "metadata": {},
   "outputs": [],
   "source": [
    "import plotly.express as px\n",
    "import plotly.graph_objects as go\n",
    "import seaborn as sns\n",
    "import matplotlib.pyplot as plt"
   ]
  },
  {
   "cell_type": "code",
   "execution_count": 111,
   "metadata": {},
   "outputs": [
    {
     "output_type": "execute_result",
     "data": {
      "text/plain": [
       "             User_Name T1S1Q1 T1S1Q2 T1S1Q3 T1S1Q4 T1S1Q5 T1S1Q6 T1S2Q1  \\\n",
       "3    Reyansh Rajagopal      1      0      0      0      1      0      0   \n",
       "8           Rasha Rana      1      1      1      0      0      1      1   \n",
       "9         Vivaan Koshy      1      0      1      1      0      0      0   \n",
       "10       Aniruddh Bora      1      0      1      1      0      0      0   \n",
       "16     Jayesh Zacharia      0      0      1      0      0      0      1   \n",
       "..                 ...    ...    ...    ...    ...    ...    ...    ...   \n",
       "828      Suhana Kapoor      1      0      1      1      1      1      0   \n",
       "830          Zoya Sood      0      0      0      1      1      0      1   \n",
       "831       Faiyaz Borah      0      1      1      1      1      1      0   \n",
       "838      Kaira Sawhney      1      1      1      0      0      0      1   \n",
       "840      Vanya Dhillon      1      0      1      1      1      1      1   \n",
       "\n",
       "    T1S2Q2 T1S2Q3  ... T2S3Q4 T2S3Q5 T2S3Q6 T2S4Q1 T2S4Q2 T2S4Q3 T2S4Q4  \\\n",
       "3        0      0  ...      1      1      1      0      0      1      0   \n",
       "8        0      1  ...      1      0      0      1      1      0      1   \n",
       "9        1      0  ...      1      1      0      0      1      1      1   \n",
       "10       0      1  ...      1      1      0      0      0      1      1   \n",
       "16       1      1  ...      0      1      1      1      1      0      1   \n",
       "..     ...    ...  ...    ...    ...    ...    ...    ...    ...    ...   \n",
       "828      1      1  ...      1      1      1      0      0      0      0   \n",
       "830      1      0  ...      1      0      0      0      1      1      1   \n",
       "831      1      0  ...      0      0      1      0      0      1      1   \n",
       "838      1      0  ...      1      0      1      1      1      1      0   \n",
       "840      1      1  ...      0      1      1      1      0      1      1   \n",
       "\n",
       "    T2S4Q5 T2S4Q6 sum_solved  \n",
       "3        1      0       27.0  \n",
       "8        1      1       30.0  \n",
       "9        0      1       29.0  \n",
       "10       0      1       29.0  \n",
       "16       0      0       27.0  \n",
       "..     ...    ...        ...  \n",
       "828      0      1       29.0  \n",
       "830      1      1       28.0  \n",
       "831      1      1       28.0  \n",
       "838      1      0       27.0  \n",
       "840      1      1       31.0  \n",
       "\n",
       "[200 rows x 50 columns]"
      ],
      "text/html": "<div>\n<style scoped>\n    .dataframe tbody tr th:only-of-type {\n        vertical-align: middle;\n    }\n\n    .dataframe tbody tr th {\n        vertical-align: top;\n    }\n\n    .dataframe thead th {\n        text-align: right;\n    }\n</style>\n<table border=\"1\" class=\"dataframe\">\n  <thead>\n    <tr style=\"text-align: right;\">\n      <th></th>\n      <th>User_Name</th>\n      <th>T1S1Q1</th>\n      <th>T1S1Q2</th>\n      <th>T1S1Q3</th>\n      <th>T1S1Q4</th>\n      <th>T1S1Q5</th>\n      <th>T1S1Q6</th>\n      <th>T1S2Q1</th>\n      <th>T1S2Q2</th>\n      <th>T1S2Q3</th>\n      <th>...</th>\n      <th>T2S3Q4</th>\n      <th>T2S3Q5</th>\n      <th>T2S3Q6</th>\n      <th>T2S4Q1</th>\n      <th>T2S4Q2</th>\n      <th>T2S4Q3</th>\n      <th>T2S4Q4</th>\n      <th>T2S4Q5</th>\n      <th>T2S4Q6</th>\n      <th>sum_solved</th>\n    </tr>\n  </thead>\n  <tbody>\n    <tr>\n      <th>3</th>\n      <td>Reyansh Rajagopal</td>\n      <td>1</td>\n      <td>0</td>\n      <td>0</td>\n      <td>0</td>\n      <td>1</td>\n      <td>0</td>\n      <td>0</td>\n      <td>0</td>\n      <td>0</td>\n      <td>...</td>\n      <td>1</td>\n      <td>1</td>\n      <td>1</td>\n      <td>0</td>\n      <td>0</td>\n      <td>1</td>\n      <td>0</td>\n      <td>1</td>\n      <td>0</td>\n      <td>27.0</td>\n    </tr>\n    <tr>\n      <th>8</th>\n      <td>Rasha Rana</td>\n      <td>1</td>\n      <td>1</td>\n      <td>1</td>\n      <td>0</td>\n      <td>0</td>\n      <td>1</td>\n      <td>1</td>\n      <td>0</td>\n      <td>1</td>\n      <td>...</td>\n      <td>1</td>\n      <td>0</td>\n      <td>0</td>\n      <td>1</td>\n      <td>1</td>\n      <td>0</td>\n      <td>1</td>\n      <td>1</td>\n      <td>1</td>\n      <td>30.0</td>\n    </tr>\n    <tr>\n      <th>9</th>\n      <td>Vivaan Koshy</td>\n      <td>1</td>\n      <td>0</td>\n      <td>1</td>\n      <td>1</td>\n      <td>0</td>\n      <td>0</td>\n      <td>0</td>\n      <td>1</td>\n      <td>0</td>\n      <td>...</td>\n      <td>1</td>\n      <td>1</td>\n      <td>0</td>\n      <td>0</td>\n      <td>1</td>\n      <td>1</td>\n      <td>1</td>\n      <td>0</td>\n      <td>1</td>\n      <td>29.0</td>\n    </tr>\n    <tr>\n      <th>10</th>\n      <td>Aniruddh Bora</td>\n      <td>1</td>\n      <td>0</td>\n      <td>1</td>\n      <td>1</td>\n      <td>0</td>\n      <td>0</td>\n      <td>0</td>\n      <td>0</td>\n      <td>1</td>\n      <td>...</td>\n      <td>1</td>\n      <td>1</td>\n      <td>0</td>\n      <td>0</td>\n      <td>0</td>\n      <td>1</td>\n      <td>1</td>\n      <td>0</td>\n      <td>1</td>\n      <td>29.0</td>\n    </tr>\n    <tr>\n      <th>16</th>\n      <td>Jayesh Zacharia</td>\n      <td>0</td>\n      <td>0</td>\n      <td>1</td>\n      <td>0</td>\n      <td>0</td>\n      <td>0</td>\n      <td>1</td>\n      <td>1</td>\n      <td>1</td>\n      <td>...</td>\n      <td>0</td>\n      <td>1</td>\n      <td>1</td>\n      <td>1</td>\n      <td>1</td>\n      <td>0</td>\n      <td>1</td>\n      <td>0</td>\n      <td>0</td>\n      <td>27.0</td>\n    </tr>\n    <tr>\n      <th>...</th>\n      <td>...</td>\n      <td>...</td>\n      <td>...</td>\n      <td>...</td>\n      <td>...</td>\n      <td>...</td>\n      <td>...</td>\n      <td>...</td>\n      <td>...</td>\n      <td>...</td>\n      <td>...</td>\n      <td>...</td>\n      <td>...</td>\n      <td>...</td>\n      <td>...</td>\n      <td>...</td>\n      <td>...</td>\n      <td>...</td>\n      <td>...</td>\n      <td>...</td>\n      <td>...</td>\n    </tr>\n    <tr>\n      <th>828</th>\n      <td>Suhana Kapoor</td>\n      <td>1</td>\n      <td>0</td>\n      <td>1</td>\n      <td>1</td>\n      <td>1</td>\n      <td>1</td>\n      <td>0</td>\n      <td>1</td>\n      <td>1</td>\n      <td>...</td>\n      <td>1</td>\n      <td>1</td>\n      <td>1</td>\n      <td>0</td>\n      <td>0</td>\n      <td>0</td>\n      <td>0</td>\n      <td>0</td>\n      <td>1</td>\n      <td>29.0</td>\n    </tr>\n    <tr>\n      <th>830</th>\n      <td>Zoya Sood</td>\n      <td>0</td>\n      <td>0</td>\n      <td>0</td>\n      <td>1</td>\n      <td>1</td>\n      <td>0</td>\n      <td>1</td>\n      <td>1</td>\n      <td>0</td>\n      <td>...</td>\n      <td>1</td>\n      <td>0</td>\n      <td>0</td>\n      <td>0</td>\n      <td>1</td>\n      <td>1</td>\n      <td>1</td>\n      <td>1</td>\n      <td>1</td>\n      <td>28.0</td>\n    </tr>\n    <tr>\n      <th>831</th>\n      <td>Faiyaz Borah</td>\n      <td>0</td>\n      <td>1</td>\n      <td>1</td>\n      <td>1</td>\n      <td>1</td>\n      <td>1</td>\n      <td>0</td>\n      <td>1</td>\n      <td>0</td>\n      <td>...</td>\n      <td>0</td>\n      <td>0</td>\n      <td>1</td>\n      <td>0</td>\n      <td>0</td>\n      <td>1</td>\n      <td>1</td>\n      <td>1</td>\n      <td>1</td>\n      <td>28.0</td>\n    </tr>\n    <tr>\n      <th>838</th>\n      <td>Kaira Sawhney</td>\n      <td>1</td>\n      <td>1</td>\n      <td>1</td>\n      <td>0</td>\n      <td>0</td>\n      <td>0</td>\n      <td>1</td>\n      <td>1</td>\n      <td>0</td>\n      <td>...</td>\n      <td>1</td>\n      <td>0</td>\n      <td>1</td>\n      <td>1</td>\n      <td>1</td>\n      <td>1</td>\n      <td>0</td>\n      <td>1</td>\n      <td>0</td>\n      <td>27.0</td>\n    </tr>\n    <tr>\n      <th>840</th>\n      <td>Vanya Dhillon</td>\n      <td>1</td>\n      <td>0</td>\n      <td>1</td>\n      <td>1</td>\n      <td>1</td>\n      <td>1</td>\n      <td>1</td>\n      <td>1</td>\n      <td>1</td>\n      <td>...</td>\n      <td>0</td>\n      <td>1</td>\n      <td>1</td>\n      <td>1</td>\n      <td>0</td>\n      <td>1</td>\n      <td>1</td>\n      <td>1</td>\n      <td>1</td>\n      <td>31.0</td>\n    </tr>\n  </tbody>\n</table>\n<p>200 rows × 50 columns</p>\n</div>"
     },
     "metadata": {},
     "execution_count": 111
    }
   ],
   "source": [
    "best_perf.head(200)"
   ]
  },
  {
   "cell_type": "code",
   "execution_count": 123,
   "metadata": {},
   "outputs": [],
   "source": [
    "line_data = best_perf.groupby('User_Name')['T1S1Q2']"
   ]
  },
  {
   "cell_type": "code",
   "execution_count": 132,
   "metadata": {},
   "outputs": [
    {
     "output_type": "display_data",
     "data": {
      "application/vnd.plotly.v1+json": {
       "config": {
        "plotlyServerURL": "https://plot.ly"
       },
       "data": [
        {
         "marker": {
          "color": "green"
         },
         "mode": "lines",
         "type": "scatter",
         "x": [
          3,
          8,
          9,
          10,
          16,
          18,
          23,
          28,
          30,
          31,
          38,
          40,
          45,
          48,
          50,
          55,
          61,
          62,
          66,
          73,
          80,
          84,
          88,
          96,
          102,
          104,
          106,
          109,
          113,
          114,
          119,
          121,
          122,
          124,
          127,
          129,
          146,
          148,
          151,
          152,
          158,
          162,
          166,
          167,
          168,
          169,
          170,
          174,
          184,
          189,
          205,
          206,
          207,
          214,
          222,
          224,
          228,
          238,
          239,
          244,
          256,
          265,
          268,
          275,
          276,
          285,
          292,
          299,
          301,
          302,
          303,
          304,
          306,
          312,
          314,
          322,
          325,
          326,
          331,
          334,
          341,
          346,
          348,
          356,
          357,
          359,
          362,
          366,
          377,
          381,
          383,
          385,
          390,
          400,
          421,
          423,
          426,
          428,
          429,
          434,
          435,
          441,
          443,
          444,
          453,
          455,
          464,
          467,
          469,
          477,
          482,
          488,
          501,
          508,
          509,
          510,
          512,
          514,
          516,
          522,
          524,
          529,
          532,
          533,
          537,
          540,
          546,
          550,
          568,
          569,
          571,
          572,
          574,
          577,
          579,
          585,
          596,
          601,
          604,
          607,
          608,
          610,
          619,
          626,
          629,
          633,
          637,
          652,
          653,
          655,
          659,
          670,
          671,
          684,
          686,
          689,
          690,
          694,
          700,
          705,
          708,
          715,
          720,
          721,
          722,
          723,
          724,
          725,
          727,
          734,
          735,
          743,
          745,
          747,
          748,
          750,
          754,
          755,
          756,
          758,
          761,
          763,
          764,
          769,
          772,
          773,
          778,
          792,
          794,
          807,
          813,
          819,
          823,
          824,
          826,
          828,
          830,
          831,
          838,
          840,
          844,
          847,
          848,
          849,
          854,
          861,
          865,
          874,
          879,
          880,
          885,
          899,
          901,
          910,
          912,
          916,
          917,
          918,
          919,
          921,
          923,
          927,
          939,
          940,
          942,
          945,
          960,
          962,
          966,
          968,
          971,
          974,
          981,
          983,
          984,
          994,
          1002,
          1006,
          1013,
          1016,
          1019,
          1021,
          1023,
          1028,
          1029,
          1030,
          1032,
          1038,
          1039,
          1044,
          1055,
          1056,
          1061,
          1065,
          1069,
          1093,
          1094,
          1100,
          1104,
          1116,
          1118,
          1119,
          1124,
          1130,
          1132,
          1135,
          1136,
          1148,
          1155,
          1156,
          1158,
          1162,
          1164,
          1165,
          1167,
          1178,
          1179,
          1181,
          1184,
          1186,
          1187,
          1189,
          1191
         ],
         "y": [
          0,
          1,
          0,
          0,
          0,
          0,
          1,
          0,
          0,
          0,
          1,
          0,
          1,
          1,
          1,
          0,
          1,
          0,
          0,
          1,
          1,
          1,
          0,
          1,
          1,
          1,
          0,
          1,
          1,
          1,
          1,
          1,
          1,
          0,
          0,
          1,
          0,
          0,
          0,
          1,
          1,
          0,
          1,
          1,
          0,
          0,
          0,
          0,
          1,
          0,
          1,
          1,
          0,
          0,
          0,
          1,
          0,
          0,
          0,
          1,
          1,
          0,
          1,
          1,
          0,
          1,
          1,
          0,
          1,
          1,
          0,
          0,
          0,
          1,
          0,
          0,
          1,
          1,
          1,
          1,
          0,
          0,
          0,
          0,
          0,
          1,
          0,
          1,
          0,
          1,
          0,
          0,
          0,
          1,
          0,
          1,
          1,
          0,
          1,
          1,
          0,
          1,
          0,
          1,
          0,
          0,
          1,
          1,
          1,
          1,
          1,
          1,
          1,
          1,
          1,
          1,
          0,
          0,
          0,
          1,
          1,
          0,
          0,
          1,
          1,
          1,
          1,
          1,
          0,
          1,
          0,
          1,
          0,
          1,
          1,
          1,
          1,
          0,
          0,
          1,
          1,
          0,
          1,
          1,
          0,
          0,
          1,
          1,
          0,
          0,
          1,
          1,
          1,
          1,
          1,
          0,
          1,
          1,
          0,
          0,
          0,
          0,
          1,
          0,
          0,
          1,
          1,
          1,
          1,
          0,
          1,
          1,
          0,
          1,
          1,
          1,
          0,
          1,
          1,
          1,
          1,
          0,
          1,
          1,
          1,
          1,
          0,
          0,
          1,
          0,
          0,
          0,
          0,
          1,
          1,
          0,
          0,
          1,
          1,
          0,
          0,
          0,
          1,
          0,
          1,
          0,
          0,
          0,
          1,
          0,
          1,
          0,
          1,
          1,
          0,
          0,
          1,
          0,
          0,
          0,
          1,
          1,
          1,
          1,
          0,
          1,
          1,
          1,
          0,
          1,
          1,
          0,
          0,
          1,
          0,
          1,
          0,
          1,
          1,
          1,
          1,
          1,
          1,
          1,
          1,
          1,
          1,
          1,
          1,
          1,
          1,
          1,
          0,
          1,
          0,
          1,
          1,
          0,
          1,
          0,
          1,
          0,
          1,
          1,
          0,
          1,
          1,
          0,
          1,
          1,
          1,
          0,
          1,
          1,
          1,
          1,
          1,
          0,
          1,
          0,
          0,
          0,
          1
         ]
        }
       ],
       "layout": {
        "height": 480,
        "template": {
         "data": {
          "bar": [
           {
            "error_x": {
             "color": "#2a3f5f"
            },
            "error_y": {
             "color": "#2a3f5f"
            },
            "marker": {
             "line": {
              "color": "#E5ECF6",
              "width": 0.5
             }
            },
            "type": "bar"
           }
          ],
          "barpolar": [
           {
            "marker": {
             "line": {
              "color": "#E5ECF6",
              "width": 0.5
             }
            },
            "type": "barpolar"
           }
          ],
          "carpet": [
           {
            "aaxis": {
             "endlinecolor": "#2a3f5f",
             "gridcolor": "white",
             "linecolor": "white",
             "minorgridcolor": "white",
             "startlinecolor": "#2a3f5f"
            },
            "baxis": {
             "endlinecolor": "#2a3f5f",
             "gridcolor": "white",
             "linecolor": "white",
             "minorgridcolor": "white",
             "startlinecolor": "#2a3f5f"
            },
            "type": "carpet"
           }
          ],
          "choropleth": [
           {
            "colorbar": {
             "outlinewidth": 0,
             "ticks": ""
            },
            "type": "choropleth"
           }
          ],
          "contour": [
           {
            "colorbar": {
             "outlinewidth": 0,
             "ticks": ""
            },
            "colorscale": [
             [
              0,
              "#0d0887"
             ],
             [
              0.1111111111111111,
              "#46039f"
             ],
             [
              0.2222222222222222,
              "#7201a8"
             ],
             [
              0.3333333333333333,
              "#9c179e"
             ],
             [
              0.4444444444444444,
              "#bd3786"
             ],
             [
              0.5555555555555556,
              "#d8576b"
             ],
             [
              0.6666666666666666,
              "#ed7953"
             ],
             [
              0.7777777777777778,
              "#fb9f3a"
             ],
             [
              0.8888888888888888,
              "#fdca26"
             ],
             [
              1,
              "#f0f921"
             ]
            ],
            "type": "contour"
           }
          ],
          "contourcarpet": [
           {
            "colorbar": {
             "outlinewidth": 0,
             "ticks": ""
            },
            "type": "contourcarpet"
           }
          ],
          "heatmap": [
           {
            "colorbar": {
             "outlinewidth": 0,
             "ticks": ""
            },
            "colorscale": [
             [
              0,
              "#0d0887"
             ],
             [
              0.1111111111111111,
              "#46039f"
             ],
             [
              0.2222222222222222,
              "#7201a8"
             ],
             [
              0.3333333333333333,
              "#9c179e"
             ],
             [
              0.4444444444444444,
              "#bd3786"
             ],
             [
              0.5555555555555556,
              "#d8576b"
             ],
             [
              0.6666666666666666,
              "#ed7953"
             ],
             [
              0.7777777777777778,
              "#fb9f3a"
             ],
             [
              0.8888888888888888,
              "#fdca26"
             ],
             [
              1,
              "#f0f921"
             ]
            ],
            "type": "heatmap"
           }
          ],
          "heatmapgl": [
           {
            "colorbar": {
             "outlinewidth": 0,
             "ticks": ""
            },
            "colorscale": [
             [
              0,
              "#0d0887"
             ],
             [
              0.1111111111111111,
              "#46039f"
             ],
             [
              0.2222222222222222,
              "#7201a8"
             ],
             [
              0.3333333333333333,
              "#9c179e"
             ],
             [
              0.4444444444444444,
              "#bd3786"
             ],
             [
              0.5555555555555556,
              "#d8576b"
             ],
             [
              0.6666666666666666,
              "#ed7953"
             ],
             [
              0.7777777777777778,
              "#fb9f3a"
             ],
             [
              0.8888888888888888,
              "#fdca26"
             ],
             [
              1,
              "#f0f921"
             ]
            ],
            "type": "heatmapgl"
           }
          ],
          "histogram": [
           {
            "marker": {
             "colorbar": {
              "outlinewidth": 0,
              "ticks": ""
             }
            },
            "type": "histogram"
           }
          ],
          "histogram2d": [
           {
            "colorbar": {
             "outlinewidth": 0,
             "ticks": ""
            },
            "colorscale": [
             [
              0,
              "#0d0887"
             ],
             [
              0.1111111111111111,
              "#46039f"
             ],
             [
              0.2222222222222222,
              "#7201a8"
             ],
             [
              0.3333333333333333,
              "#9c179e"
             ],
             [
              0.4444444444444444,
              "#bd3786"
             ],
             [
              0.5555555555555556,
              "#d8576b"
             ],
             [
              0.6666666666666666,
              "#ed7953"
             ],
             [
              0.7777777777777778,
              "#fb9f3a"
             ],
             [
              0.8888888888888888,
              "#fdca26"
             ],
             [
              1,
              "#f0f921"
             ]
            ],
            "type": "histogram2d"
           }
          ],
          "histogram2dcontour": [
           {
            "colorbar": {
             "outlinewidth": 0,
             "ticks": ""
            },
            "colorscale": [
             [
              0,
              "#0d0887"
             ],
             [
              0.1111111111111111,
              "#46039f"
             ],
             [
              0.2222222222222222,
              "#7201a8"
             ],
             [
              0.3333333333333333,
              "#9c179e"
             ],
             [
              0.4444444444444444,
              "#bd3786"
             ],
             [
              0.5555555555555556,
              "#d8576b"
             ],
             [
              0.6666666666666666,
              "#ed7953"
             ],
             [
              0.7777777777777778,
              "#fb9f3a"
             ],
             [
              0.8888888888888888,
              "#fdca26"
             ],
             [
              1,
              "#f0f921"
             ]
            ],
            "type": "histogram2dcontour"
           }
          ],
          "mesh3d": [
           {
            "colorbar": {
             "outlinewidth": 0,
             "ticks": ""
            },
            "type": "mesh3d"
           }
          ],
          "parcoords": [
           {
            "line": {
             "colorbar": {
              "outlinewidth": 0,
              "ticks": ""
             }
            },
            "type": "parcoords"
           }
          ],
          "pie": [
           {
            "automargin": true,
            "type": "pie"
           }
          ],
          "scatter": [
           {
            "marker": {
             "colorbar": {
              "outlinewidth": 0,
              "ticks": ""
             }
            },
            "type": "scatter"
           }
          ],
          "scatter3d": [
           {
            "line": {
             "colorbar": {
              "outlinewidth": 0,
              "ticks": ""
             }
            },
            "marker": {
             "colorbar": {
              "outlinewidth": 0,
              "ticks": ""
             }
            },
            "type": "scatter3d"
           }
          ],
          "scattercarpet": [
           {
            "marker": {
             "colorbar": {
              "outlinewidth": 0,
              "ticks": ""
             }
            },
            "type": "scattercarpet"
           }
          ],
          "scattergeo": [
           {
            "marker": {
             "colorbar": {
              "outlinewidth": 0,
              "ticks": ""
             }
            },
            "type": "scattergeo"
           }
          ],
          "scattergl": [
           {
            "marker": {
             "colorbar": {
              "outlinewidth": 0,
              "ticks": ""
             }
            },
            "type": "scattergl"
           }
          ],
          "scattermapbox": [
           {
            "marker": {
             "colorbar": {
              "outlinewidth": 0,
              "ticks": ""
             }
            },
            "type": "scattermapbox"
           }
          ],
          "scatterpolar": [
           {
            "marker": {
             "colorbar": {
              "outlinewidth": 0,
              "ticks": ""
             }
            },
            "type": "scatterpolar"
           }
          ],
          "scatterpolargl": [
           {
            "marker": {
             "colorbar": {
              "outlinewidth": 0,
              "ticks": ""
             }
            },
            "type": "scatterpolargl"
           }
          ],
          "scatterternary": [
           {
            "marker": {
             "colorbar": {
              "outlinewidth": 0,
              "ticks": ""
             }
            },
            "type": "scatterternary"
           }
          ],
          "surface": [
           {
            "colorbar": {
             "outlinewidth": 0,
             "ticks": ""
            },
            "colorscale": [
             [
              0,
              "#0d0887"
             ],
             [
              0.1111111111111111,
              "#46039f"
             ],
             [
              0.2222222222222222,
              "#7201a8"
             ],
             [
              0.3333333333333333,
              "#9c179e"
             ],
             [
              0.4444444444444444,
              "#bd3786"
             ],
             [
              0.5555555555555556,
              "#d8576b"
             ],
             [
              0.6666666666666666,
              "#ed7953"
             ],
             [
              0.7777777777777778,
              "#fb9f3a"
             ],
             [
              0.8888888888888888,
              "#fdca26"
             ],
             [
              1,
              "#f0f921"
             ]
            ],
            "type": "surface"
           }
          ],
          "table": [
           {
            "cells": {
             "fill": {
              "color": "#EBF0F8"
             },
             "line": {
              "color": "white"
             }
            },
            "header": {
             "fill": {
              "color": "#C8D4E3"
             },
             "line": {
              "color": "white"
             }
            },
            "type": "table"
           }
          ]
         },
         "layout": {
          "annotationdefaults": {
           "arrowcolor": "#2a3f5f",
           "arrowhead": 0,
           "arrowwidth": 1
          },
          "autotypenumbers": "strict",
          "coloraxis": {
           "colorbar": {
            "outlinewidth": 0,
            "ticks": ""
           }
          },
          "colorscale": {
           "diverging": [
            [
             0,
             "#8e0152"
            ],
            [
             0.1,
             "#c51b7d"
            ],
            [
             0.2,
             "#de77ae"
            ],
            [
             0.3,
             "#f1b6da"
            ],
            [
             0.4,
             "#fde0ef"
            ],
            [
             0.5,
             "#f7f7f7"
            ],
            [
             0.6,
             "#e6f5d0"
            ],
            [
             0.7,
             "#b8e186"
            ],
            [
             0.8,
             "#7fbc41"
            ],
            [
             0.9,
             "#4d9221"
            ],
            [
             1,
             "#276419"
            ]
           ],
           "sequential": [
            [
             0,
             "#0d0887"
            ],
            [
             0.1111111111111111,
             "#46039f"
            ],
            [
             0.2222222222222222,
             "#7201a8"
            ],
            [
             0.3333333333333333,
             "#9c179e"
            ],
            [
             0.4444444444444444,
             "#bd3786"
            ],
            [
             0.5555555555555556,
             "#d8576b"
            ],
            [
             0.6666666666666666,
             "#ed7953"
            ],
            [
             0.7777777777777778,
             "#fb9f3a"
            ],
            [
             0.8888888888888888,
             "#fdca26"
            ],
            [
             1,
             "#f0f921"
            ]
           ],
           "sequentialminus": [
            [
             0,
             "#0d0887"
            ],
            [
             0.1111111111111111,
             "#46039f"
            ],
            [
             0.2222222222222222,
             "#7201a8"
            ],
            [
             0.3333333333333333,
             "#9c179e"
            ],
            [
             0.4444444444444444,
             "#bd3786"
            ],
            [
             0.5555555555555556,
             "#d8576b"
            ],
            [
             0.6666666666666666,
             "#ed7953"
            ],
            [
             0.7777777777777778,
             "#fb9f3a"
            ],
            [
             0.8888888888888888,
             "#fdca26"
            ],
            [
             1,
             "#f0f921"
            ]
           ]
          },
          "colorway": [
           "#636efa",
           "#EF553B",
           "#00cc96",
           "#ab63fa",
           "#FFA15A",
           "#19d3f3",
           "#FF6692",
           "#B6E880",
           "#FF97FF",
           "#FECB52"
          ],
          "font": {
           "color": "#2a3f5f"
          },
          "geo": {
           "bgcolor": "white",
           "lakecolor": "white",
           "landcolor": "#E5ECF6",
           "showlakes": true,
           "showland": true,
           "subunitcolor": "white"
          },
          "hoverlabel": {
           "align": "left"
          },
          "hovermode": "closest",
          "mapbox": {
           "style": "light"
          },
          "paper_bgcolor": "white",
          "plot_bgcolor": "#E5ECF6",
          "polar": {
           "angularaxis": {
            "gridcolor": "white",
            "linecolor": "white",
            "ticks": ""
           },
           "bgcolor": "#E5ECF6",
           "radialaxis": {
            "gridcolor": "white",
            "linecolor": "white",
            "ticks": ""
           }
          },
          "scene": {
           "xaxis": {
            "backgroundcolor": "#E5ECF6",
            "gridcolor": "white",
            "gridwidth": 2,
            "linecolor": "white",
            "showbackground": true,
            "ticks": "",
            "zerolinecolor": "white"
           },
           "yaxis": {
            "backgroundcolor": "#E5ECF6",
            "gridcolor": "white",
            "gridwidth": 2,
            "linecolor": "white",
            "showbackground": true,
            "ticks": "",
            "zerolinecolor": "white"
           },
           "zaxis": {
            "backgroundcolor": "#E5ECF6",
            "gridcolor": "white",
            "gridwidth": 2,
            "linecolor": "white",
            "showbackground": true,
            "ticks": "",
            "zerolinecolor": "white"
           }
          },
          "shapedefaults": {
           "line": {
            "color": "#2a3f5f"
           }
          },
          "ternary": {
           "aaxis": {
            "gridcolor": "white",
            "linecolor": "white",
            "ticks": ""
           },
           "baxis": {
            "gridcolor": "white",
            "linecolor": "white",
            "ticks": ""
           },
           "bgcolor": "#E5ECF6",
           "caxis": {
            "gridcolor": "white",
            "linecolor": "white",
            "ticks": ""
           }
          },
          "title": {
           "x": 0.05
          },
          "xaxis": {
           "automargin": true,
           "gridcolor": "white",
           "linecolor": "white",
           "ticks": "",
           "title": {
            "standoff": 15
           },
           "zerolinecolor": "white",
           "zerolinewidth": 2
          },
          "yaxis": {
           "automargin": true,
           "gridcolor": "white",
           "linecolor": "white",
           "ticks": "",
           "title": {
            "standoff": 15
           },
           "zerolinecolor": "white",
           "zerolinewidth": 2
          }
         }
        },
        "title": {
         "text": "T1S1Q1 STATUS"
        },
        "width": 1080,
        "xaxis": {
         "title": {
          "text": "Users"
         }
        },
        "yaxis": {
         "title": {
          "text": "Solved/Not Solved"
         }
        }
       }
      }
     },
     "metadata": {}
    }
   ],
   "source": [
    "fig = go.Figure(data=go.Scatter(x=best_perf['index'], y=best_perf['T1S1Q2'], mode='lines', marker=dict(color='green')))\n",
    "fig.update_layout(title='T1S1Q1 STATUS', xaxis_title='Users', yaxis_title='Solved/Not Solved',height=480,width =1080)\n",
    "fig.show()"
   ]
  },
  {
   "cell_type": "code",
   "execution_count": 130,
   "metadata": {},
   "outputs": [
    {
     "output_type": "stream",
     "name": "stderr",
     "text": [
      "<ipython-input-130-56721e148f40>:1: SettingWithCopyWarning:\n\n\nA value is trying to be set on a copy of a slice from a DataFrame.\nTry using .loc[row_indexer,col_indexer] = value instead\n\nSee the caveats in the documentation: https://pandas.pydata.org/pandas-docs/stable/user_guide/indexing.html#returning-a-view-versus-a-copy\n\n"
     ]
    }
   ],
   "source": [
    "best_perf['index'] = best_perf.index"
   ]
  },
  {
   "cell_type": "code",
   "execution_count": 131,
   "metadata": {},
   "outputs": [
    {
     "output_type": "execute_result",
     "data": {
      "text/plain": [
       "            User_Name T1S1Q1 T1S1Q2 T1S1Q3 T1S1Q4 T1S1Q5 T1S1Q6 T1S2Q1 T1S2Q2  \\\n",
       "3   Reyansh Rajagopal      1      0      0      0      1      0      0      0   \n",
       "8          Rasha Rana      1      1      1      0      0      1      1      0   \n",
       "9        Vivaan Koshy      1      0      1      1      0      0      0      1   \n",
       "10      Aniruddh Bora      1      0      1      1      0      0      0      0   \n",
       "16    Jayesh Zacharia      0      0      1      0      0      0      1      1   \n",
       "\n",
       "   T1S2Q3  ... T2S3Q5 T2S3Q6 T2S4Q1 T2S4Q2 T2S4Q3 T2S4Q4 T2S4Q5 T2S4Q6  \\\n",
       "3       0  ...      1      1      0      0      1      0      1      0   \n",
       "8       1  ...      0      0      1      1      0      1      1      1   \n",
       "9       0  ...      1      0      0      1      1      1      0      1   \n",
       "10      1  ...      1      0      0      0      1      1      0      1   \n",
       "16      1  ...      1      1      1      1      0      1      0      0   \n",
       "\n",
       "   sum_solved index  \n",
       "3        27.0     3  \n",
       "8        30.0     8  \n",
       "9        29.0     9  \n",
       "10       29.0    10  \n",
       "16       27.0    16  \n",
       "\n",
       "[5 rows x 51 columns]"
      ],
      "text/html": "<div>\n<style scoped>\n    .dataframe tbody tr th:only-of-type {\n        vertical-align: middle;\n    }\n\n    .dataframe tbody tr th {\n        vertical-align: top;\n    }\n\n    .dataframe thead th {\n        text-align: right;\n    }\n</style>\n<table border=\"1\" class=\"dataframe\">\n  <thead>\n    <tr style=\"text-align: right;\">\n      <th></th>\n      <th>User_Name</th>\n      <th>T1S1Q1</th>\n      <th>T1S1Q2</th>\n      <th>T1S1Q3</th>\n      <th>T1S1Q4</th>\n      <th>T1S1Q5</th>\n      <th>T1S1Q6</th>\n      <th>T1S2Q1</th>\n      <th>T1S2Q2</th>\n      <th>T1S2Q3</th>\n      <th>...</th>\n      <th>T2S3Q5</th>\n      <th>T2S3Q6</th>\n      <th>T2S4Q1</th>\n      <th>T2S4Q2</th>\n      <th>T2S4Q3</th>\n      <th>T2S4Q4</th>\n      <th>T2S4Q5</th>\n      <th>T2S4Q6</th>\n      <th>sum_solved</th>\n      <th>index</th>\n    </tr>\n  </thead>\n  <tbody>\n    <tr>\n      <th>3</th>\n      <td>Reyansh Rajagopal</td>\n      <td>1</td>\n      <td>0</td>\n      <td>0</td>\n      <td>0</td>\n      <td>1</td>\n      <td>0</td>\n      <td>0</td>\n      <td>0</td>\n      <td>0</td>\n      <td>...</td>\n      <td>1</td>\n      <td>1</td>\n      <td>0</td>\n      <td>0</td>\n      <td>1</td>\n      <td>0</td>\n      <td>1</td>\n      <td>0</td>\n      <td>27.0</td>\n      <td>3</td>\n    </tr>\n    <tr>\n      <th>8</th>\n      <td>Rasha Rana</td>\n      <td>1</td>\n      <td>1</td>\n      <td>1</td>\n      <td>0</td>\n      <td>0</td>\n      <td>1</td>\n      <td>1</td>\n      <td>0</td>\n      <td>1</td>\n      <td>...</td>\n      <td>0</td>\n      <td>0</td>\n      <td>1</td>\n      <td>1</td>\n      <td>0</td>\n      <td>1</td>\n      <td>1</td>\n      <td>1</td>\n      <td>30.0</td>\n      <td>8</td>\n    </tr>\n    <tr>\n      <th>9</th>\n      <td>Vivaan Koshy</td>\n      <td>1</td>\n      <td>0</td>\n      <td>1</td>\n      <td>1</td>\n      <td>0</td>\n      <td>0</td>\n      <td>0</td>\n      <td>1</td>\n      <td>0</td>\n      <td>...</td>\n      <td>1</td>\n      <td>0</td>\n      <td>0</td>\n      <td>1</td>\n      <td>1</td>\n      <td>1</td>\n      <td>0</td>\n      <td>1</td>\n      <td>29.0</td>\n      <td>9</td>\n    </tr>\n    <tr>\n      <th>10</th>\n      <td>Aniruddh Bora</td>\n      <td>1</td>\n      <td>0</td>\n      <td>1</td>\n      <td>1</td>\n      <td>0</td>\n      <td>0</td>\n      <td>0</td>\n      <td>0</td>\n      <td>1</td>\n      <td>...</td>\n      <td>1</td>\n      <td>0</td>\n      <td>0</td>\n      <td>0</td>\n      <td>1</td>\n      <td>1</td>\n      <td>0</td>\n      <td>1</td>\n      <td>29.0</td>\n      <td>10</td>\n    </tr>\n    <tr>\n      <th>16</th>\n      <td>Jayesh Zacharia</td>\n      <td>0</td>\n      <td>0</td>\n      <td>1</td>\n      <td>0</td>\n      <td>0</td>\n      <td>0</td>\n      <td>1</td>\n      <td>1</td>\n      <td>1</td>\n      <td>...</td>\n      <td>1</td>\n      <td>1</td>\n      <td>1</td>\n      <td>1</td>\n      <td>0</td>\n      <td>1</td>\n      <td>0</td>\n      <td>0</td>\n      <td>27.0</td>\n      <td>16</td>\n    </tr>\n  </tbody>\n</table>\n<p>5 rows × 51 columns</p>\n</div>"
     },
     "metadata": {},
     "execution_count": 131
    }
   ],
   "source": [
    "best_perf.head()"
   ]
  },
  {
   "cell_type": "code",
   "execution_count": null,
   "metadata": {},
   "outputs": [],
   "source": [
    "df.groupby"
   ]
  }
 ]
}