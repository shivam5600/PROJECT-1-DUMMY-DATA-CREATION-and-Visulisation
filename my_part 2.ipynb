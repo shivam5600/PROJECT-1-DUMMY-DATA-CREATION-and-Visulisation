{
 "cells": [
  {
   "cell_type": "code",
   "execution_count": 2,
   "metadata": {},
   "outputs": [],
   "source": [
    "from faker import Faker\n",
    "import pandas as pd\n",
    "import numpy as np\n",
    "import plotly.express as px\n",
    "import plotly.graph_objects as go\n",
    "import seaborn as sns\n",
    "import matplotlib.pyplot as plt"
   ]
  },
  {
   "cell_type": "code",
   "execution_count": 3,
   "metadata": {},
   "outputs": [],
   "source": [
    "%matplotlib inline"
   ]
  },
  {
   "cell_type": "markdown",
   "metadata": {},
   "source": [
    "# Here i am making the all 3 attempts matrix"
   ]
  },
  {
   "cell_type": "code",
   "execution_count": 4,
   "metadata": {},
   "outputs": [],
   "source": [
    "sets_questions = []\n",
    "for t in [1,2]:\n",
    "    for s in [1,2,3,4]:\n",
    "        for q in [1,2,3,4,5,6]:\n",
    "            sets_questions.append(\"TA{}SA{}QA{}\".format(t,s,q)) \n",
    "sets_questions.insert(0,\"User_Name\")"
   ]
  },
  {
   "cell_type": "code",
   "execution_count": 5,
   "metadata": {},
   "outputs": [],
   "source": [
    "sets_question = []\n",
    "for t in [1,2]:\n",
    "    for s in [1,2,3,4]:\n",
    "        for q in [1,2,3,4,5,6]:\n",
    "            sets_question.append(\"TB{}SB{}QB{}\".format(t,s,q)) \n",
    "sets_question.insert(0,\"User_Name\")"
   ]
  },
  {
   "cell_type": "code",
   "execution_count": 6,
   "metadata": {},
   "outputs": [],
   "source": [
    "sets_question_ = []\n",
    "for t in [1,2]:\n",
    "    for s in [1,2,3,4]:\n",
    "        for q in [1,2,3,4,5,6]:\n",
    "            sets_question_.append(\"TC{}SC{}QC{}\".format(t,s,q)) \n",
    "sets_question_.insert(0,\"User_Name\")"
   ]
  },
  {
   "cell_type": "markdown",
   "metadata": {},
   "source": [
    "## Defing the datafames for each attempt"
   ]
  },
  {
   "cell_type": "code",
   "execution_count": 7,
   "metadata": {},
   "outputs": [],
   "source": [
    "first_attempt_df = pd.DataFrame(columns=sets_questions)\n",
    "second_attempt_df = pd.DataFrame(columns=sets_question)\n",
    "third_attempt_df = pd.DataFrame(columns=sets_question_)"
   ]
  },
  {
   "cell_type": "markdown",
   "metadata": {},
   "source": [
    "## Creating fake Users and adding them to the 3 attempts matrix"
   ]
  },
  {
   "cell_type": "code",
   "execution_count": 8,
   "metadata": {},
   "outputs": [],
   "source": [
    "fake_names = Faker('en_IN')\n",
    "Faker.seed(4321)"
   ]
  },
  {
   "cell_type": "code",
   "execution_count": 9,
   "metadata": {},
   "outputs": [],
   "source": [
    "names = []\n",
    "for _ in range(1200):\n",
    "    names.append(fake_names.name())\n",
    "\n",
    "names = list(set(names))"
   ]
  },
  {
   "cell_type": "code",
   "execution_count": 10,
   "metadata": {},
   "outputs": [],
   "source": [
    "first_attempt_ans= np.random.randint(low=0, high=2, size=(len(names), (len(sets_questions)-1)))"
   ]
  },
  {
   "cell_type": "code",
   "execution_count": 11,
   "metadata": {},
   "outputs": [],
   "source": [
    "second_attempt_ans= np.random.randint(low=0, high=2, size=(len(names), (len(sets_question)-1)))"
   ]
  },
  {
   "cell_type": "code",
   "execution_count": 12,
   "metadata": {},
   "outputs": [],
   "source": [
    "third_attempt_ans= np.random.randint(low=0, high=2, size=(len(names), (len(sets_question_)-1)))"
   ]
  },
  {
   "cell_type": "code",
   "execution_count": 13,
   "metadata": {},
   "outputs": [],
   "source": [
    "first_attempt_df['User_Name']=names \n",
    "second_attempt_df['User_Name']=names\n",
    "third_attempt_df['User_Name']=names "
   ]
  },
  {
   "cell_type": "code",
   "execution_count": 14,
   "metadata": {},
   "outputs": [],
   "source": [
    "first_attempt_df.iloc[:,1:] = first_attempt_ans "
   ]
  },
  {
   "cell_type": "code",
   "execution_count": 15,
   "metadata": {},
   "outputs": [],
   "source": [
    "second_attempt_df.iloc[:,1:] = second_attempt_ans "
   ]
  },
  {
   "cell_type": "code",
   "execution_count": 16,
   "metadata": {},
   "outputs": [],
   "source": [
    "third_attempt_df.iloc[:,1:] = third_attempt_ans "
   ]
  },
  {
   "cell_type": "markdown",
   "metadata": {},
   "source": [
    "# All three attempts dataframe is ready"
   ]
  },
  {
   "cell_type": "code",
   "execution_count": 17,
   "metadata": {},
   "outputs": [
    {
     "output_type": "execute_result",
     "data": {
      "text/plain": [
       "      User_Name TA1SA1QA1 TA1SA1QA2 TA1SA1QA3 TA1SA1QA4 TA1SA1QA5 TA1SA1QA6  \\\n",
       "0    Rohan Garg         0         1         1         0         0         0   \n",
       "1   Taran Issac         1         0         1         0         0         0   \n",
       "2  Jayant Sarma         1         0         1         0         1         0   \n",
       "3  Krish Khalsa         0         0         0         0         1         0   \n",
       "4    Veer Swamy         0         0         0         0         0         0   \n",
       "\n",
       "  TA1SA2QA1 TA1SA2QA2 TA1SA2QA3  ... TA2SA3QA3 TA2SA3QA4 TA2SA3QA5 TA2SA3QA6  \\\n",
       "0         1         1         1  ...         0         1         0         0   \n",
       "1         0         1         1  ...         0         0         1         1   \n",
       "2         0         1         1  ...         0         1         1         0   \n",
       "3         1         1         0  ...         1         1         1         0   \n",
       "4         0         1         0  ...         0         1         1         0   \n",
       "\n",
       "  TA2SA4QA1 TA2SA4QA2 TA2SA4QA3 TA2SA4QA4 TA2SA4QA5 TA2SA4QA6  \n",
       "0         0         1         1         1         0         0  \n",
       "1         0         1         1         0         1         1  \n",
       "2         0         1         0         0         1         0  \n",
       "3         1         0         0         0         0         1  \n",
       "4         0         0         0         0         0         1  \n",
       "\n",
       "[5 rows x 49 columns]"
      ],
      "text/html": "<div>\n<style scoped>\n    .dataframe tbody tr th:only-of-type {\n        vertical-align: middle;\n    }\n\n    .dataframe tbody tr th {\n        vertical-align: top;\n    }\n\n    .dataframe thead th {\n        text-align: right;\n    }\n</style>\n<table border=\"1\" class=\"dataframe\">\n  <thead>\n    <tr style=\"text-align: right;\">\n      <th></th>\n      <th>User_Name</th>\n      <th>TA1SA1QA1</th>\n      <th>TA1SA1QA2</th>\n      <th>TA1SA1QA3</th>\n      <th>TA1SA1QA4</th>\n      <th>TA1SA1QA5</th>\n      <th>TA1SA1QA6</th>\n      <th>TA1SA2QA1</th>\n      <th>TA1SA2QA2</th>\n      <th>TA1SA2QA3</th>\n      <th>...</th>\n      <th>TA2SA3QA3</th>\n      <th>TA2SA3QA4</th>\n      <th>TA2SA3QA5</th>\n      <th>TA2SA3QA6</th>\n      <th>TA2SA4QA1</th>\n      <th>TA2SA4QA2</th>\n      <th>TA2SA4QA3</th>\n      <th>TA2SA4QA4</th>\n      <th>TA2SA4QA5</th>\n      <th>TA2SA4QA6</th>\n    </tr>\n  </thead>\n  <tbody>\n    <tr>\n      <th>0</th>\n      <td>Rohan Garg</td>\n      <td>0</td>\n      <td>1</td>\n      <td>1</td>\n      <td>0</td>\n      <td>0</td>\n      <td>0</td>\n      <td>1</td>\n      <td>1</td>\n      <td>1</td>\n      <td>...</td>\n      <td>0</td>\n      <td>1</td>\n      <td>0</td>\n      <td>0</td>\n      <td>0</td>\n      <td>1</td>\n      <td>1</td>\n      <td>1</td>\n      <td>0</td>\n      <td>0</td>\n    </tr>\n    <tr>\n      <th>1</th>\n      <td>Taran Issac</td>\n      <td>1</td>\n      <td>0</td>\n      <td>1</td>\n      <td>0</td>\n      <td>0</td>\n      <td>0</td>\n      <td>0</td>\n      <td>1</td>\n      <td>1</td>\n      <td>...</td>\n      <td>0</td>\n      <td>0</td>\n      <td>1</td>\n      <td>1</td>\n      <td>0</td>\n      <td>1</td>\n      <td>1</td>\n      <td>0</td>\n      <td>1</td>\n      <td>1</td>\n    </tr>\n    <tr>\n      <th>2</th>\n      <td>Jayant Sarma</td>\n      <td>1</td>\n      <td>0</td>\n      <td>1</td>\n      <td>0</td>\n      <td>1</td>\n      <td>0</td>\n      <td>0</td>\n      <td>1</td>\n      <td>1</td>\n      <td>...</td>\n      <td>0</td>\n      <td>1</td>\n      <td>1</td>\n      <td>0</td>\n      <td>0</td>\n      <td>1</td>\n      <td>0</td>\n      <td>0</td>\n      <td>1</td>\n      <td>0</td>\n    </tr>\n    <tr>\n      <th>3</th>\n      <td>Krish Khalsa</td>\n      <td>0</td>\n      <td>0</td>\n      <td>0</td>\n      <td>0</td>\n      <td>1</td>\n      <td>0</td>\n      <td>1</td>\n      <td>1</td>\n      <td>0</td>\n      <td>...</td>\n      <td>1</td>\n      <td>1</td>\n      <td>1</td>\n      <td>0</td>\n      <td>1</td>\n      <td>0</td>\n      <td>0</td>\n      <td>0</td>\n      <td>0</td>\n      <td>1</td>\n    </tr>\n    <tr>\n      <th>4</th>\n      <td>Veer Swamy</td>\n      <td>0</td>\n      <td>0</td>\n      <td>0</td>\n      <td>0</td>\n      <td>0</td>\n      <td>0</td>\n      <td>0</td>\n      <td>1</td>\n      <td>0</td>\n      <td>...</td>\n      <td>0</td>\n      <td>1</td>\n      <td>1</td>\n      <td>0</td>\n      <td>0</td>\n      <td>0</td>\n      <td>0</td>\n      <td>0</td>\n      <td>0</td>\n      <td>1</td>\n    </tr>\n  </tbody>\n</table>\n<p>5 rows × 49 columns</p>\n</div>"
     },
     "metadata": {},
     "execution_count": 17
    }
   ],
   "source": [
    "first_attempt_df.head()"
   ]
  },
  {
   "cell_type": "code",
   "execution_count": 18,
   "metadata": {},
   "outputs": [
    {
     "output_type": "execute_result",
     "data": {
      "text/plain": [
       "      User_Name TB1SB1QB1 TB1SB1QB2 TB1SB1QB3 TB1SB1QB4 TB1SB1QB5 TB1SB1QB6  \\\n",
       "0    Rohan Garg         0         0         0         0         0         1   \n",
       "1   Taran Issac         1         0         1         0         0         0   \n",
       "2  Jayant Sarma         1         0         1         0         1         0   \n",
       "3  Krish Khalsa         1         1         0         0         0         0   \n",
       "4    Veer Swamy         0         1         1         1         0         0   \n",
       "\n",
       "  TB1SB2QB1 TB1SB2QB2 TB1SB2QB3  ... TB2SB3QB3 TB2SB3QB4 TB2SB3QB5 TB2SB3QB6  \\\n",
       "0         0         1         1  ...         1         1         1         0   \n",
       "1         0         0         1  ...         0         0         1         1   \n",
       "2         1         1         1  ...         0         1         0         0   \n",
       "3         1         0         0  ...         0         0         1         1   \n",
       "4         1         0         1  ...         0         0         0         1   \n",
       "\n",
       "  TB2SB4QB1 TB2SB4QB2 TB2SB4QB3 TB2SB4QB4 TB2SB4QB5 TB2SB4QB6  \n",
       "0         1         0         0         1         1         1  \n",
       "1         0         1         1         1         0         0  \n",
       "2         1         0         0         0         0         0  \n",
       "3         0         1         0         1         0         0  \n",
       "4         0         1         1         0         1         0  \n",
       "\n",
       "[5 rows x 49 columns]"
      ],
      "text/html": "<div>\n<style scoped>\n    .dataframe tbody tr th:only-of-type {\n        vertical-align: middle;\n    }\n\n    .dataframe tbody tr th {\n        vertical-align: top;\n    }\n\n    .dataframe thead th {\n        text-align: right;\n    }\n</style>\n<table border=\"1\" class=\"dataframe\">\n  <thead>\n    <tr style=\"text-align: right;\">\n      <th></th>\n      <th>User_Name</th>\n      <th>TB1SB1QB1</th>\n      <th>TB1SB1QB2</th>\n      <th>TB1SB1QB3</th>\n      <th>TB1SB1QB4</th>\n      <th>TB1SB1QB5</th>\n      <th>TB1SB1QB6</th>\n      <th>TB1SB2QB1</th>\n      <th>TB1SB2QB2</th>\n      <th>TB1SB2QB3</th>\n      <th>...</th>\n      <th>TB2SB3QB3</th>\n      <th>TB2SB3QB4</th>\n      <th>TB2SB3QB5</th>\n      <th>TB2SB3QB6</th>\n      <th>TB2SB4QB1</th>\n      <th>TB2SB4QB2</th>\n      <th>TB2SB4QB3</th>\n      <th>TB2SB4QB4</th>\n      <th>TB2SB4QB5</th>\n      <th>TB2SB4QB6</th>\n    </tr>\n  </thead>\n  <tbody>\n    <tr>\n      <th>0</th>\n      <td>Rohan Garg</td>\n      <td>0</td>\n      <td>0</td>\n      <td>0</td>\n      <td>0</td>\n      <td>0</td>\n      <td>1</td>\n      <td>0</td>\n      <td>1</td>\n      <td>1</td>\n      <td>...</td>\n      <td>1</td>\n      <td>1</td>\n      <td>1</td>\n      <td>0</td>\n      <td>1</td>\n      <td>0</td>\n      <td>0</td>\n      <td>1</td>\n      <td>1</td>\n      <td>1</td>\n    </tr>\n    <tr>\n      <th>1</th>\n      <td>Taran Issac</td>\n      <td>1</td>\n      <td>0</td>\n      <td>1</td>\n      <td>0</td>\n      <td>0</td>\n      <td>0</td>\n      <td>0</td>\n      <td>0</td>\n      <td>1</td>\n      <td>...</td>\n      <td>0</td>\n      <td>0</td>\n      <td>1</td>\n      <td>1</td>\n      <td>0</td>\n      <td>1</td>\n      <td>1</td>\n      <td>1</td>\n      <td>0</td>\n      <td>0</td>\n    </tr>\n    <tr>\n      <th>2</th>\n      <td>Jayant Sarma</td>\n      <td>1</td>\n      <td>0</td>\n      <td>1</td>\n      <td>0</td>\n      <td>1</td>\n      <td>0</td>\n      <td>1</td>\n      <td>1</td>\n      <td>1</td>\n      <td>...</td>\n      <td>0</td>\n      <td>1</td>\n      <td>0</td>\n      <td>0</td>\n      <td>1</td>\n      <td>0</td>\n      <td>0</td>\n      <td>0</td>\n      <td>0</td>\n      <td>0</td>\n    </tr>\n    <tr>\n      <th>3</th>\n      <td>Krish Khalsa</td>\n      <td>1</td>\n      <td>1</td>\n      <td>0</td>\n      <td>0</td>\n      <td>0</td>\n      <td>0</td>\n      <td>1</td>\n      <td>0</td>\n      <td>0</td>\n      <td>...</td>\n      <td>0</td>\n      <td>0</td>\n      <td>1</td>\n      <td>1</td>\n      <td>0</td>\n      <td>1</td>\n      <td>0</td>\n      <td>1</td>\n      <td>0</td>\n      <td>0</td>\n    </tr>\n    <tr>\n      <th>4</th>\n      <td>Veer Swamy</td>\n      <td>0</td>\n      <td>1</td>\n      <td>1</td>\n      <td>1</td>\n      <td>0</td>\n      <td>0</td>\n      <td>1</td>\n      <td>0</td>\n      <td>1</td>\n      <td>...</td>\n      <td>0</td>\n      <td>0</td>\n      <td>0</td>\n      <td>1</td>\n      <td>0</td>\n      <td>1</td>\n      <td>1</td>\n      <td>0</td>\n      <td>1</td>\n      <td>0</td>\n    </tr>\n  </tbody>\n</table>\n<p>5 rows × 49 columns</p>\n</div>"
     },
     "metadata": {},
     "execution_count": 18
    }
   ],
   "source": [
    "second_attempt_df.head()"
   ]
  },
  {
   "cell_type": "code",
   "execution_count": 19,
   "metadata": {},
   "outputs": [
    {
     "output_type": "execute_result",
     "data": {
      "text/plain": [
       "      User_Name TC1SC1QC1 TC1SC1QC2 TC1SC1QC3 TC1SC1QC4 TC1SC1QC5 TC1SC1QC6  \\\n",
       "0    Rohan Garg         0         1         1         1         1         0   \n",
       "1   Taran Issac         0         1         1         0         1         1   \n",
       "2  Jayant Sarma         1         0         1         0         1         0   \n",
       "3  Krish Khalsa         0         1         0         0         1         1   \n",
       "4    Veer Swamy         1         0         0         1         0         0   \n",
       "\n",
       "  TC1SC2QC1 TC1SC2QC2 TC1SC2QC3  ... TC2SC3QC3 TC2SC3QC4 TC2SC3QC5 TC2SC3QC6  \\\n",
       "0         0         1         0  ...         0         1         1         1   \n",
       "1         0         0         0  ...         1         0         0         0   \n",
       "2         1         0         0  ...         1         0         1         1   \n",
       "3         0         0         0  ...         1         0         0         1   \n",
       "4         0         1         1  ...         0         1         1         1   \n",
       "\n",
       "  TC2SC4QC1 TC2SC4QC2 TC2SC4QC3 TC2SC4QC4 TC2SC4QC5 TC2SC4QC6  \n",
       "0         1         1         0         0         0         1  \n",
       "1         0         0         0         0         0         1  \n",
       "2         0         0         1         0         0         0  \n",
       "3         0         0         0         0         1         0  \n",
       "4         0         1         1         0         1         1  \n",
       "\n",
       "[5 rows x 49 columns]"
      ],
      "text/html": "<div>\n<style scoped>\n    .dataframe tbody tr th:only-of-type {\n        vertical-align: middle;\n    }\n\n    .dataframe tbody tr th {\n        vertical-align: top;\n    }\n\n    .dataframe thead th {\n        text-align: right;\n    }\n</style>\n<table border=\"1\" class=\"dataframe\">\n  <thead>\n    <tr style=\"text-align: right;\">\n      <th></th>\n      <th>User_Name</th>\n      <th>TC1SC1QC1</th>\n      <th>TC1SC1QC2</th>\n      <th>TC1SC1QC3</th>\n      <th>TC1SC1QC4</th>\n      <th>TC1SC1QC5</th>\n      <th>TC1SC1QC6</th>\n      <th>TC1SC2QC1</th>\n      <th>TC1SC2QC2</th>\n      <th>TC1SC2QC3</th>\n      <th>...</th>\n      <th>TC2SC3QC3</th>\n      <th>TC2SC3QC4</th>\n      <th>TC2SC3QC5</th>\n      <th>TC2SC3QC6</th>\n      <th>TC2SC4QC1</th>\n      <th>TC2SC4QC2</th>\n      <th>TC2SC4QC3</th>\n      <th>TC2SC4QC4</th>\n      <th>TC2SC4QC5</th>\n      <th>TC2SC4QC6</th>\n    </tr>\n  </thead>\n  <tbody>\n    <tr>\n      <th>0</th>\n      <td>Rohan Garg</td>\n      <td>0</td>\n      <td>1</td>\n      <td>1</td>\n      <td>1</td>\n      <td>1</td>\n      <td>0</td>\n      <td>0</td>\n      <td>1</td>\n      <td>0</td>\n      <td>...</td>\n      <td>0</td>\n      <td>1</td>\n      <td>1</td>\n      <td>1</td>\n      <td>1</td>\n      <td>1</td>\n      <td>0</td>\n      <td>0</td>\n      <td>0</td>\n      <td>1</td>\n    </tr>\n    <tr>\n      <th>1</th>\n      <td>Taran Issac</td>\n      <td>0</td>\n      <td>1</td>\n      <td>1</td>\n      <td>0</td>\n      <td>1</td>\n      <td>1</td>\n      <td>0</td>\n      <td>0</td>\n      <td>0</td>\n      <td>...</td>\n      <td>1</td>\n      <td>0</td>\n      <td>0</td>\n      <td>0</td>\n      <td>0</td>\n      <td>0</td>\n      <td>0</td>\n      <td>0</td>\n      <td>0</td>\n      <td>1</td>\n    </tr>\n    <tr>\n      <th>2</th>\n      <td>Jayant Sarma</td>\n      <td>1</td>\n      <td>0</td>\n      <td>1</td>\n      <td>0</td>\n      <td>1</td>\n      <td>0</td>\n      <td>1</td>\n      <td>0</td>\n      <td>0</td>\n      <td>...</td>\n      <td>1</td>\n      <td>0</td>\n      <td>1</td>\n      <td>1</td>\n      <td>0</td>\n      <td>0</td>\n      <td>1</td>\n      <td>0</td>\n      <td>0</td>\n      <td>0</td>\n    </tr>\n    <tr>\n      <th>3</th>\n      <td>Krish Khalsa</td>\n      <td>0</td>\n      <td>1</td>\n      <td>0</td>\n      <td>0</td>\n      <td>1</td>\n      <td>1</td>\n      <td>0</td>\n      <td>0</td>\n      <td>0</td>\n      <td>...</td>\n      <td>1</td>\n      <td>0</td>\n      <td>0</td>\n      <td>1</td>\n      <td>0</td>\n      <td>0</td>\n      <td>0</td>\n      <td>0</td>\n      <td>1</td>\n      <td>0</td>\n    </tr>\n    <tr>\n      <th>4</th>\n      <td>Veer Swamy</td>\n      <td>1</td>\n      <td>0</td>\n      <td>0</td>\n      <td>1</td>\n      <td>0</td>\n      <td>0</td>\n      <td>0</td>\n      <td>1</td>\n      <td>1</td>\n      <td>...</td>\n      <td>0</td>\n      <td>1</td>\n      <td>1</td>\n      <td>1</td>\n      <td>0</td>\n      <td>1</td>\n      <td>1</td>\n      <td>0</td>\n      <td>1</td>\n      <td>1</td>\n    </tr>\n  </tbody>\n</table>\n<p>5 rows × 49 columns</p>\n</div>"
     },
     "metadata": {},
     "execution_count": 19
    }
   ],
   "source": [
    "third_attempt_df.head()"
   ]
  },
  {
   "cell_type": "markdown",
   "metadata": {},
   "source": [
    "## Merging the different attempts dataframe into a final_dataframe"
   ]
  },
  {
   "cell_type": "code",
   "execution_count": 20,
   "metadata": {},
   "outputs": [
    {
     "output_type": "execute_result",
     "data": {
      "text/plain": [
       "            User_Name TA1SA1QA1 TA1SA1QA2 TA1SA1QA3 TA1SA1QA4 TA1SA1QA5  \\\n",
       "0          Rohan Garg         0         1         1         0         0   \n",
       "1         Taran Issac         1         0         1         0         0   \n",
       "2        Jayant Sarma         1         0         1         0         1   \n",
       "3        Krish Khalsa         0         0         0         0         1   \n",
       "4          Veer Swamy         0         0         0         0         0   \n",
       "...               ...       ...       ...       ...       ...       ...   \n",
       "1190    Zaina Agrawal         1         0         0         0         0   \n",
       "1191   Aayush Thakkar         1         0         1         1         1   \n",
       "1192  Parinaaz Mander         1         0         0         0         0   \n",
       "1193       Hunar Bali         1         0         0         0         1   \n",
       "1194    Seher Kashyap         1         0         1         1         0   \n",
       "\n",
       "     TA1SA1QA6 TA1SA2QA1 TA1SA2QA2 TA1SA2QA3  ... TB2SB3QB3 TB2SB3QB4  \\\n",
       "0            0         1         1         1  ...         1         1   \n",
       "1            0         0         1         1  ...         0         0   \n",
       "2            0         0         1         1  ...         0         1   \n",
       "3            0         1         1         0  ...         0         0   \n",
       "4            0         0         1         0  ...         0         0   \n",
       "...        ...       ...       ...       ...  ...       ...       ...   \n",
       "1190         0         0         1         0  ...         0         0   \n",
       "1191         1         0         1         0  ...         0         1   \n",
       "1192         0         0         1         1  ...         1         1   \n",
       "1193         0         0         0         0  ...         1         0   \n",
       "1194         1         0         0         0  ...         1         0   \n",
       "\n",
       "     TB2SB3QB5 TB2SB3QB6 TB2SB4QB1 TB2SB4QB2 TB2SB4QB3 TB2SB4QB4 TB2SB4QB5  \\\n",
       "0            1         0         1         0         0         1         1   \n",
       "1            1         1         0         1         1         1         0   \n",
       "2            0         0         1         0         0         0         0   \n",
       "3            1         1         0         1         0         1         0   \n",
       "4            0         1         0         1         1         0         1   \n",
       "...        ...       ...       ...       ...       ...       ...       ...   \n",
       "1190         1         0         0         1         1         1         1   \n",
       "1191         0         0         1         1         1         0         0   \n",
       "1192         1         0         0         0         0         0         1   \n",
       "1193         0         1         0         0         1         1         0   \n",
       "1194         1         0         1         0         1         1         1   \n",
       "\n",
       "     TB2SB4QB6  \n",
       "0            1  \n",
       "1            0  \n",
       "2            0  \n",
       "3            0  \n",
       "4            0  \n",
       "...        ...  \n",
       "1190         1  \n",
       "1191         0  \n",
       "1192         0  \n",
       "1193         0  \n",
       "1194         1  \n",
       "\n",
       "[1195 rows x 97 columns]"
      ],
      "text/html": "<div>\n<style scoped>\n    .dataframe tbody tr th:only-of-type {\n        vertical-align: middle;\n    }\n\n    .dataframe tbody tr th {\n        vertical-align: top;\n    }\n\n    .dataframe thead th {\n        text-align: right;\n    }\n</style>\n<table border=\"1\" class=\"dataframe\">\n  <thead>\n    <tr style=\"text-align: right;\">\n      <th></th>\n      <th>User_Name</th>\n      <th>TA1SA1QA1</th>\n      <th>TA1SA1QA2</th>\n      <th>TA1SA1QA3</th>\n      <th>TA1SA1QA4</th>\n      <th>TA1SA1QA5</th>\n      <th>TA1SA1QA6</th>\n      <th>TA1SA2QA1</th>\n      <th>TA1SA2QA2</th>\n      <th>TA1SA2QA3</th>\n      <th>...</th>\n      <th>TB2SB3QB3</th>\n      <th>TB2SB3QB4</th>\n      <th>TB2SB3QB5</th>\n      <th>TB2SB3QB6</th>\n      <th>TB2SB4QB1</th>\n      <th>TB2SB4QB2</th>\n      <th>TB2SB4QB3</th>\n      <th>TB2SB4QB4</th>\n      <th>TB2SB4QB5</th>\n      <th>TB2SB4QB6</th>\n    </tr>\n  </thead>\n  <tbody>\n    <tr>\n      <th>0</th>\n      <td>Rohan Garg</td>\n      <td>0</td>\n      <td>1</td>\n      <td>1</td>\n      <td>0</td>\n      <td>0</td>\n      <td>0</td>\n      <td>1</td>\n      <td>1</td>\n      <td>1</td>\n      <td>...</td>\n      <td>1</td>\n      <td>1</td>\n      <td>1</td>\n      <td>0</td>\n      <td>1</td>\n      <td>0</td>\n      <td>0</td>\n      <td>1</td>\n      <td>1</td>\n      <td>1</td>\n    </tr>\n    <tr>\n      <th>1</th>\n      <td>Taran Issac</td>\n      <td>1</td>\n      <td>0</td>\n      <td>1</td>\n      <td>0</td>\n      <td>0</td>\n      <td>0</td>\n      <td>0</td>\n      <td>1</td>\n      <td>1</td>\n      <td>...</td>\n      <td>0</td>\n      <td>0</td>\n      <td>1</td>\n      <td>1</td>\n      <td>0</td>\n      <td>1</td>\n      <td>1</td>\n      <td>1</td>\n      <td>0</td>\n      <td>0</td>\n    </tr>\n    <tr>\n      <th>2</th>\n      <td>Jayant Sarma</td>\n      <td>1</td>\n      <td>0</td>\n      <td>1</td>\n      <td>0</td>\n      <td>1</td>\n      <td>0</td>\n      <td>0</td>\n      <td>1</td>\n      <td>1</td>\n      <td>...</td>\n      <td>0</td>\n      <td>1</td>\n      <td>0</td>\n      <td>0</td>\n      <td>1</td>\n      <td>0</td>\n      <td>0</td>\n      <td>0</td>\n      <td>0</td>\n      <td>0</td>\n    </tr>\n    <tr>\n      <th>3</th>\n      <td>Krish Khalsa</td>\n      <td>0</td>\n      <td>0</td>\n      <td>0</td>\n      <td>0</td>\n      <td>1</td>\n      <td>0</td>\n      <td>1</td>\n      <td>1</td>\n      <td>0</td>\n      <td>...</td>\n      <td>0</td>\n      <td>0</td>\n      <td>1</td>\n      <td>1</td>\n      <td>0</td>\n      <td>1</td>\n      <td>0</td>\n      <td>1</td>\n      <td>0</td>\n      <td>0</td>\n    </tr>\n    <tr>\n      <th>4</th>\n      <td>Veer Swamy</td>\n      <td>0</td>\n      <td>0</td>\n      <td>0</td>\n      <td>0</td>\n      <td>0</td>\n      <td>0</td>\n      <td>0</td>\n      <td>1</td>\n      <td>0</td>\n      <td>...</td>\n      <td>0</td>\n      <td>0</td>\n      <td>0</td>\n      <td>1</td>\n      <td>0</td>\n      <td>1</td>\n      <td>1</td>\n      <td>0</td>\n      <td>1</td>\n      <td>0</td>\n    </tr>\n    <tr>\n      <th>...</th>\n      <td>...</td>\n      <td>...</td>\n      <td>...</td>\n      <td>...</td>\n      <td>...</td>\n      <td>...</td>\n      <td>...</td>\n      <td>...</td>\n      <td>...</td>\n      <td>...</td>\n      <td>...</td>\n      <td>...</td>\n      <td>...</td>\n      <td>...</td>\n      <td>...</td>\n      <td>...</td>\n      <td>...</td>\n      <td>...</td>\n      <td>...</td>\n      <td>...</td>\n      <td>...</td>\n    </tr>\n    <tr>\n      <th>1190</th>\n      <td>Zaina Agrawal</td>\n      <td>1</td>\n      <td>0</td>\n      <td>0</td>\n      <td>0</td>\n      <td>0</td>\n      <td>0</td>\n      <td>0</td>\n      <td>1</td>\n      <td>0</td>\n      <td>...</td>\n      <td>0</td>\n      <td>0</td>\n      <td>1</td>\n      <td>0</td>\n      <td>0</td>\n      <td>1</td>\n      <td>1</td>\n      <td>1</td>\n      <td>1</td>\n      <td>1</td>\n    </tr>\n    <tr>\n      <th>1191</th>\n      <td>Aayush Thakkar</td>\n      <td>1</td>\n      <td>0</td>\n      <td>1</td>\n      <td>1</td>\n      <td>1</td>\n      <td>1</td>\n      <td>0</td>\n      <td>1</td>\n      <td>0</td>\n      <td>...</td>\n      <td>0</td>\n      <td>1</td>\n      <td>0</td>\n      <td>0</td>\n      <td>1</td>\n      <td>1</td>\n      <td>1</td>\n      <td>0</td>\n      <td>0</td>\n      <td>0</td>\n    </tr>\n    <tr>\n      <th>1192</th>\n      <td>Parinaaz Mander</td>\n      <td>1</td>\n      <td>0</td>\n      <td>0</td>\n      <td>0</td>\n      <td>0</td>\n      <td>0</td>\n      <td>0</td>\n      <td>1</td>\n      <td>1</td>\n      <td>...</td>\n      <td>1</td>\n      <td>1</td>\n      <td>1</td>\n      <td>0</td>\n      <td>0</td>\n      <td>0</td>\n      <td>0</td>\n      <td>0</td>\n      <td>1</td>\n      <td>0</td>\n    </tr>\n    <tr>\n      <th>1193</th>\n      <td>Hunar Bali</td>\n      <td>1</td>\n      <td>0</td>\n      <td>0</td>\n      <td>0</td>\n      <td>1</td>\n      <td>0</td>\n      <td>0</td>\n      <td>0</td>\n      <td>0</td>\n      <td>...</td>\n      <td>1</td>\n      <td>0</td>\n      <td>0</td>\n      <td>1</td>\n      <td>0</td>\n      <td>0</td>\n      <td>1</td>\n      <td>1</td>\n      <td>0</td>\n      <td>0</td>\n    </tr>\n    <tr>\n      <th>1194</th>\n      <td>Seher Kashyap</td>\n      <td>1</td>\n      <td>0</td>\n      <td>1</td>\n      <td>1</td>\n      <td>0</td>\n      <td>1</td>\n      <td>0</td>\n      <td>0</td>\n      <td>0</td>\n      <td>...</td>\n      <td>1</td>\n      <td>0</td>\n      <td>1</td>\n      <td>0</td>\n      <td>1</td>\n      <td>0</td>\n      <td>1</td>\n      <td>1</td>\n      <td>1</td>\n      <td>1</td>\n    </tr>\n  </tbody>\n</table>\n<p>1195 rows × 97 columns</p>\n</div>"
     },
     "metadata": {},
     "execution_count": 20
    }
   ],
   "source": [
    "df=pd.merge(first_attempt_df,second_attempt_df, on='User_Name')\n",
    "df"
   ]
  },
  {
   "cell_type": "code",
   "execution_count": 21,
   "metadata": {},
   "outputs": [],
   "source": [
    "df_final=pd.merge(df,third_attempt_df, on='User_Name')"
   ]
  },
  {
   "cell_type": "markdown",
   "metadata": {},
   "source": [
    "# GOT THE FINAL_DATAFRAME"
   ]
  },
  {
   "cell_type": "code",
   "execution_count": 22,
   "metadata": {},
   "outputs": [
    {
     "output_type": "execute_result",
     "data": {
      "text/plain": [
       "            User_Name TA1SA1QA1 TA1SA1QA2 TA1SA1QA3 TA1SA1QA4 TA1SA1QA5  \\\n",
       "0          Rohan Garg         0         1         1         0         0   \n",
       "1         Taran Issac         1         0         1         0         0   \n",
       "2        Jayant Sarma         1         0         1         0         1   \n",
       "3        Krish Khalsa         0         0         0         0         1   \n",
       "4          Veer Swamy         0         0         0         0         0   \n",
       "...               ...       ...       ...       ...       ...       ...   \n",
       "1190    Zaina Agrawal         1         0         0         0         0   \n",
       "1191   Aayush Thakkar         1         0         1         1         1   \n",
       "1192  Parinaaz Mander         1         0         0         0         0   \n",
       "1193       Hunar Bali         1         0         0         0         1   \n",
       "1194    Seher Kashyap         1         0         1         1         0   \n",
       "\n",
       "     TA1SA1QA6 TA1SA2QA1 TA1SA2QA2 TA1SA2QA3  ... TC2SC3QC3 TC2SC3QC4  \\\n",
       "0            0         1         1         1  ...         0         1   \n",
       "1            0         0         1         1  ...         1         0   \n",
       "2            0         0         1         1  ...         1         0   \n",
       "3            0         1         1         0  ...         1         0   \n",
       "4            0         0         1         0  ...         0         1   \n",
       "...        ...       ...       ...       ...  ...       ...       ...   \n",
       "1190         0         0         1         0  ...         0         1   \n",
       "1191         1         0         1         0  ...         1         0   \n",
       "1192         0         0         1         1  ...         0         0   \n",
       "1193         0         0         0         0  ...         0         1   \n",
       "1194         1         0         0         0  ...         1         1   \n",
       "\n",
       "     TC2SC3QC5 TC2SC3QC6 TC2SC4QC1 TC2SC4QC2 TC2SC4QC3 TC2SC4QC4 TC2SC4QC5  \\\n",
       "0            1         1         1         1         0         0         0   \n",
       "1            0         0         0         0         0         0         0   \n",
       "2            1         1         0         0         1         0         0   \n",
       "3            0         1         0         0         0         0         1   \n",
       "4            1         1         0         1         1         0         1   \n",
       "...        ...       ...       ...       ...       ...       ...       ...   \n",
       "1190         0         1         0         0         1         0         1   \n",
       "1191         1         0         1         1         0         0         1   \n",
       "1192         1         0         0         0         1         0         1   \n",
       "1193         1         1         0         1         1         0         1   \n",
       "1194         1         1         1         0         1         0         0   \n",
       "\n",
       "     TC2SC4QC6  \n",
       "0            1  \n",
       "1            1  \n",
       "2            0  \n",
       "3            0  \n",
       "4            1  \n",
       "...        ...  \n",
       "1190         0  \n",
       "1191         1  \n",
       "1192         0  \n",
       "1193         1  \n",
       "1194         0  \n",
       "\n",
       "[1195 rows x 145 columns]"
      ],
      "text/html": "<div>\n<style scoped>\n    .dataframe tbody tr th:only-of-type {\n        vertical-align: middle;\n    }\n\n    .dataframe tbody tr th {\n        vertical-align: top;\n    }\n\n    .dataframe thead th {\n        text-align: right;\n    }\n</style>\n<table border=\"1\" class=\"dataframe\">\n  <thead>\n    <tr style=\"text-align: right;\">\n      <th></th>\n      <th>User_Name</th>\n      <th>TA1SA1QA1</th>\n      <th>TA1SA1QA2</th>\n      <th>TA1SA1QA3</th>\n      <th>TA1SA1QA4</th>\n      <th>TA1SA1QA5</th>\n      <th>TA1SA1QA6</th>\n      <th>TA1SA2QA1</th>\n      <th>TA1SA2QA2</th>\n      <th>TA1SA2QA3</th>\n      <th>...</th>\n      <th>TC2SC3QC3</th>\n      <th>TC2SC3QC4</th>\n      <th>TC2SC3QC5</th>\n      <th>TC2SC3QC6</th>\n      <th>TC2SC4QC1</th>\n      <th>TC2SC4QC2</th>\n      <th>TC2SC4QC3</th>\n      <th>TC2SC4QC4</th>\n      <th>TC2SC4QC5</th>\n      <th>TC2SC4QC6</th>\n    </tr>\n  </thead>\n  <tbody>\n    <tr>\n      <th>0</th>\n      <td>Rohan Garg</td>\n      <td>0</td>\n      <td>1</td>\n      <td>1</td>\n      <td>0</td>\n      <td>0</td>\n      <td>0</td>\n      <td>1</td>\n      <td>1</td>\n      <td>1</td>\n      <td>...</td>\n      <td>0</td>\n      <td>1</td>\n      <td>1</td>\n      <td>1</td>\n      <td>1</td>\n      <td>1</td>\n      <td>0</td>\n      <td>0</td>\n      <td>0</td>\n      <td>1</td>\n    </tr>\n    <tr>\n      <th>1</th>\n      <td>Taran Issac</td>\n      <td>1</td>\n      <td>0</td>\n      <td>1</td>\n      <td>0</td>\n      <td>0</td>\n      <td>0</td>\n      <td>0</td>\n      <td>1</td>\n      <td>1</td>\n      <td>...</td>\n      <td>1</td>\n      <td>0</td>\n      <td>0</td>\n      <td>0</td>\n      <td>0</td>\n      <td>0</td>\n      <td>0</td>\n      <td>0</td>\n      <td>0</td>\n      <td>1</td>\n    </tr>\n    <tr>\n      <th>2</th>\n      <td>Jayant Sarma</td>\n      <td>1</td>\n      <td>0</td>\n      <td>1</td>\n      <td>0</td>\n      <td>1</td>\n      <td>0</td>\n      <td>0</td>\n      <td>1</td>\n      <td>1</td>\n      <td>...</td>\n      <td>1</td>\n      <td>0</td>\n      <td>1</td>\n      <td>1</td>\n      <td>0</td>\n      <td>0</td>\n      <td>1</td>\n      <td>0</td>\n      <td>0</td>\n      <td>0</td>\n    </tr>\n    <tr>\n      <th>3</th>\n      <td>Krish Khalsa</td>\n      <td>0</td>\n      <td>0</td>\n      <td>0</td>\n      <td>0</td>\n      <td>1</td>\n      <td>0</td>\n      <td>1</td>\n      <td>1</td>\n      <td>0</td>\n      <td>...</td>\n      <td>1</td>\n      <td>0</td>\n      <td>0</td>\n      <td>1</td>\n      <td>0</td>\n      <td>0</td>\n      <td>0</td>\n      <td>0</td>\n      <td>1</td>\n      <td>0</td>\n    </tr>\n    <tr>\n      <th>4</th>\n      <td>Veer Swamy</td>\n      <td>0</td>\n      <td>0</td>\n      <td>0</td>\n      <td>0</td>\n      <td>0</td>\n      <td>0</td>\n      <td>0</td>\n      <td>1</td>\n      <td>0</td>\n      <td>...</td>\n      <td>0</td>\n      <td>1</td>\n      <td>1</td>\n      <td>1</td>\n      <td>0</td>\n      <td>1</td>\n      <td>1</td>\n      <td>0</td>\n      <td>1</td>\n      <td>1</td>\n    </tr>\n    <tr>\n      <th>...</th>\n      <td>...</td>\n      <td>...</td>\n      <td>...</td>\n      <td>...</td>\n      <td>...</td>\n      <td>...</td>\n      <td>...</td>\n      <td>...</td>\n      <td>...</td>\n      <td>...</td>\n      <td>...</td>\n      <td>...</td>\n      <td>...</td>\n      <td>...</td>\n      <td>...</td>\n      <td>...</td>\n      <td>...</td>\n      <td>...</td>\n      <td>...</td>\n      <td>...</td>\n      <td>...</td>\n    </tr>\n    <tr>\n      <th>1190</th>\n      <td>Zaina Agrawal</td>\n      <td>1</td>\n      <td>0</td>\n      <td>0</td>\n      <td>0</td>\n      <td>0</td>\n      <td>0</td>\n      <td>0</td>\n      <td>1</td>\n      <td>0</td>\n      <td>...</td>\n      <td>0</td>\n      <td>1</td>\n      <td>0</td>\n      <td>1</td>\n      <td>0</td>\n      <td>0</td>\n      <td>1</td>\n      <td>0</td>\n      <td>1</td>\n      <td>0</td>\n    </tr>\n    <tr>\n      <th>1191</th>\n      <td>Aayush Thakkar</td>\n      <td>1</td>\n      <td>0</td>\n      <td>1</td>\n      <td>1</td>\n      <td>1</td>\n      <td>1</td>\n      <td>0</td>\n      <td>1</td>\n      <td>0</td>\n      <td>...</td>\n      <td>1</td>\n      <td>0</td>\n      <td>1</td>\n      <td>0</td>\n      <td>1</td>\n      <td>1</td>\n      <td>0</td>\n      <td>0</td>\n      <td>1</td>\n      <td>1</td>\n    </tr>\n    <tr>\n      <th>1192</th>\n      <td>Parinaaz Mander</td>\n      <td>1</td>\n      <td>0</td>\n      <td>0</td>\n      <td>0</td>\n      <td>0</td>\n      <td>0</td>\n      <td>0</td>\n      <td>1</td>\n      <td>1</td>\n      <td>...</td>\n      <td>0</td>\n      <td>0</td>\n      <td>1</td>\n      <td>0</td>\n      <td>0</td>\n      <td>0</td>\n      <td>1</td>\n      <td>0</td>\n      <td>1</td>\n      <td>0</td>\n    </tr>\n    <tr>\n      <th>1193</th>\n      <td>Hunar Bali</td>\n      <td>1</td>\n      <td>0</td>\n      <td>0</td>\n      <td>0</td>\n      <td>1</td>\n      <td>0</td>\n      <td>0</td>\n      <td>0</td>\n      <td>0</td>\n      <td>...</td>\n      <td>0</td>\n      <td>1</td>\n      <td>1</td>\n      <td>1</td>\n      <td>0</td>\n      <td>1</td>\n      <td>1</td>\n      <td>0</td>\n      <td>1</td>\n      <td>1</td>\n    </tr>\n    <tr>\n      <th>1194</th>\n      <td>Seher Kashyap</td>\n      <td>1</td>\n      <td>0</td>\n      <td>1</td>\n      <td>1</td>\n      <td>0</td>\n      <td>1</td>\n      <td>0</td>\n      <td>0</td>\n      <td>0</td>\n      <td>...</td>\n      <td>1</td>\n      <td>1</td>\n      <td>1</td>\n      <td>1</td>\n      <td>1</td>\n      <td>0</td>\n      <td>1</td>\n      <td>0</td>\n      <td>0</td>\n      <td>0</td>\n    </tr>\n  </tbody>\n</table>\n<p>1195 rows × 145 columns</p>\n</div>"
     },
     "metadata": {},
     "execution_count": 22
    }
   ],
   "source": [
    "df_final"
   ]
  },
  {
   "cell_type": "markdown",
   "metadata": {},
   "source": [
    "## exporting the final_dataframe"
   ]
  },
  {
   "cell_type": "code",
   "execution_count": 23,
   "metadata": {},
   "outputs": [],
   "source": [
    "df_final.to_csv('all 3_times attempts_made_by_users.csv')"
   ]
  }
 ],
 "metadata": {
  "kernelspec": {
   "name": "python389jvsc74a57bd0e9232361202ee97135397d2052dd52534df8a2f1c7309bde38dff0b3159243c3",
   "display_name": "Python 3.8.9 64-bit ('PythonSoftwareFoundation.Python.3.8_qbz5n2kfra8p0')"
  },
  "language_info": {
   "codemirror_mode": {
    "name": "ipython",
    "version": 3
   },
   "file_extension": ".py",
   "mimetype": "text/x-python",
   "name": "python",
   "nbconvert_exporter": "python",
   "pygments_lexer": "ipython3",
   "version": "3.8.9"
  },
  "metadata": {
   "interpreter": {
    "hash": "e9232361202ee97135397d2052dd52534df8a2f1c7309bde38dff0b3159243c3"
   }
  }
 },
 "nbformat": 4,
 "nbformat_minor": 2
}